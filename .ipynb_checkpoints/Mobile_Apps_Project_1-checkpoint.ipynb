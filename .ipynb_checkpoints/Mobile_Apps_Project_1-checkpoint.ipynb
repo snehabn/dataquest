{
 "cells": [
  {
   "cell_type": "markdown",
   "metadata": {},
   "source": [
    "# Analysis of Android and iOS Apps Installations"
   ]
  },
  {
   "cell_type": "markdown",
   "metadata": {},
   "source": [
    "## Overview\n",
    "This project will explore data on user engagement with mobile applications in the App Store and Google Play that are available free of cost."
   ]
  },
  {
   "cell_type": "markdown",
   "metadata": {},
   "source": [
    "## Goal\n",
    "The goal of this data research is to understand better which types of mobile applications attract more users."
   ]
  },
  {
   "cell_type": "markdown",
   "metadata": {},
   "source": [
    "### Part 1 - Exploring Data\n",
    "Let's start by importing data on the App Store and Google Play. We will source the data from Kaggle. The [Google Play Data](https://www.kaggle.com/lava18/google-play-store-apps) has 9660 unique entries and the [Apps Store Data](https://www.kaggle.com/ramamet4/app-store-apple-data-set-10k-apps) has 7195 unique entries.\n",
    "\n",
    "Next we source the reader from the csv module and open the files."
   ]
  },
  {
   "cell_type": "code",
   "execution_count": 1,
   "metadata": {},
   "outputs": [],
   "source": [
    "from csv import reader\n",
    "\n",
    "### Apple Store Dataset ###\n",
    "os_opened_file = open('AppleStore.csv')\n",
    "os_read_file = reader(os_opened_file)\n",
    "os_apps_data = list(os_read_file)\n",
    "os_header = os_apps_data[0]\n",
    "os_content = os_apps_data[1:]\n",
    "\n",
    "### Google Play Dataset ###\n",
    "gp_opened_file = open('googleplaystore.csv')\n",
    "gp_read_file = reader(gp_opened_file)\n",
    "gp_apps_data = list(gp_read_file)\n",
    "gp_header = gp_apps_data[0]\n",
    "gp_content = gp_apps_data[1:]"
   ]
  },
  {
   "cell_type": "markdown",
   "metadata": {},
   "source": [
    "We are going to explore these datasets using the following `explore_data()` function. We are able to see what sort of information is available for each mobile app in both of these datasets. This preliminary analysis shows that the App Store dataset has 7,197 apps and the Google Play dataset has 10,841 apps. We further see that this data also has 16 and 13 columns of information for the App Store and Google Play, respectively."
   ]
  },
  {
   "cell_type": "code",
   "execution_count": 2,
   "metadata": {
    "scrolled": false
   },
   "outputs": [
    {
     "name": "stdout",
     "output_type": "stream",
     "text": [
      "Apple Store Dataset:\n",
      "['id', 'track_name', 'size_bytes', 'currency', 'price', 'rating_count_tot', 'rating_count_ver', 'user_rating', 'user_rating_ver', 'ver', 'cont_rating', 'prime_genre', 'sup_devices.num', 'ipadSc_urls.num', 'lang.num', 'vpp_lic']\n",
      "\n",
      "\n",
      "['512939461', 'Subway Surfers', '156038144', 'USD', '0.0', '706110', '97', '4.5', '4.0', '1.72.1', '9+', 'Games', '38', '5', '1', '1']\n",
      "\n",
      "\n",
      "['362949845', 'Fruit Ninja Classic', '104590336', 'USD', '1.99', '698516', '132', '4.5', '4.0', '2.3.9', '4+', 'Games', '38', '5', '13', '1']\n",
      "\n",
      "\n",
      "Number of rows: 7197\n",
      "Number of columns: 16\n",
      "\n",
      "\n",
      "Google Play Dataset:\n",
      "['App', 'Category', 'Rating', 'Reviews', 'Size', 'Installs', 'Type', 'Price', 'Content Rating', 'Genres', 'Last Updated', 'Current Ver', 'Android Ver']\n",
      "\n",
      "\n",
      "['Text on Photo - Fonteee', 'ART_AND_DESIGN', '4.4', '13880', '28M', '1,000,000+', 'Free', '0', 'Everyone', 'Art & Design', 'October 27, 2017', '1.0.4', '4.1 and up']\n",
      "\n",
      "\n",
      "['Name Art Photo Editor - Focus n Filters', 'ART_AND_DESIGN', '4.4', '8788', '12M', '1,000,000+', 'Free', '0', 'Everyone', 'Art & Design', 'July 31, 2018', '1.0.15', '4.0 and up']\n",
      "\n",
      "\n",
      "Number of rows: 10841\n",
      "Number of columns: 13\n"
     ]
    }
   ],
   "source": [
    "def explore_data(dataset, start, end, rows_and_columns=False):\n",
    "    dataset_slice = dataset[start:end]    \n",
    "    for row in dataset_slice:\n",
    "        print(row)\n",
    "        print('\\n') # adds a new (empty) line after each row\n",
    "\n",
    "    if rows_and_columns:\n",
    "        print('Number of rows:', len(dataset))\n",
    "        print('Number of columns:', len(dataset[0]))\n",
    "        \n",
    "print('Apple Store Dataset:')\n",
    "print(os_header)\n",
    "print('\\n')\n",
    "explore_data(os_content, 10, 12, True)\n",
    "\n",
    "print('\\n')\n",
    "\n",
    "print('Google Play Dataset:')\n",
    "print(gp_header)\n",
    "print('\\n')\n",
    "explore_data(gp_content, 10, 12, True)"
   ]
  },
  {
   "cell_type": "markdown",
   "metadata": {},
   "source": [
    "---"
   ]
  },
  {
   "cell_type": "markdown",
   "metadata": {},
   "source": [
    "## Data Cleanup\n",
    "### Part 1 - Identifying Missing and Duplicate Data\n",
    "Let's start our analysis first with the Google Play dataset. We see that there are a few discrepancies in the data, some entries have missing data, or there are multiples of the same entries. In this step we start the clean the data for more robust and reliable analysis.\n",
    "\n",
    "First let's sort out and remove datapoints that have incomplete information:"
   ]
  },
  {
   "cell_type": "code",
   "execution_count": 3,
   "metadata": {
    "scrolled": false
   },
   "outputs": [
    {
     "name": "stdout",
     "output_type": "stream",
     "text": [
      "['App', 'Category', 'Rating', 'Reviews', 'Size', 'Installs', 'Type', 'Price', 'Content Rating', 'Genres', 'Last Updated', 'Current Ver', 'Android Ver']\n",
      "\n",
      "\n",
      "['Life Made WI-Fi Touchscreen Photo Frame', '1.9', '19', '3.0M', '1,000+', 'Free', '0', 'Everyone', '', 'February 11, 2018', '1.0.19', '4.0 and up']\n",
      "\n",
      "\n",
      "Number of rows: 10841\n",
      "Number of columns: 13\n",
      "\n",
      "\n"
     ]
    },
    {
     "data": {
      "text/plain": [
       "['osmino Wi-Fi: free WiFi',\n",
       " 'TOOLS',\n",
       " '4.2',\n",
       " '134203',\n",
       " '4.1M',\n",
       " '10,000,000+',\n",
       " 'Free',\n",
       " '0',\n",
       " 'Everyone',\n",
       " 'Tools',\n",
       " 'August 7, 2018',\n",
       " '6.06.14',\n",
       " '4.4 and up']"
      ]
     },
     "execution_count": 3,
     "metadata": {},
     "output_type": "execute_result"
    }
   ],
   "source": [
    "print(gp_header)\n",
    "print('\\n')\n",
    "explore_data(gp_content, 10472, 10473, True)\n",
    "print('\\n')\n",
    "gp_content[10472]\n",
    "\n",
    "del gp_content[10472]\n",
    "gp_content[10472]"
   ]
  },
  {
   "cell_type": "markdown",
   "metadata": {},
   "source": [
    "Next, let check for duplicate entries. We initialize two lists, `gp_duplicate_apps` and `gp_unique_apps`. Next, we loop through the list `gp_content` and examine the name of each app. If the name is found in the list `gp_unique_apps`, the name is then additionally added to the `gp_duplicate_apps` list. Otherwise, the name of the app is appended to the list,`gp_unique_apps`."
   ]
  },
  {
   "cell_type": "code",
   "execution_count": 4,
   "metadata": {},
   "outputs": [
    {
     "name": "stdout",
     "output_type": "stream",
     "text": [
      "Number of duplicate apps: 1181\n",
      "\n",
      "\n",
      "Examples of duplicate apps: ['Quick PDF Scanner + OCR FREE', 'Box', 'Google My Business', 'ZOOM Cloud Meetings', 'join.me - Simple Meetings', 'Box', 'Zenefits', 'Google Ads', 'Google My Business', 'Slack', 'FreshBooks Classic', 'Insightly CRM', 'QuickBooks Accounting: Invoicing & Expenses', 'HipChat - Chat Built for Teams', 'Xero Accounting Software', 'MailChimp - Email, Marketing Automation', 'Crew - Free Messaging and Scheduling', 'Asana: organize team projects', 'Google Analytics', 'AdWords Express']\n"
     ]
    }
   ],
   "source": [
    "gp_duplicate_apps = []\n",
    "gp_unique_apps = []\n",
    "\n",
    "for app in gp_content:\n",
    "    name = app[0]\n",
    "    if name in gp_unique_apps:\n",
    "        gp_duplicate_apps.append(name)\n",
    "    else:\n",
    "        gp_unique_apps.append(name)\n",
    "        \n",
    "print('Number of duplicate apps:', len(gp_duplicate_apps))\n",
    "print('\\n')\n",
    "print('Examples of duplicate apps:', gp_duplicate_apps[:20])"
   ]
  },
  {
   "cell_type": "markdown",
   "metadata": {},
   "source": [
    "Here we can see there are quite a few duplicate entries in the dataset. There are many ways to distill this list to retain the correct versions. Two possible ways are by examining the reviews column or installs column. These columns show the total number of reviews and the total number of installs, respectively. By choosing to use the reviews column to analyze, we can ensure that the entry with the highest number of reviews is likely the most recent entry in the data."
   ]
  },
  {
   "cell_type": "code",
   "execution_count": 5,
   "metadata": {},
   "outputs": [
    {
     "name": "stdout",
     "output_type": "stream",
     "text": [
      "Expected length: 9659\n"
     ]
    }
   ],
   "source": [
    "print('Expected length:', len(gp_content)-1181)"
   ]
  },
  {
   "cell_type": "markdown",
   "metadata": {},
   "source": [
    "Quickly using the same method as above, let's check for any duplicate entries in the App Store data set:"
   ]
  },
  {
   "cell_type": "code",
   "execution_count": 6,
   "metadata": {},
   "outputs": [
    {
     "name": "stdout",
     "output_type": "stream",
     "text": [
      "Number of duplicate apps: 2\n",
      "\n",
      "\n",
      "Duplicate apps: ['Mannequin Challenge', 'VR Roller Coaster']\n",
      "Expected length: 7195\n"
     ]
    }
   ],
   "source": [
    "os_duplicate_apps = []\n",
    "os_unique_apps = []\n",
    "\n",
    "for app in os_content:\n",
    "    name = app[1]\n",
    "    if name in os_unique_apps:\n",
    "        os_duplicate_apps.append(name)\n",
    "    else:\n",
    "        os_unique_apps.append(name)\n",
    "        \n",
    "print('Number of duplicate apps:', len(os_duplicate_apps))\n",
    "print('\\n')\n",
    "print('Duplicate apps:', os_duplicate_apps)\n",
    "print('Expected length:', len(os_content)-2)"
   ]
  },
  {
   "cell_type": "markdown",
   "metadata": {},
   "source": [
    "### Part 2 - Consolidation of Multiple Data\n",
    "\n",
    "Here we loop through the Google Play content list and identify the maximum reviews for each application. We start with initializing a dictionary, `reviews_max`. Next, we loop through `gp_content`. If the name of the app is present in the `reviews_max` dictionary as a key **and** the number of reviews present in the dictionary value is less than the number if reviews for this app entry, we update the value. Otherwise if the name is not present in the dictionary, we add the name as a new key and review value."
   ]
  },
  {
   "cell_type": "code",
   "execution_count": 7,
   "metadata": {},
   "outputs": [
    {
     "name": "stdout",
     "output_type": "stream",
     "text": [
      "[('Funny Alarm Clock Ringtones', 15633.0), (\"Fill 'er Up\", 58.0), ('Lookout Security & Antivirus', 951413.0), ('Comics', 45651.0), ('Prosperity', 16.0), ('Dungeons and Dragons DM Tools', 50.0), ('Helix', 2454.0), ('DCUO|CR Calculator Pro', 82.0), ('Basketball Stars', 867920.0), ('EW PDF', 0.0)]\n"
     ]
    }
   ],
   "source": [
    "import random\n",
    "reviews_max = {}\n",
    "for app in gp_content:\n",
    "    name = app[0]\n",
    "    n_reviews = float(app[3])\n",
    "    \n",
    "    if name in reviews_max and reviews_max[name] < n_reviews:\n",
    "        reviews_max[name] = n_reviews\n",
    "        \n",
    "    elif name not in reviews_max:\n",
    "        reviews_max[name] = n_reviews\n",
    "\n",
    "\n",
    "print(random.sample( reviews_max.items(), 10 ))"
   ]
  },
  {
   "cell_type": "code",
   "execution_count": 8,
   "metadata": {},
   "outputs": [
    {
     "name": "stdout",
     "output_type": "stream",
     "text": [
      "9659\n"
     ]
    }
   ],
   "source": [
    "print(len(reviews_max))"
   ]
  },
  {
   "cell_type": "markdown",
   "metadata": {},
   "source": [
    "This dictionary provides a guide for cherry-picking the correct data out of the main dataset. The next step taken will generate a new list of data that only includes the most recent entries based on number of reviews.\n",
    "Here we initialize two empty lists, `android_clean` and `already_added`. Looping through the applications in `gp_content` we examine the number of reviews for each entry and set it as a float to the variable `n_reviews`. We then refer back to the dictionary, `reviews_max` that we created in the previous step to compare the value of each key to the value of `n_reviews`. If the values match and if the name of the app is not in the `already_added` list, we append the entry to the `android_clean` list and add in the entry to `aldready_added` list to prevent a repeat entry."
   ]
  },
  {
   "cell_type": "code",
   "execution_count": 9,
   "metadata": {
    "scrolled": true
   },
   "outputs": [
    {
     "name": "stdout",
     "output_type": "stream",
     "text": [
      "['Name Art Photo Editor - Focus n Filters', 'ART_AND_DESIGN', '4.4', '8788', '12M', '1,000,000+', 'Free', '0', 'Everyone', 'Art & Design', 'July 31, 2018', '1.0.15', '4.0 and up']\n"
     ]
    }
   ],
   "source": [
    "android_clean = []\n",
    "already_added = []\n",
    "\n",
    "for app in gp_content:\n",
    "    name = app[0]\n",
    "    n_reviews = float(app[3])\n",
    "    \n",
    "    if n_reviews == reviews_max[name] and name not in already_added:\n",
    "        android_clean.append(app)\n",
    "        already_added.append(name)\n",
    "\n",
    "print(android_clean[10])"
   ]
  },
  {
   "cell_type": "code",
   "execution_count": 10,
   "metadata": {},
   "outputs": [
    {
     "name": "stdout",
     "output_type": "stream",
     "text": [
      "9659\n"
     ]
    }
   ],
   "source": [
    "print(len(android_clean))"
   ]
  },
  {
   "cell_type": "markdown",
   "metadata": {},
   "source": [
    "Next we repeat the process to ensure that the data for the App Store is clean and has the most current information on each app."
   ]
  },
  {
   "cell_type": "code",
   "execution_count": 11,
   "metadata": {},
   "outputs": [
    {
     "name": "stdout",
     "output_type": "stream",
     "text": [
      "7195\n",
      "[('Dungeon Witcher', 5.0), ('Eagle Simulator', 1170.0), ('Unblock Me', 7973.0), ('にゃんちゅう', 0.0), ('Asphalt Xtreme: Offroad Rally Racing', 3960.0), ('Slots Real Las Vegas - Free Casino Slot Machine Games - Bet, Spin and Win Jackpot & Bonus', 115.0), ('PrestoBand Guitar and Piano', 0.0), ('same - 就是聊得来', 78.0), ('Lane Splitter', 44567.0), ('LOUD on Planet X', 23.0)]\n",
      "7195\n"
     ]
    }
   ],
   "source": [
    "print(len(os_unique_apps))\n",
    "os_reviews_max = {}\n",
    "\n",
    "for app in os_content:\n",
    "    name = app[1]\n",
    "    os_reviews = float(app[5])\n",
    "    \n",
    "    if name in os_reviews_max and os_reviews_max[name] < os_reviews:\n",
    "        os_reviews_max[name] = os_reviews\n",
    "    \n",
    "    elif name not in os_reviews_max:\n",
    "        os_reviews_max[name] = os_reviews\n",
    "print(random.sample( os_reviews_max.items(), 10 ))\n",
    "print(len(os_reviews_max))\n"
   ]
  },
  {
   "cell_type": "code",
   "execution_count": 12,
   "metadata": {
    "scrolled": true
   },
   "outputs": [
    {
     "name": "stdout",
     "output_type": "stream",
     "text": [
      "7195\n"
     ]
    }
   ],
   "source": [
    "os_clean = []\n",
    "os_already_added = []\n",
    "for app in os_content:\n",
    "    name = app[1]\n",
    "    os_reviews = float(app[5])\n",
    "    if os_reviews == os_reviews_max[name] and name not in os_already_added:\n",
    "        os_clean.append(app)\n",
    "        os_already_added.append(name)\n",
    "\n",
    "print(len(os_already_added))"
   ]
  },
  {
   "cell_type": "markdown",
   "metadata": {},
   "source": [
    "### Part 3 - Extraction of English-only Apps"
   ]
  },
  {
   "cell_type": "markdown",
   "metadata": {},
   "source": [
    "Next we will remove any non-english apps from the dataset by employing the ASCII system. Here we create a function that takes in an input of strings and examines if each character falls into the desired ASCII range. English characters are identifiable if they have an ASCII value between zero to 127, inclusive. "
   ]
  },
  {
   "cell_type": "code",
   "execution_count": 13,
   "metadata": {},
   "outputs": [],
   "source": [
    "def is_english(input_str):\n",
    "    for character in input_str:\n",
    "        if ord(character) > 127:\n",
    "            return False      \n",
    "    return True"
   ]
  },
  {
   "cell_type": "markdown",
   "metadata": {},
   "source": [
    "Next, let's test out the function on various types of strings:"
   ]
  },
  {
   "cell_type": "code",
   "execution_count": 14,
   "metadata": {},
   "outputs": [
    {
     "name": "stdout",
     "output_type": "stream",
     "text": [
      "True\n",
      "False\n",
      "False\n",
      "False\n"
     ]
    }
   ],
   "source": [
    "print(is_english('Instagram'))\n",
    "print(is_english('爱奇艺PPS -《欢乐颂2》电视剧热播'))\n",
    "print(is_english('Docs To Go™ Free Office Suite'))\n",
    "print(is_english('Instachat 😜'))"
   ]
  },
  {
   "cell_type": "markdown",
   "metadata": {},
   "source": [
    "There is a minor issue with the previously defined `is_english` function. It does not accept any special characters and emojis as they fall out of the ASCII range we have set. We will create another conditional where if there are more than three non-English characters, the function returns false."
   ]
  },
  {
   "cell_type": "code",
   "execution_count": 15,
   "metadata": {},
   "outputs": [],
   "source": [
    "def is_english(input_str):\n",
    "    non_eng = 0\n",
    "    for character in input_str:\n",
    "        if ord(character) > 127:\n",
    "            non_eng += 1\n",
    "            if non_eng > 3:\n",
    "                return False      \n",
    "    return True"
   ]
  },
  {
   "cell_type": "code",
   "execution_count": 16,
   "metadata": {},
   "outputs": [
    {
     "name": "stdout",
     "output_type": "stream",
     "text": [
      "True\n",
      "False\n",
      "True\n",
      "True\n"
     ]
    }
   ],
   "source": [
    "print(is_english('Instagram'))\n",
    "print(is_english('爱奇艺PPS -《欢乐颂2》电视剧热播'))\n",
    "print(is_english('Docs To Go™ Free Office Suite'))\n",
    "print(is_english('Instachat 😜'))"
   ]
  },
  {
   "cell_type": "code",
   "execution_count": 17,
   "metadata": {},
   "outputs": [
    {
     "name": "stdout",
     "output_type": "stream",
     "text": [
      "The number of english apps in Google Play is: 9614\n",
      "The number of english apps in App Store is: 6181\n"
     ]
    }
   ],
   "source": [
    "android_english = []\n",
    "for app in android_clean:\n",
    "    name = app[0]\n",
    "    if is_english(name):\n",
    "        android_english.append(app)\n",
    "        \n",
    "print('The number of english apps in Google Play is:', len(android_english))\n",
    "\n",
    "os_english = []\n",
    "for app in os_clean:\n",
    "    name = app[1]\n",
    "    if is_english(name):\n",
    "        os_english.append(app)\n",
    "\n",
    "print('The number of english apps in App Store is:', len(os_english))"
   ]
  },
  {
   "cell_type": "code",
   "execution_count": 18,
   "metadata": {},
   "outputs": [
    {
     "name": "stdout",
     "output_type": "stream",
     "text": [
      "[['Superheroes Wallpapers | 4K Backgrounds', 'ART_AND_DESIGN', '4.7', '7699', '4.2M', '500,000+', 'Free', '0', 'Everyone 10+', 'Art & Design', 'July 12, 2018', '2.2.6.2', '4.0.3 and up'], ['HD Mickey Minnie Wallpapers', 'ART_AND_DESIGN', '4.7', '118', '23M', '50,000+', 'Free', '0', 'Everyone', 'Art & Design', 'July 7, 2018', '1.1.3', '4.1 and up'], ['Harley Quinn wallpapers HD', 'ART_AND_DESIGN', '4.8', '192', '6.0M', '10,000+', 'Free', '0', 'Everyone', 'Art & Design', 'April 25, 2018', '1.5', '3.0 and up'], ['Colorfit - Drawing & Coloring', 'ART_AND_DESIGN', '4.7', '20260', '25M', '500,000+', 'Free', '0', 'Everyone', 'Art & Design;Creativity', 'October 11, 2017', '1.0.8', '4.0.3 and up']]\n",
      "\n",
      "\n",
      "The number of free apps in Google Play is: 8864\n",
      "The number of free apps in App Store is: 3220\n"
     ]
    }
   ],
   "source": [
    "from pprint import pprint\n",
    "android = []\n",
    "for app in android_english:\n",
    "    price = float(app[7].strip('$'))\n",
    "    if price == 0.0:\n",
    "        android.append(app)\n",
    "        \n",
    "# pprint --> prints lists in more organized manner        \n",
    "print(android[21:25])\n",
    "print('\\n')\n",
    "print('The number of free apps in Google Play is:', len(android))\n",
    "\n",
    "os = []\n",
    "for app in os_english:\n",
    "    price = app[4]\n",
    "    if price == '0.0':\n",
    "        os.append(app)\n",
    "        \n",
    "print('The number of free apps in App Store is:', len(os))"
   ]
  },
  {
   "cell_type": "markdown",
   "metadata": {},
   "source": [
    "---"
   ]
  },
  {
   "cell_type": "markdown",
   "metadata": {},
   "source": [
    "## Data Analysis"
   ]
  },
  {
   "cell_type": "markdown",
   "metadata": {},
   "source": [
    "### Most Common Apps by Genre"
   ]
  },
  {
   "cell_type": "markdown",
   "metadata": {},
   "source": [
    "The cleaned datasets are now ready for analysis. We will now explore the data using a previously defined function, `explore_data`, to determine which types of apps are most likely to be installed and used. Let's look to see which columns could prove to be most useful for analysis."
   ]
  },
  {
   "cell_type": "code",
   "execution_count": 19,
   "metadata": {},
   "outputs": [
    {
     "name": "stdout",
     "output_type": "stream",
     "text": [
      "Google Play Dataset:\n",
      "['App', 'Category', 'Rating', 'Reviews', 'Size', 'Installs', 'Type', 'Price', 'Content Rating', 'Genres', 'Last Updated', 'Current Ver', 'Android Ver']\n",
      "\n",
      "\n",
      "['Photo Editor & Candy Camera & Grid & ScrapBook', 'ART_AND_DESIGN', '4.1', '159', '19M', '10,000+', 'Free', '0', 'Everyone', 'Art & Design', 'January 7, 2018', '1.0.0', '4.0.3 and up']\n",
      "\n",
      "\n",
      "['U Launcher Lite – FREE Live Cool Themes, Hide Apps', 'ART_AND_DESIGN', '4.7', '87510', '8.7M', '5,000,000+', 'Free', '0', 'Everyone', 'Art & Design', 'August 1, 2018', '1.2.4', '4.0.3 and up']\n",
      "\n",
      "\n",
      "Number of rows: 8864\n",
      "Number of columns: 13\n",
      "\n",
      "\n",
      "Apple Store Dataset:\n",
      "['id', 'track_name', 'size_bytes', 'currency', 'price', 'rating_count_tot', 'rating_count_ver', 'user_rating', 'user_rating_ver', 'ver', 'cont_rating', 'prime_genre', 'sup_devices.num', 'ipadSc_urls.num', 'lang.num', 'vpp_lic']\n",
      "\n",
      "\n",
      "['284882215', 'Facebook', '389879808', 'USD', '0.0', '2974676', '212', '3.5', '3.5', '95.0', '4+', 'Social Networking', '37', '1', '29', '1']\n",
      "\n",
      "\n",
      "['389801252', 'Instagram', '113954816', 'USD', '0.0', '2161558', '1289', '4.5', '4.0', '10.23', '12+', 'Photo & Video', '37', '0', '29', '1']\n",
      "\n",
      "\n",
      "Number of rows: 3220\n",
      "Number of columns: 16\n"
     ]
    }
   ],
   "source": [
    "print('Google Play Dataset:')\n",
    "print(gp_header)\n",
    "print('\\n')\n",
    "explore_data(android, 0, 2, True)\n",
    "print('\\n')\n",
    "print('Apple Store Dataset:')\n",
    "print(os_header)\n",
    "print('\\n')\n",
    "explore_data(os, 0, 2, True)"
   ]
  },
  {
   "cell_type": "markdown",
   "metadata": {},
   "source": [
    "For the Google Play dataset, we can use the `Category` and `Genre` columns and for the Apple Store dataset, the `prime_genre` columns would prove most useful."
   ]
  },
  {
   "cell_type": "markdown",
   "metadata": {},
   "source": [
    "Next we will create a new function, `freq_table` that will return a frequency table of a column."
   ]
  },
  {
   "cell_type": "code",
   "execution_count": 20,
   "metadata": {},
   "outputs": [],
   "source": [
    "def freq_table(dataset, index):\n",
    "    freq = {}\n",
    "    for app in dataset:\n",
    "        genre = app[index]\n",
    "        if genre in freq:\n",
    "            freq[genre] += 1\n",
    "        else:\n",
    "            freq[genre] = 1\n",
    "    \n",
    "    freq_percent = {}\n",
    "    for genre in freq:\n",
    "        freq_percent[genre] = ((freq[genre]/len(dataset))*100)\n",
    "        \n",
    "    return freq_percent"
   ]
  },
  {
   "cell_type": "code",
   "execution_count": 21,
   "metadata": {},
   "outputs": [],
   "source": [
    "### provided by coursework\n",
    "def display_table(dataset, index):\n",
    "    table = freq_table(dataset, index)\n",
    "    table_display = []\n",
    "    for key in table:\n",
    "        key_val_as_tuple = (table[key], key)\n",
    "        table_display.append(key_val_as_tuple)\n",
    "\n",
    "    table_sorted = sorted(table_display, reverse = True)\n",
    "    for entry in table_sorted:\n",
    "        print(entry[1], ':', entry[0])"
   ]
  },
  {
   "cell_type": "markdown",
   "metadata": {},
   "source": [
    "Let us examine the frequency tables of the Google Play and the App Store data:"
   ]
  },
  {
   "cell_type": "markdown",
   "metadata": {},
   "source": [
    "App Store:"
   ]
  },
  {
   "cell_type": "markdown",
   "metadata": {},
   "source": [
    "Here we can observe that there is a significant majority present in the data. 58% of the free apps fall under the Games genre. The next common is Entertainment, at around 7.9%, followed by Photo & Video at almost 5%. There is a clear picture here that the most apps that make it to the App Store are games. Most other apps fall into single digit percentages, with only a couple percentage points separating them.\n",
    "\n",
    "Although most apps are categorized as games, we will have to investigate further to see if the most successful apps still fall under this genre. Some future analysis would include examining the number of ratings and average user ratings for each app."
   ]
  },
  {
   "cell_type": "code",
   "execution_count": 22,
   "metadata": {
    "scrolled": false
   },
   "outputs": [
    {
     "name": "stdout",
     "output_type": "stream",
     "text": [
      "Games : 58.13664596273293\n",
      "Entertainment : 7.888198757763975\n",
      "Photo & Video : 4.968944099378882\n",
      "Education : 3.6645962732919255\n",
      "Social Networking : 3.291925465838509\n",
      "Shopping : 2.608695652173913\n",
      "Utilities : 2.515527950310559\n",
      "Sports : 2.142857142857143\n",
      "Music : 2.049689440993789\n",
      "Health & Fitness : 2.018633540372671\n",
      "Productivity : 1.7391304347826086\n",
      "Lifestyle : 1.5838509316770186\n",
      "News : 1.3354037267080745\n",
      "Travel : 1.2422360248447204\n",
      "Finance : 1.1180124223602486\n",
      "Weather : 0.8695652173913043\n",
      "Food & Drink : 0.8074534161490683\n",
      "Reference : 0.5590062111801243\n",
      "Business : 0.5279503105590062\n",
      "Book : 0.43478260869565216\n",
      "Navigation : 0.18633540372670807\n",
      "Medical : 0.18633540372670807\n",
      "Catalogs : 0.12422360248447205\n"
     ]
    }
   ],
   "source": [
    "display_table(os, -5)"
   ]
  },
  {
   "cell_type": "markdown",
   "metadata": {},
   "source": [
    "Google Play (Genres):"
   ]
  },
  {
   "cell_type": "markdown",
   "metadata": {},
   "source": [
    "Immediately we can observe two main things about the Genres data table. First, the data is much more evenly spread out, and second there are many more genres. Here we see that the most common genre is Tools, containing almost 8.5% of all apps in the dataset. Similar to the App Store data, the second most common genre is Entertainment, at around 6.1%; followed by Education at around 5.3%.\n",
    "\n",
    "One interesting thing to note with this data set is that some genres seem to have sub-genres (ex: Education, Entertainment, etc...). This requires some extra clean up so that the data presented is more robust."
   ]
  },
  {
   "cell_type": "code",
   "execution_count": 23,
   "metadata": {
    "scrolled": false
   },
   "outputs": [
    {
     "name": "stdout",
     "output_type": "stream",
     "text": [
      "Tools : 8.449909747292418\n",
      "Entertainment : 6.069494584837545\n",
      "Education : 5.347472924187725\n",
      "Business : 4.591606498194946\n",
      "Productivity : 3.892148014440433\n",
      "Lifestyle : 3.892148014440433\n",
      "Finance : 3.7003610108303246\n",
      "Medical : 3.531137184115524\n",
      "Sports : 3.463447653429603\n",
      "Personalization : 3.3167870036101084\n",
      "Communication : 3.2378158844765346\n",
      "Action : 3.1024368231046933\n",
      "Health & Fitness : 3.0798736462093865\n",
      "Photography : 2.944494584837545\n",
      "News & Magazines : 2.7978339350180503\n",
      "Social : 2.6624548736462095\n",
      "Travel & Local : 2.3240072202166067\n",
      "Shopping : 2.2450361010830324\n",
      "Books & Reference : 2.1435018050541514\n",
      "Simulation : 2.0419675090252705\n",
      "Dating : 1.861462093862816\n",
      "Arcade : 1.8501805054151623\n",
      "Video Players & Editors : 1.7712093862815883\n",
      "Casual : 1.7599277978339352\n",
      "Maps & Navigation : 1.3989169675090252\n",
      "Food & Drink : 1.2409747292418771\n",
      "Puzzle : 1.128158844765343\n",
      "Racing : 0.9927797833935018\n",
      "Role Playing : 0.9363718411552346\n",
      "Libraries & Demo : 0.9363718411552346\n",
      "Auto & Vehicles : 0.9250902527075812\n",
      "Strategy : 0.9138086642599278\n",
      "House & Home : 0.8235559566787004\n",
      "Weather : 0.8009927797833934\n",
      "Events : 0.7107400722021661\n",
      "Adventure : 0.6768953068592057\n",
      "Comics : 0.6092057761732852\n",
      "Beauty : 0.5979241877256317\n",
      "Art & Design : 0.5979241877256317\n",
      "Parenting : 0.4963898916967509\n",
      "Card : 0.45126353790613716\n",
      "Casino : 0.42870036101083037\n",
      "Trivia : 0.41741877256317694\n",
      "Educational;Education : 0.39485559566787\n",
      "Board : 0.3835740072202166\n",
      "Educational : 0.3722924187725632\n",
      "Education;Education : 0.33844765342960287\n",
      "Word : 0.2594765342960289\n",
      "Casual;Pretend Play : 0.236913357400722\n",
      "Music : 0.2030685920577617\n",
      "Racing;Action & Adventure : 0.16922382671480143\n",
      "Puzzle;Brain Games : 0.16922382671480143\n",
      "Entertainment;Music & Video : 0.16922382671480143\n",
      "Casual;Brain Games : 0.13537906137184114\n",
      "Casual;Action & Adventure : 0.13537906137184114\n",
      "Arcade;Action & Adventure : 0.12409747292418773\n",
      "Action;Action & Adventure : 0.10153429602888085\n",
      "Educational;Pretend Play : 0.09025270758122744\n",
      "Simulation;Action & Adventure : 0.078971119133574\n",
      "Parenting;Education : 0.078971119133574\n",
      "Entertainment;Brain Games : 0.078971119133574\n",
      "Board;Brain Games : 0.078971119133574\n",
      "Parenting;Music & Video : 0.06768953068592057\n",
      "Educational;Brain Games : 0.06768953068592057\n",
      "Casual;Creativity : 0.06768953068592057\n",
      "Art & Design;Creativity : 0.06768953068592057\n",
      "Education;Pretend Play : 0.056407942238267145\n",
      "Role Playing;Pretend Play : 0.04512635379061372\n",
      "Education;Creativity : 0.04512635379061372\n",
      "Role Playing;Action & Adventure : 0.033844765342960284\n",
      "Puzzle;Action & Adventure : 0.033844765342960284\n",
      "Entertainment;Creativity : 0.033844765342960284\n",
      "Entertainment;Action & Adventure : 0.033844765342960284\n",
      "Educational;Creativity : 0.033844765342960284\n",
      "Educational;Action & Adventure : 0.033844765342960284\n",
      "Education;Music & Video : 0.033844765342960284\n",
      "Education;Brain Games : 0.033844765342960284\n",
      "Education;Action & Adventure : 0.033844765342960284\n",
      "Adventure;Action & Adventure : 0.033844765342960284\n",
      "Video Players & Editors;Music & Video : 0.02256317689530686\n",
      "Sports;Action & Adventure : 0.02256317689530686\n",
      "Simulation;Pretend Play : 0.02256317689530686\n",
      "Puzzle;Creativity : 0.02256317689530686\n",
      "Music;Music & Video : 0.02256317689530686\n",
      "Entertainment;Pretend Play : 0.02256317689530686\n",
      "Casual;Education : 0.02256317689530686\n",
      "Board;Action & Adventure : 0.02256317689530686\n",
      "Video Players & Editors;Creativity : 0.01128158844765343\n",
      "Trivia;Education : 0.01128158844765343\n",
      "Travel & Local;Action & Adventure : 0.01128158844765343\n",
      "Tools;Education : 0.01128158844765343\n",
      "Strategy;Education : 0.01128158844765343\n",
      "Strategy;Creativity : 0.01128158844765343\n",
      "Strategy;Action & Adventure : 0.01128158844765343\n",
      "Simulation;Education : 0.01128158844765343\n",
      "Role Playing;Brain Games : 0.01128158844765343\n",
      "Racing;Pretend Play : 0.01128158844765343\n",
      "Puzzle;Education : 0.01128158844765343\n",
      "Parenting;Brain Games : 0.01128158844765343\n",
      "Music & Audio;Music & Video : 0.01128158844765343\n",
      "Lifestyle;Pretend Play : 0.01128158844765343\n",
      "Lifestyle;Education : 0.01128158844765343\n",
      "Health & Fitness;Education : 0.01128158844765343\n",
      "Health & Fitness;Action & Adventure : 0.01128158844765343\n",
      "Entertainment;Education : 0.01128158844765343\n",
      "Communication;Creativity : 0.01128158844765343\n",
      "Comics;Creativity : 0.01128158844765343\n",
      "Casual;Music & Video : 0.01128158844765343\n",
      "Card;Action & Adventure : 0.01128158844765343\n",
      "Books & Reference;Education : 0.01128158844765343\n",
      "Art & Design;Pretend Play : 0.01128158844765343\n",
      "Art & Design;Action & Adventure : 0.01128158844765343\n",
      "Arcade;Pretend Play : 0.01128158844765343\n",
      "Adventure;Education : 0.01128158844765343\n"
     ]
    }
   ],
   "source": [
    "display_table(android, -4)"
   ]
  },
  {
   "cell_type": "markdown",
   "metadata": {},
   "source": [
    "Google Play (Category):"
   ]
  },
  {
   "cell_type": "markdown",
   "metadata": {},
   "source": [
    "While the Genres column in the previous analysis is more granular, this dataset looking at categories is cleaner and more concise. It can be more successfully compared to the App Store data set.\n",
    "\n",
    "There are some hard contrasts that can be seen here versus the App Store data. The top category here is Family, at almost 19% of all apps. Game(s) is still a top category, but the margins are very low. Tools is the third highest category.\n",
    "\n",
    "The spread of the frequency of the types of apps in the Google Play store is still more evenly distributed than in the App Store."
   ]
  },
  {
   "cell_type": "code",
   "execution_count": 24,
   "metadata": {},
   "outputs": [
    {
     "name": "stdout",
     "output_type": "stream",
     "text": [
      "FAMILY : 18.907942238267147\n",
      "GAME : 9.724729241877256\n",
      "TOOLS : 8.461191335740072\n",
      "BUSINESS : 4.591606498194946\n",
      "LIFESTYLE : 3.9034296028880866\n",
      "PRODUCTIVITY : 3.892148014440433\n",
      "FINANCE : 3.7003610108303246\n",
      "MEDICAL : 3.531137184115524\n",
      "SPORTS : 3.395758122743682\n",
      "PERSONALIZATION : 3.3167870036101084\n",
      "COMMUNICATION : 3.2378158844765346\n",
      "HEALTH_AND_FITNESS : 3.0798736462093865\n",
      "PHOTOGRAPHY : 2.944494584837545\n",
      "NEWS_AND_MAGAZINES : 2.7978339350180503\n",
      "SOCIAL : 2.6624548736462095\n",
      "TRAVEL_AND_LOCAL : 2.33528880866426\n",
      "SHOPPING : 2.2450361010830324\n",
      "BOOKS_AND_REFERENCE : 2.1435018050541514\n",
      "DATING : 1.861462093862816\n",
      "VIDEO_PLAYERS : 1.7937725631768955\n",
      "MAPS_AND_NAVIGATION : 1.3989169675090252\n",
      "FOOD_AND_DRINK : 1.2409747292418771\n",
      "EDUCATION : 1.1620036101083033\n",
      "ENTERTAINMENT : 0.9589350180505415\n",
      "LIBRARIES_AND_DEMO : 0.9363718411552346\n",
      "AUTO_AND_VEHICLES : 0.9250902527075812\n",
      "HOUSE_AND_HOME : 0.8235559566787004\n",
      "WEATHER : 0.8009927797833934\n",
      "EVENTS : 0.7107400722021661\n",
      "PARENTING : 0.6543321299638989\n",
      "ART_AND_DESIGN : 0.6430505415162455\n",
      "COMICS : 0.6204873646209386\n",
      "BEAUTY : 0.5979241877256317\n"
     ]
    }
   ],
   "source": [
    "display_table(android, 1)"
   ]
  },
  {
   "cell_type": "markdown",
   "metadata": {},
   "source": [
    "Overall, games is a dominant app genre present in both marketplaces. However, this analysis does not prove that games apps are the most succesful of all the different genres. For that it is also important to take into account user feedback, in the form of ratings, total number of ratings, and total number of users."
   ]
  },
  {
   "cell_type": "markdown",
   "metadata": {},
   "source": [
    "### Most Popular Apps by Genre"
   ]
  },
  {
   "cell_type": "markdown",
   "metadata": {},
   "source": [
    "Next, let's look at what information can be gathered based on how popular these apps are with users. In this step of the analysis we will be examining the average number of user ratings per genre. "
   ]
  },
  {
   "cell_type": "markdown",
   "metadata": {},
   "source": [
    "#### App Store "
   ]
  },
  {
   "cell_type": "markdown",
   "metadata": {},
   "source": [
    "Here we create a nested loop to extract the number of average user reviews for each genre. First we create the first loop, that goes through each unique genre in the dataset. Within this loop we initialize two variables: `total` to store the total number of user ratings, and `len_genre` to store the number of apps in each genre. The second loop, which resides within the first loop, then goes through each app in the dataset and increases the `total` by the number of ratings and adds up the number of apps in that genre. Lastly, we compute the `average_user_ratings` by dividing the `total` by `len_genre`."
   ]
  },
  {
   "cell_type": "code",
   "execution_count": 25,
   "metadata": {},
   "outputs": [
    {
     "name": "stdout",
     "output_type": "stream",
     "text": [
      "Average Number of User Ratings By Genre:\n",
      "Social Networking : 71548.34905660378\n",
      "Photo & Video : 28441.54375\n",
      "Games : 22812.92467948718\n",
      "Music : 57326.530303030304\n",
      "Reference : 74942.11111111111\n",
      "Health & Fitness : 23298.015384615384\n",
      "Weather : 52279.892857142855\n",
      "Utilities : 18684.456790123455\n",
      "Travel : 28243.8\n",
      "Shopping : 26919.690476190477\n",
      "News : 21248.023255813954\n",
      "Navigation : 86090.33333333333\n",
      "Lifestyle : 16485.764705882353\n",
      "Entertainment : 14029.830708661417\n",
      "Food & Drink : 33333.92307692308\n",
      "Sports : 23008.898550724636\n",
      "Book : 39758.5\n",
      "Finance : 31467.944444444445\n",
      "Education : 7003.983050847458\n",
      "Productivity : 21028.410714285714\n",
      "Business : 7491.117647058823\n",
      "Catalogs : 4004.0\n",
      "Medical : 612.0\n"
     ]
    }
   ],
   "source": [
    "os_genres = freq_table(os, -5)\n",
    "print('Average Number of User Ratings By Genre:')\n",
    "\n",
    "for genre in os_genres:\n",
    "    total = 0\n",
    "    len_genre = 0\n",
    "    for app in os:\n",
    "        genre_app = app[-5]\n",
    "        if genre_app == genre:\n",
    "            total += float(app[5]) #rating\n",
    "            len_genre += 1\n",
    "    average_user_ratings = total/len_genre\n",
    "    print(genre, ':', average_user_ratings)"
   ]
  },
  {
   "cell_type": "markdown",
   "metadata": {},
   "source": [
    "From this perspective, it certainly appears that Navigation and Reference apps have the most user reviews in the App Store, followed very closely by Social Networking. "
   ]
  },
  {
   "cell_type": "markdown",
   "metadata": {},
   "source": [
    "If we take the top-most genre, Navigation, and explore a bit further we can see that only a couple of apps, in this case, Waze and Googe Maps dominate the number of users. This is the same scenario for the Reference and Social Networking genres as well."
   ]
  },
  {
   "cell_type": "code",
   "execution_count": 26,
   "metadata": {
    "scrolled": false
   },
   "outputs": [
    {
     "name": "stdout",
     "output_type": "stream",
     "text": [
      "Navigation:\n",
      "Waze - GPS Navigation, Maps & Real-time Traffic : 345046\n",
      "Google Maps - Navigation & Transit : 154911\n",
      "Geocaching® : 12811\n",
      "CoPilot GPS – Car Navigation & Offline Maps : 3582\n",
      "ImmobilienScout24: Real Estate Search in Germany : 187\n",
      "Railway Route Search : 5\n",
      "\n",
      "\n",
      "Reference:\n",
      "Bible : 985920\n",
      "Dictionary.com Dictionary & Thesaurus : 200047\n",
      "Dictionary.com Dictionary & Thesaurus for iPad : 54175\n",
      "Google Translate : 26786\n",
      "Muslim Pro: Ramadan 2017 Prayer Times, Azan, Quran : 18418\n",
      "New Furniture Mods - Pocket Wiki & Game Tools for Minecraft PC Edition : 17588\n",
      "Merriam-Webster Dictionary : 16849\n",
      "Night Sky : 12122\n",
      "City Maps for Minecraft PE - The Best Maps for Minecraft Pocket Edition (MCPE) : 8535\n",
      "LUCKY BLOCK MOD ™ for Minecraft PC Edition - The Best Pocket Wiki & Mods Installer Tools : 4693\n",
      "GUNS MODS for Minecraft PC Edition - Mods Tools : 1497\n",
      "Guides for Pokémon GO - Pokemon GO News and Cheats : 826\n",
      "WWDC : 762\n",
      "Horror Maps for Minecraft PE - Download The Scariest Maps for Minecraft Pocket Edition (MCPE) Free : 718\n",
      "VPN Express : 14\n",
      "Real Bike Traffic Rider Virtual Reality Glasses : 8\n",
      "教えて!goo : 0\n",
      "Jishokun-Japanese English Dictionary & Translator : 0\n",
      "\n",
      "\n",
      "Social Networking:\n",
      "Facebook : 2974676\n",
      "Pinterest : 1061624\n",
      "Skype for iPhone : 373519\n",
      "Messenger : 351466\n",
      "Tumblr : 334293\n",
      "WhatsApp Messenger : 287589\n",
      "Kik : 260965\n",
      "ooVoo – Free Video Call, Text and Voice : 177501\n",
      "TextNow - Unlimited Text + Calls : 164963\n",
      "Viber Messenger – Text & Call : 164249\n",
      "Followers - Social Analytics For Instagram : 112778\n",
      "MeetMe - Chat and Meet New People : 97072\n",
      "We Heart It - Fashion, wallpapers, quotes, tattoos : 90414\n",
      "InsTrack for Instagram - Analytics Plus More : 85535\n",
      "Tango - Free Video Call, Voice and Chat : 75412\n",
      "LinkedIn : 71856\n",
      "Match™ - #1 Dating App. : 60659\n",
      "Skype for iPad : 60163\n",
      "POF - Best Dating App for Conversations : 52642\n",
      "Timehop : 49510\n",
      "Find My Family, Friends & iPhone - Life360 Locator : 43877\n",
      "Whisper - Share, Express, Meet : 39819\n",
      "Hangouts : 36404\n",
      "LINE PLAY - Your Avatar World : 34677\n",
      "WeChat : 34584\n",
      "Badoo - Meet New People, Chat, Socialize. : 34428\n",
      "Followers + for Instagram - Follower Analytics : 28633\n",
      "GroupMe : 28260\n",
      "Marco Polo Video Walkie Talkie : 27662\n",
      "Miitomo : 23965\n",
      "SimSimi : 23530\n",
      "Grindr - Gay and same sex guys chat, meet and date : 23201\n",
      "Wishbone - Compare Anything : 20649\n",
      "imo video calls and chat : 18841\n",
      "After School - Funny Anonymous School News : 18482\n",
      "Quick Reposter - Repost, Regram and Reshare Photos : 17694\n",
      "Weibo HD : 16772\n",
      "Repost for Instagram : 15185\n",
      "Live.me – Live Video Chat & Make Friends Nearby : 14724\n",
      "Nextdoor : 14402\n",
      "Followers Analytics for Instagram - InstaReport : 13914\n",
      "YouNow: Live Stream Video Chat : 12079\n",
      "FollowMeter for Instagram - Followers Tracking : 11976\n",
      "LINE : 11437\n",
      "eHarmony™ Dating App - Meet Singles : 11124\n",
      "Discord - Chat for Gamers : 9152\n",
      "QQ : 9109\n",
      "Telegram Messenger : 7573\n",
      "Weibo : 7265\n",
      "Periscope - Live Video Streaming Around the World : 6062\n",
      "Chat for Whatsapp - iPad Version : 5060\n",
      "QQ HD : 5058\n",
      "Followers Analysis Tool For Instagram App Free : 4253\n",
      "live.ly - live video streaming : 4145\n",
      "Houseparty - Group Video Chat : 3991\n",
      "SOMA Messenger : 3232\n",
      "Monkey : 3060\n",
      "Down To Lunch : 2535\n",
      "Flinch - Video Chat Staring Contest : 2134\n",
      "Highrise - Your Avatar Community : 2011\n",
      "LOVOO - Dating Chat : 1985\n",
      "PlayStation®Messages : 1918\n",
      "BOO! - Video chat camera with filters & stickers : 1805\n",
      "Qzone : 1649\n",
      "Chatous - Chat with new people : 1609\n",
      "Kiwi - Q&A : 1538\n",
      "GhostCodes - a discovery app for Snapchat : 1313\n",
      "Jodel : 1193\n",
      "FireChat : 1037\n",
      "Google Duo - simple video calling : 1033\n",
      "Fiesta by Tango - Chat & Meet New People : 885\n",
      "Google Allo — smart messaging : 862\n",
      "Peach — share vividly : 727\n",
      "Hey! VINA - Where Women Meet New Friends : 719\n",
      "Battlefield™ Companion : 689\n",
      "All Devices for WhatsApp - Messenger for iPad : 682\n",
      "Chat for Pokemon Go - GoChat : 500\n",
      "IAmNaughty – Dating App to Meet New People Online : 463\n",
      "Qzone HD : 458\n",
      "Zenly - Locate your friends in realtime : 427\n",
      "League of Legends Friends : 420\n",
      "豆瓣 : 407\n",
      "Candid - Speak Your Mind Freely : 398\n",
      "知乎 : 397\n",
      "Selfeo : 366\n",
      "Fake-A-Location Free ™ : 354\n",
      "Popcorn Buzz - Free Group Calls : 281\n",
      "Fam — Group video calling for iMessage : 279\n",
      "QQ International : 274\n",
      "Ameba : 269\n",
      "SoundCloud Pulse: for creators : 240\n",
      "Tantan : 235\n",
      "Cougar Dating & Life Style App for Mature Women : 213\n",
      "Rawr Messenger - Dab your chat : 180\n",
      "WhenToPost: Best Time to Post Photos for Instagram : 158\n",
      "Inke—Broadcast an amazing life : 147\n",
      "Mustknow - anonymous video Q&A : 53\n",
      "CTFxCmoji : 39\n",
      "Lobi : 36\n",
      "Chain: Collaborate On MyVideo Story/Group Video : 35\n",
      "botman - Real time video chat : 7\n",
      "BestieBox : 0\n",
      "MATCH ON LINE chat : 0\n",
      "niconico ch : 0\n",
      "LINE BLOG : 0\n",
      "bit-tube - Live Stream Video Chat : 0\n"
     ]
    }
   ],
   "source": [
    "print('Navigation:')\n",
    "for app in os:\n",
    "    if app[-5] == 'Navigation':\n",
    "        print(app[1], ':', app[5])\n",
    "print('\\n')\n",
    "print('Reference:')\n",
    "for app in os:\n",
    "    if app[-5] == 'Reference':\n",
    "        print(app[1], ':', app[5])\n",
    "print('\\n')\n",
    "print('Social Networking:')\n",
    "for app in os:\n",
    "    if app[-5] == 'Social Networking':\n",
    "        print(app[1], ':', app[5])"
   ]
  },
  {
   "cell_type": "markdown",
   "metadata": {},
   "source": [
    "#### Google Play"
   ]
  },
  {
   "cell_type": "markdown",
   "metadata": {},
   "source": [
    "We perform a similar analysis on the Google Play store to determine the most popular apps. Here we are able to make use of the `'Installs'` column to directly analyze the popularity of each category of apps."
   ]
  },
  {
   "cell_type": "code",
   "execution_count": 27,
   "metadata": {
    "scrolled": false
   },
   "outputs": [
    {
     "name": "stdout",
     "output_type": "stream",
     "text": [
      "{'ART_AND_DESIGN': 1986335.0877192982,\n",
      " 'AUTO_AND_VEHICLES': 647317.8170731707,\n",
      " 'BEAUTY': 513151.88679245283,\n",
      " 'BOOKS_AND_REFERENCE': 8767811.894736841,\n",
      " 'BUSINESS': 1712290.1474201474,\n",
      " 'COMICS': 817657.2727272727,\n",
      " 'COMMUNICATION': 38456119.167247385,\n",
      " 'DATING': 854028.8303030303,\n",
      " 'EDUCATION': 1833495.145631068,\n",
      " 'ENTERTAINMENT': 11640705.88235294,\n",
      " 'EVENTS': 253542.22222222222,\n",
      " 'FAMILY': 3695641.8198090694,\n",
      " 'FINANCE': 1387692.475609756,\n",
      " 'FOOD_AND_DRINK': 1924897.7363636363,\n",
      " 'GAME': 15588015.603248259,\n",
      " 'HEALTH_AND_FITNESS': 4188821.9853479853,\n",
      " 'HOUSE_AND_HOME': 1331540.5616438356,\n",
      " 'LIBRARIES_AND_DEMO': 638503.734939759,\n",
      " 'LIFESTYLE': 1437816.2687861272,\n",
      " 'MAPS_AND_NAVIGATION': 4056941.7741935486,\n",
      " 'MEDICAL': 120550.61980830671,\n",
      " 'NEWS_AND_MAGAZINES': 9549178.467741935,\n",
      " 'PARENTING': 542603.6206896552,\n",
      " 'PERSONALIZATION': 5201482.6122448975,\n",
      " 'PHOTOGRAPHY': 17840110.40229885,\n",
      " 'PRODUCTIVITY': 16787331.344927534,\n",
      " 'SHOPPING': 7036877.311557789,\n",
      " 'SOCIAL': 23253652.127118643,\n",
      " 'SPORTS': 3638640.1428571427,\n",
      " 'TOOLS': 10801391.298666667,\n",
      " 'TRAVEL_AND_LOCAL': 13984077.710144928,\n",
      " 'VIDEO_PLAYERS': 24727872.452830188,\n",
      " 'WEATHER': 5074486.197183099}\n"
     ]
    }
   ],
   "source": [
    "android_freq = freq_table(android, 1)\n",
    "android_dict = {}\n",
    "for category in android_freq:\n",
    "    total = 0\n",
    "    len_category = 0\n",
    "    for app in android:\n",
    "        category_app = app[1]\n",
    "        if category_app == category:\n",
    "            n_installs = app[5]\n",
    "            n_installs = n_installs.replace(',', '')\n",
    "            n_installs = n_installs.replace('+', '')\n",
    "            total += float(n_installs)\n",
    "            len_category += 1\n",
    "    avg_installs = total / len_category\n",
    "    android_dict[category] = avg_installs\n",
    "    #print(category, ':', avg_installs)\n",
    "pprint(android_dict)"
   ]
  },
  {
   "cell_type": "markdown",
   "metadata": {},
   "source": [
    "This data is not easily reviewed due to the number of categories and float values. To determine the top ten categories, we run a quick sort and loop through the resulting list to show the respective average installs."
   ]
  },
  {
   "cell_type": "code",
   "execution_count": 28,
   "metadata": {},
   "outputs": [
    {
     "name": "stdout",
     "output_type": "stream",
     "text": [
      "COMMUNICATION : 38456119.167247385\n",
      "VIDEO_PLAYERS : 24727872.452830188\n",
      "SOCIAL : 23253652.127118643\n",
      "PHOTOGRAPHY : 17840110.40229885\n",
      "PRODUCTIVITY : 16787331.344927534\n",
      "GAME : 15588015.603248259\n",
      "TRAVEL_AND_LOCAL : 13984077.710144928\n",
      "ENTERTAINMENT : 11640705.88235294\n",
      "TOOLS : 10801391.298666667\n",
      "NEWS_AND_MAGAZINES : 9549178.467741935\n"
     ]
    }
   ],
   "source": [
    "top_android = sorted(android_dict, key=android_dict.get, reverse=True)[:10]\n",
    "\n",
    "for category in top_android:\n",
    "    print(category, ':', android_dict[category])\n",
    "    "
   ]
  },
  {
   "cell_type": "markdown",
   "metadata": {},
   "source": [
    "The top three categories in the Google Play store are Communication, Video Players, and Social. Unlike the App Store, the Game category falls at sixth place, clearly showing the diversity of applications and their popularity, available in the Google Play store.\n",
    "\n",
    "Let's explore the top three categories:"
   ]
  },
  {
   "cell_type": "code",
   "execution_count": 29,
   "metadata": {
    "scrolled": false
   },
   "outputs": [
    {
     "name": "stdout",
     "output_type": "stream",
     "text": [
      "Above 1B installs:\n",
      "WhatsApp Messenger : 1,000,000,000+\n",
      "Messenger – Text and Video Chat for Free : 1,000,000,000+\n",
      "Skype - free IM & video calls : 1,000,000,000+\n",
      "Google Chrome: Fast & Secure : 1,000,000,000+\n",
      "Gmail : 1,000,000,000+\n",
      "Hangouts : 1,000,000,000+\n",
      "\n",
      "\n",
      "Above 500M installs:\n",
      "Google Duo - High Quality Video Calls : 500,000,000+\n",
      "imo free video calls and chat : 500,000,000+\n",
      "LINE: Free Calls & Messages : 500,000,000+\n",
      "UC Browser - Fast Download Private & Secure : 500,000,000+\n",
      "Viber Messenger : 500,000,000+\n"
     ]
    }
   ],
   "source": [
    "print('Above 1B installs:')\n",
    "for app in android:   \n",
    "    if app[1] == 'COMMUNICATION' and (app[5] == '1,000,000,000+'):\n",
    "        print(app[0], ':', app[5])  \n",
    "print('\\n')\n",
    "print('Above 500M installs:')\n",
    "for app in android:\n",
    "    if app[1] == 'COMMUNICATION' and (app[5] == '500,000,000+'):\n",
    "        print(app[0], ':', app[5])"
   ]
  },
  {
   "cell_type": "markdown",
   "metadata": {},
   "source": [
    "The Communications category had the highest average number of installs. We can see here that similar to the App Store, a handful of apps are responsible for skewing the data. There are six apps that clock in over a billion installs each, while there are 5 more that account for half a billion installs each."
   ]
  },
  {
   "cell_type": "code",
   "execution_count": 34,
   "metadata": {},
   "outputs": [
    {
     "name": "stdout",
     "output_type": "stream",
     "text": [
      "Above 1B installs:\n",
      "YouTube : 1,000,000,000+\n",
      "Google Play Movies & TV : 1,000,000,000+\n",
      "\n",
      "\n",
      "Above 500M installs:\n",
      "MX Player : 500,000,000+\n",
      "\n",
      "\n",
      "Above 100M installs:\n",
      "Motorola Gallery : 100,000,000+\n",
      "VLC for Android : 100,000,000+\n",
      "Dubsmash : 100,000,000+\n",
      "VivaVideo - Video Editor & Photo Movie : 100,000,000+\n",
      "VideoShow-Video Editor, Video Maker, Beauty Camera : 100,000,000+\n",
      "Motorola FM Radio : 100,000,000+\n",
      "\n",
      "\n",
      "Above 50M installs:\n",
      "Vote for : 50,000,000+\n",
      "Vigo Video : 50,000,000+\n",
      "MiniMovie - Free Video and Slideshow Editor : 50,000,000+\n",
      "Samsung Video Library : 50,000,000+\n",
      "LIKE – Magic Video Maker & Community : 50,000,000+\n",
      "DU Recorder – Screen Recorder, Video Editor, Live : 50,000,000+\n",
      "KineMaster – Pro Video Editor : 50,000,000+\n",
      "VMate : 50,000,000+\n",
      "HD Video Downloader : 2018 Best video mate : 50,000,000+\n",
      "Ringdroid : 50,000,000+\n"
     ]
    }
   ],
   "source": [
    "print('Above 1B installs:')\n",
    "for app in android:   \n",
    "    if app[1] == 'VIDEO_PLAYERS'and (app[5] == '1,000,000,000+'):\n",
    "        print(app[0], ':', app[5]) \n",
    "print('\\n')\n",
    "print('Above 500M installs:')\n",
    "for app in android:   \n",
    "    if app[1] == 'VIDEO_PLAYERS'and (app[5] == '500,000,000+'):\n",
    "        print(app[0], ':', app[5])\n",
    "print('\\n')\n",
    "print('Above 100M installs:')\n",
    "for app in android:   \n",
    "    if app[1] == 'VIDEO_PLAYERS'and (app[5] == '100,000,000+'):\n",
    "        print(app[0], ':', app[5]) \n",
    "print('\\n')\n",
    "print('Above 50M installs:')\n",
    "for app in android:   \n",
    "    if app[1] == 'VIDEO_PLAYERS'and (app[5] == '50,000,000+'):\n",
    "        print(app[0], ':', app[5])         "
   ]
  },
  {
   "cell_type": "markdown",
   "metadata": {},
   "source": [
    "The second highest category, Video Players also has a couple of apps that skew the data, but this category actually consists of a more even spread of number of installs. "
   ]
  },
  {
   "cell_type": "code",
   "execution_count": 35,
   "metadata": {},
   "outputs": [
    {
     "name": "stdout",
     "output_type": "stream",
     "text": [
      "Above 1B installs:\n",
      "Facebook : 1,000,000,000+\n",
      "Google+ : 1,000,000,000+\n",
      "Instagram : 1,000,000,000+\n",
      "\n",
      "\n",
      "Above 500M installs:\n",
      "Facebook Lite : 500,000,000+\n",
      "Snapchat : 500,000,000+\n",
      "\n",
      "\n",
      "Above 100M installs:\n",
      "Tumblr : 100,000,000+\n",
      "Pinterest : 100,000,000+\n",
      "Badoo - Free Chat & Dating App : 100,000,000+\n",
      "Tango - Live Video Broadcast : 100,000,000+\n",
      "LinkedIn : 100,000,000+\n",
      "Tik Tok - including musical.ly : 100,000,000+\n",
      "BIGO LIVE - Live Stream : 100,000,000+\n",
      "VK : 100,000,000+\n"
     ]
    }
   ],
   "source": [
    "print('Above 1B installs:')\n",
    "for app in android:   \n",
    "    if app[1] == 'SOCIAL'and (app[5] == '1,000,000,000+'):\n",
    "        print(app[0], ':', app[5]) \n",
    "print('\\n')\n",
    "print('Above 500M installs:')\n",
    "for app in android:   \n",
    "    if app[1] == 'SOCIAL'and (app[5] == '500,000,000+'):\n",
    "        print(app[0], ':', app[5]) \n",
    "print('\\n')\n",
    "print('Above 100M installs:')\n",
    "for app in android:   \n",
    "    if app[1] == 'SOCIAL'and (app[5] == '100,000,000+'):\n",
    "        print(app[0], ':', app[5]) "
   ]
  },
  {
   "cell_type": "markdown",
   "metadata": {},
   "source": [
    "Finally in third place is social media applications. As expected, the top three applications in this category are Facebook, Google+, and Instagram, with more than a billion installs each. Technically, the Facebook installs is over 1.5 billion if we pool in Facebook Lite. Other prominent applications that make up the majority of the installs include Snapchat, Tumblr, Pinterest, Badoo, Tango, LinkedIn, and Tik Tok. "
   ]
  },
  {
   "cell_type": "markdown",
   "metadata": {},
   "source": [
    "While Communications, Video Player, and Social are the top three categories in the Google Play store, it is evident that there are a handful of applications whose installs severely skew the data. It it also important to note some additional observations. \n",
    "1.  These large applications are backed by and are the main product of large corporations. The progress that these companies have made towards these products has been many years and many contributors in the making.\n",
    "2. According to [statcounter](https://gs.statcounter.com/os-market-share/mobile/worldwide)\n",
    "![Barchart of Mobile OS!](/StatCounter-os_combined-ww-monthly-202009-202109-bar.png \"Mobile OS Stats\")"
   ]
  },
  {
   "cell_type": "code",
   "execution_count": 37,
   "metadata": {
    "scrolled": false
   },
   "outputs": [
    {
     "name": "stdout",
     "output_type": "stream",
     "text": [
      "Solitaire : 10,000,000+\n",
      "Sonic Dash : 100,000,000+\n",
      "PAC-MAN : 100,000,000+\n",
      "Bubble Witch 3 Saga : 50,000,000+\n",
      "Race the Traffic Moto : 10,000,000+\n",
      "Marble - Temple Quest : 10,000,000+\n",
      "Shooting King : 10,000,000+\n",
      "Geometry Dash World : 10,000,000+\n",
      "Jungle Marble Blast : 5,000,000+\n",
      "Roll the Ball® - slide puzzle : 100,000,000+\n",
      "Block Craft 3D: Building Simulator Games For Free : 50,000,000+\n",
      "Farm Fruit Pop: Party Time : 1,000,000+\n",
      "Love Balls : 50,000,000+\n",
      "Piano Tiles 2™ : 100,000,000+\n",
      "Pokémon GO : 100,000,000+\n",
      "Paint Hit : 10,000,000+\n",
      "Snake VS Block : 50,000,000+\n",
      "Rolly Vortex : 10,000,000+\n",
      "Woody Puzzle : 1,000,000+\n",
      "Stack Jump : 10,000,000+\n",
      "The Cube : 5,000,000+\n",
      "Extreme Car Driving Simulator : 100,000,000+\n",
      "Bricks n Balls : 1,000,000+\n",
      "The Fish Master! : 1,000,000+\n",
      "Color Road : 10,000,000+\n",
      "Draw In : 10,000,000+\n",
      "PLANK! : 500,000+\n",
      "Looper! : 1,000,000+\n",
      "Trivia Crack : 100,000,000+\n",
      "Will it Crush? : 5,000,000+\n",
      "Tomb of the Mask : 5,000,000+\n",
      "Baseball Boy! : 10,000,000+\n",
      "Hello Stars : 10,000,000+\n",
      "Tank Stars : 10,000,000+\n",
      "Hole.io : 10,000,000+\n",
      "Mini Golf King - Multiplayer Game : 5,000,000+\n",
      "Flip the Gun - Simulator Game : 10,000,000+\n",
      "Mad Skills BMX 2 : 1,000,000+\n",
      "MMX Hill Dash 2 – Offroad Truck, Car & Bike Racing : 1,000,000+\n",
      "Word Link : 10,000,000+\n",
      "Last Day on Earth: Survival : 10,000,000+\n",
      "Partymasters - Fun Idle Game : 10,000,000+\n",
      "Harry Potter: Hogwarts Mystery : 10,000,000+\n",
      "Offroad Outlaws : 1,000,000+\n",
      "Grim Soul: Dark Fantasy Survival : 5,000,000+\n",
      "Disney Heroes: Battle Mode : 5,000,000+\n",
      "New YAHTZEE® With Buddies Dice Game : 5,000,000+\n",
      "Word Crossy - A crossword game : 5,000,000+\n",
      "MLB TAP SPORTS BASEBALL 2018 : 1,000,000+\n",
      "Hero Hunters : 5,000,000+\n",
      "Cooking Madness - A Chef's Restaurant Games : 10,000,000+\n",
      "Ice Crush 2018 - A new Puzzle Matching Adventure : 1,000,000+\n",
      "TerraGenesis - Space Colony : 1,000,000+\n",
      "SHADOWGUN LEGENDS : 1,000,000+\n",
      "RULES OF SURVIVAL : 10,000,000+\n",
      "Mafia City : 10,000,000+\n",
      "Cash, Inc. Money Clicker Game & Business Adventure : 10,000,000+\n",
      "Dino War: Rise of Beasts : 1,000,000+\n",
      "Tokyo Ghoul: Dark War : 1,000,000+\n",
      "Last Shelter: Survival : 5,000,000+\n",
      "Guns of Glory : 10,000,000+\n",
      "Lineage 2: Revolution : 5,000,000+\n",
      "Final Fantasy XV: A New Empire : 10,000,000+\n",
      "Girls' Frontline : 100,000+\n",
      "Chapters: Interactive Stories : 1,000,000+\n",
      "Honkai Impact 3rd : 1,000,000+\n",
      "Master of Eternity(MOE) : 100,000+\n",
      "Angry Birds 2 : 100,000,000+\n",
      "PUBG MOBILE : 50,000,000+\n",
      "The Sims™ FreePlay : 10,000,000+\n",
      "Best Fiends - Free Puzzle Game : 10,000,000+\n",
      "Jurassic World™ Alive : 5,000,000+\n",
      "Choices: Stories You Play : 10,000,000+\n",
      "Solitaire TriPeaks : 10,000,000+\n",
      "Merge Dragons! : 5,000,000+\n",
      "The Walking Dead: Road to Survival : 10,000,000+\n",
      "Hustle Castle: Fantasy Kingdom : 10,000,000+\n",
      "Might & Magic: Elemental Guardians : 500,000+\n",
      "Game of Thrones: Conquest™ : 1,000,000+\n",
      "Love Nikki-Dress UP Queen : 5,000,000+\n",
      "Summoners War : 50,000,000+\n",
      "FINAL FANTASY BRAVE EXVIUS : 5,000,000+\n",
      "Fate/Grand Order (English) : 500,000+\n",
      "Lords Mobile: Battle of the Empires - Strategy RPG : 50,000,000+\n",
      "War and Order : 5,000,000+\n",
      "Candy Crush Saga : 500,000,000+\n",
      "8 Ball Pool : 100,000,000+\n",
      "Subway Surfers : 1,000,000,000+\n",
      "Candy Crush Soda Saga : 100,000,000+\n",
      "Toon Blast : 10,000,000+\n",
      "Toy Blast : 50,000,000+\n",
      "Clash Royale : 100,000,000+\n",
      "Clash of Clans : 100,000,000+\n",
      "Plants vs. Zombies FREE : 100,000,000+\n",
      "Block Puzzle : 5,000,000+\n",
      "Super Jim Jump - pixel 3d : 1,000,000+\n",
      "Pou : 500,000,000+\n",
      "Flow Free : 100,000,000+\n",
      "Homescapes : 10,000,000+\n",
      "Wordscapes : 10,000,000+\n",
      "My Talking Angela : 100,000,000+\n",
      "slither.io : 100,000,000+\n",
      "Cooking Fever : 100,000,000+\n",
      "Yes day : 100,000,000+\n",
      "Gardenscapes : 50,000,000+\n",
      "Fishdom : 10,000,000+\n",
      "Galaxy Attack: Alien Shooter : 10,000,000+\n",
      "Score! Hero : 100,000,000+\n",
      "Magic Tiles 3 : 50,000,000+\n",
      "Jewels Star: OZ adventure : 1,000,000+\n",
      "Granny : 50,000,000+\n",
      "Dream League Soccer 2018 : 100,000,000+\n",
      "Sweet Fruit Candy : 10,000,000+\n",
      "Fruits Bomb : 10,000,000+\n",
      "My Talking Tom : 500,000,000+\n",
      "Sniper 3D Gun Shooter: Free Shooting Games - FPS : 100,000,000+\n",
      "Shoot Bubble - Fruit Splash : 5,000,000+\n",
      "Rider : 10,000,000+\n",
      "Zombie Tsunami : 100,000,000+\n",
      "Doodle Jump : 50,000,000+\n",
      "Helix Jump : 100,000,000+\n",
      "Crossy Road : 100,000,000+\n",
      "Temple Run 2 : 500,000,000+\n",
      "Talking Tom Gold Run : 100,000,000+\n",
      "Alto's Adventure : 10,000,000+\n",
      "DEER HUNTER 2018 : 10,000,000+\n",
      "Cover Fire: offline shooting games for free : 10,000,000+\n",
      "Anger of stick 5 : zombie : 50,000,000+\n",
      "CATS: Crash Arena Turbo Stars : 50,000,000+\n",
      "Soul Knight : 10,000,000+\n",
      "Major Mayhem : 10,000,000+\n",
      "DINO HUNTER: DEADLY SHORES : 10,000,000+\n",
      "Extreme Match : 100,000+\n",
      "Power Rangers Dino Charge : 10,000,000+\n",
      "Zombie Hunter: Post Apocalypse Survival Games : 10,000,000+\n",
      "Agar.io : 100,000,000+\n",
      "Zombie Hunter King : 1,000,000+\n",
      "Battlelands Royale : 1,000,000+\n",
      "Once Upon a Tower : 1,000,000+\n",
      "TEKKEN™ : 5,000,000+\n",
      "diep.io : 10,000,000+\n",
      "Arrow.io : 10,000,000+\n",
      "BEYBLADE BURST app : 10,000,000+\n",
      "Dragon Hills : 10,000,000+\n",
      "Bus Rush: Subway Edition : 100,000,000+\n",
      "Tiny Archers : 5,000,000+\n",
      "Runner 3d like : 100,000+\n",
      "War Robots : 50,000,000+\n",
      "Dinosaur Simulator: Dino World : 5,000,000+\n",
      "GUNSHIP BATTLE: Helicopter 3D : 50,000,000+\n",
      "Quiz: Logo game : 10,000,000+\n",
      "Jewels Legend - Match 3 Puzzle : 10,000,000+\n",
      "Bubble Shooter : 10,000,000+\n",
      "Bubble Shooter Genies : 5,000,000+\n",
      "Blossom Blast Saga : 10,000,000+\n",
      "Traffic Racer : 100,000,000+\n",
      "Hill Climb Racing : 100,000,000+\n",
      "Earn to Die 2 : 50,000,000+\n",
      "Bubble Shooter 2 : 5,000,000+\n",
      "Candy Bomb : 10,000,000+\n",
      "Zombie Catchers : 10,000,000+\n",
      "Gems or jewels ? : 10,000,000+\n",
      "Angry Birds Rio : 100,000,000+\n",
      "Candy Crush Jelly Saga : 50,000,000+\n",
      "Cut the Rope FULL FREE : 100,000,000+\n",
      "Hungry Shark Evolution : 100,000,000+\n",
      "Power Pop Bubbles : 10,000,000+\n",
      "Angry Birds Classic : 100,000,000+\n",
      "Hill Climb Racing 2 : 100,000,000+\n",
      "Jewels classic Prince : 5,000,000+\n",
      "Fruit Block - Puzzle Legend : 10,000,000+\n",
      "Bubble Shooter Space : 1,000,000+\n",
      "Swamp Attack : 50,000,000+\n",
      "1LINE – One Line with One Touch : 10,000,000+\n",
      "Stick War: Legacy : 10,000,000+\n",
      "Bowmasters : 50,000,000+\n",
      "Block Puzzle Classic Legend ! : 5,000,000+\n",
      "Marble Woka Woka 2018 - Bubble Shooter Match 3 : 10,000,000+\n",
      "Pixel Art: Color by Number Game : 10,000,000+\n",
      "Super Jabber Jump 3 : 5,000,000+\n",
      "Rush : 10,000,000+\n",
      "Jetpack Joyride : 100,000,000+\n",
      "DEAD TARGET: FPS Zombie Apocalypse Survival Games : 50,000,000+\n",
      "Word Search : 50,000,000+\n",
      "Rope Hero Return of a Legend : 1,000,000+\n",
      "Draw a Stickman: EPIC 2 Free : 10,000,000+\n",
      "UNO ™ & Friends : 50,000,000+\n",
      "4 in a Row : 500,000+\n",
      "Super Mario Run : 100,000,000+\n",
      "STARDOM: THE A-LIST : 1,000,000+\n",
      "Glow Hockey : 100,000,000+\n",
      "Asphalt 8: Airborne : 100,000,000+\n",
      "Lep's World 2 🍀🍀 : 100,000,000+\n",
      "Law of Creation: A Playable Manga : 500,000+\n",
      "Real City Car Driver : 10,000,000+\n",
      "Rolling Sky : 50,000,000+\n",
      "4 in a row : 5,000,000+\n",
      "Four In A Line Free : 5,000,000+\n",
      "Draw A Stickman : 1,000,000+\n",
      "Four In A Line : 1,000,000+\n",
      "Cardi B Piano Game : 10,000+\n",
      "MORTAL KOMBAT X : 10,000,000+\n",
      "► MultiCraft ― Free Miner! 👍 : 50,000,000+\n",
      "Pixel Gun 3D: Survival shooter & Battle Royale : 50,000,000+\n",
      "Perfect Piano : 50,000,000+\n",
      "Critical Ops : 10,000,000+\n",
      "FRONTLINE COMMANDO: D-DAY : 10,000,000+\n",
      "Fruit Ninja® : 100,000,000+\n",
      "Beach Buggy Blitz : 50,000,000+\n",
      "Vector : 100,000,000+\n",
      "Dr. Driving : 100,000,000+\n",
      "D Day World War II Commando Survival Shooting : 100,000+\n",
      "Geometry Dash Meltdown : 50,000,000+\n",
      "Bike Race Free - Top Motorcycle Racing Games : 100,000,000+\n",
      "Smash Hit : 100,000,000+\n",
      "Temple Run : 100,000,000+\n",
      "Super Car F. Mod for MCPE : 50,000+\n",
      "Gangstar Vegas - mafia game : 50,000,000+\n",
      "Rolling G Sky : 100,000+\n",
      "G-Switch 2 : 1,000,000+\n",
      "G-Switch 3 : 100,000+\n",
      "G-Switch : 100,000+\n",
      "Radial-G : Infinity : 50,000+\n",
      "Geometry Dash Lite : 100,000,000+\n",
      "Car Driving Simulator Drift : 1,000,000+\n",
      "RC City Police Heavy Traffic Racer : 1,000,000+\n",
      "Motorbike Driving Simulator 3D : 10,000,000+\n",
      "Helix : 500,000+\n",
      "Solitaire! : 10,000,000+\n",
      "iGun Pro -The Original Gun App : 10,000,000+\n",
      "NinJump : 10,000,000+\n",
      "Fidget Spinner : 10,000,000+\n",
      "J Balvin Piano Tiles : 500+\n",
      "Guess the song of J Balvin : 1,000+\n",
      "J-Stars Victory VS Guide : 10,000+\n",
      "KIM KARDASHIAN: HOLLYWOOD : 10,000,000+\n",
      "Magic Tiles - TWICE Edition (K-Pop) : 100,000+\n",
      "Magic Tiles - Blackpink Edition (K-Pop) : 100,000+\n",
      "Korean Dungeon: K-Word 1000 : 10,000+\n",
      "Lep's World 🍀 : 50,000,000+\n",
      "Ant Smasher by Best Cool & Fun Games : 100,000,000+\n",
      "Cheating Tom 3 - Genius School : 10,000,000+\n",
      "M3-X5-X6-M-İ3-İ8 RACİNG 2018 : 100,000+\n",
      "M-acceleration 3D Car Racing : 100,000+\n",
      "Super Hero M Craft Run : 100,000+\n",
      "Don't Hug Me I'm So Scared : 50,000+\n",
      "Rope'n'Fly 4 : 10,000,000+\n",
      "Cops N Robbers - FPS Mini Game : 5,000,000+\n",
      "Cops N Robbers 2 : 1,000,000+\n",
      "Hide N Seek : Mini Game : 500,000+\n",
      "Rope'n'Fly 3 - Dusk Till Dawn : 10,000,000+\n",
      "Drag'n'Boom : 1,000,000+\n",
      "Cops N Robbers : 1,000,000+\n",
      "Mopar Drag N Brag : 1,000,000+\n",
      "Draw N Guess Multiplayer : 1,000,000+\n",
      "Rock N' Cash Casino Slots -Free Vegas Slot Games : 100,000+\n",
      "Rock n Roll Music Quiz Game : 10,000+\n",
      "Drink-O-Tron The Drinking Game : 50,000+\n",
      "The Maze Runner : 10,000,000+\n",
      "The Q - Live Trivia Game Network : 100,000+\n",
      "Q*bert: Rebooted : 1,000,000+\n",
      "Gun Shoot War Q : 1,000,000+\n",
      "DJMAX TECHNIKA Q - Music Game : 100,000+\n",
      "Stupid Zombies : 10,000,000+\n",
      "Crime Wars S. Andreas : 500,000+\n",
      "Dino T-Rex : 10,000,000+\n",
      "U-48 Submarine Commander Free : 500,000+\n",
      "Identity V : 1,000,000+\n",
      "V for Voodoo : 1,000,000+\n",
      "Sin City Crime Simulator V - Gangster : 100,000+\n",
      "The Gang Sniper V. Pocket Edition. : 500,000+\n",
      "San Andreas: Gang Crime V : 100,000+\n",
      "Grand Stickman Cover V : 100,000+\n",
      "Words With Friends Classic : 50,000,000+\n",
      "Draw Something Classic : 50,000,000+\n",
      "Extreme X Ray Robot Stunts : 5,000,000+\n",
      "Casino X - Free Online Slots : 1,000,000+\n",
      "X-WOLF : 100,000+\n",
      "Hero Fighter X : 500,000+\n",
      "Slendrina X : 1,000,000+\n",
      "Robocar X Ray : 1,000,000+\n",
      "Space X: Sky Wars of Air Force : 1,000,000+\n",
      "Real Gangster Crime : 10,000,000+\n",
      "Gangster Town : 5,000,000+\n",
      "Rope Hero 3 : 5,000,000+\n",
      "Experiment Z - Zombie : 10,000,000+\n",
      "Z Champions : 1,000,000+\n",
      "WithstandZ - Zombie Survival! : 1,000,000+\n",
      "Zombie War Z : Hero Survival Rules : 100,000+\n",
      "DRAGON BALL Z DOKKAN BATTLE : 10,000,000+\n",
      "Cube Z (Pixel Zombies) : 1,000,000+\n",
      "GALAK-Z: Variant Mobile : 10,000+\n",
      "Reload: The Z-Team : 100,000+\n",
      "Rage Z: Multiplayer Zombie FPS Online Shooter : 500,000+\n",
      "Pixel Z Gunner 3D - Battle Survival Fps : 1,000,000+\n",
      "Saiyan Z: Super SSJ Ultimate Combat : 10,000+\n",
      "Mini DAYZ: Zombie Survival : 1,000,000+\n",
      "Route Z : 500,000+\n",
      "Dragon X Adventure: Warrior Z : 100,000+\n",
      "Ultimate Fighter Z : 5,000+\n",
      "Angry Birds Friends : 50,000,000+\n",
      "Angry Birds Go! : 50,000,000+\n",
      "Angry Birds Star Wars : 100,000,000+\n",
      "Solitaire: Decked Out Ad Free : 500,000+\n",
      "AE Jewels 2: Island Adventures : 10,000+\n",
      "AE Bingo: Offline Bingo Games : 500,000+\n",
      "AE Jewels : 50,000+\n",
      "AE Spider Solitaire : 500,000+\n",
      "AE Coin Mania : Arcade Fun : 1,000,000+\n",
      "Mupen64+AE FREE (N64 Emulator) : 1,000,000+\n",
      "AE Lucky Fishing : 1,000,000+\n",
      "AE Video Poker : 50,000+\n",
      "AE Solitaire : 50,000+\n",
      "AE Blackjack : 100,000+\n",
      "AE Gun Ball: arcade ball games : 1,000,000+\n",
      "AE 3D MOTOR :Racing Games Free : 5,000,000+\n",
      "AE GTO Racing : 100,000+\n",
      "AE 3D Moto 3 : 100,000+\n",
      "AE FreeCell : 10,000+\n",
      "AE City Jump : 10,000+\n",
      "AE Angry Chef : 10,000+\n",
      "AE Master Moto : 1,000,000+\n",
      "AE Fishing Hunter : 1,000+\n",
      "Gun Strike Shoot : 10,000,000+\n",
      "AG Drive 3D : 10,000+\n",
      "VR AG Racing for Cardboard : 1,000+\n",
      "AH-1 Viper Cobra Ops - helicopter flight simulator : 100,000+\n",
      "Ah! Coins : 50,000+\n",
      "Baby Game Animal Jam Free : 500+\n",
      "Blackjack aj Poker : 1,000+\n",
      "Puppy Shooting an AK-47: Platformer Zombie Game : 1,000+\n",
      "Crisis Action: 2018 NO.1 FPS : 10,000,000+\n",
      "AK-47 3D : 10,000+\n",
      "AK-47 Assult Rifle: Gun Shooting Simulator Game : 500+\n",
      "Counter Terrorist Attack : 10,000,000+\n",
      "AK Blackjack : 1,000+\n",
      "GUN ZOMBIE : 5,000,000+\n",
      "Shoot Strike War Fire : 10,000,000+\n",
      "I Am Innocent : 1,000,000+\n",
      "What Am I? - Brain Teasers : 100,000+\n",
      "Who am I? (Biblical) : 500,000+\n",
      "Vikings: an Archer's Journey : 1,000,000+\n",
      "Draw a Stickman: EPIC Free : 10,000,000+\n",
      "THE KING OF FIGHTERS-A 2012(F) : 5,000,000+\n",
      "Fast like a Fox : 5,000,000+\n",
      "Ao Oni2 : 1,000,000+\n",
      "Arena of Valor: 5v5 Arena Game : 10,000,000+\n",
      "Mobile Legends: Bang Bang : 100,000,000+\n",
      "Kill Shot Bravo: Sniper FPS : 10,000,000+\n",
      "Carnivores: Dinosaur Hunter : 1,000,000+\n",
      "Hopeless Land: Fight for Survival : 5,000,000+\n",
      "Heroes Arena : 10,000,000+\n",
      "Undead Assault : 100,000+\n",
      "Guess the Class 🔥 AQW : 1,000+\n",
      "Iron Blade : 10,000,000+\n",
      "Evil Apples: A Dirty Card Game : 5,000,000+\n",
      "Ghost Snap AR Horror Survival : 100,000+\n",
      "The Walking Dead: Our World : 1,000,000+\n",
      "Ingress : 10,000,000+\n",
      "Flat Pack : 100,000+\n",
      "Crayola Color Blaster : 1,000+\n",
      "Guns of Boom - Online Shooter : 10,000,000+\n",
      "Guns Royale - Multiplayer Blocky Battle Royale : 100,000+\n",
      "Stack It AR : 100,000+\n",
      "Arcraft - AR Sandbox : 10,000+\n",
      "AR Tank Battle : 10,000+\n",
      "Sonic the Hedgehog™ Classic : 10,000,000+\n",
      "Pacific Navy Fighter C.E. (AS) : 500,000+\n",
      "My OldBoy! Free - GBC Emulator : 5,000,000+\n",
      "My Boy! Free - GBA Emulator : 10,000,000+\n",
      "SAMURAI vs ZOMBIES DEFENSE : 5,000,000+\n",
      "Five Nights at Freddy's 4 Demo : 10,000,000+\n",
      "Five Nights at Freddy's 3 Demo : 10,000,000+\n",
      "Nights at Cube Pizzeria 3D – 2 : 5,000,000+\n",
      "Rivals at War: Firefight : 5,000,000+\n",
      "7 Nights at Pixel Pizzeria - 2 : 1,000,000+\n",
      "Nights at Slender Pizzeria 3D : 100,000+\n",
      "One Night at Golden Freddy's : 100,000+\n",
      "Nights at Cube Pizzeria 3D – 4 : 500,000+\n",
      "Five Nights at Neighbor House : 100,000+\n",
      "Asylum Night Shift - Five Nights Survival : 5,000,000+\n",
      "Two Nights at jumpscare : 100,000+\n",
      "Five Nights at Pizzeria : 100,000+\n",
      "Block Battles: Heroes at War - Multiplayer PVP : 500,000+\n",
      "Five Nights at Flappy's : 10,000+\n",
      "5 Nights at Cube Pizzeria City : 100,000+\n",
      "Au Mobile: Audition Chính Hiệu : 1,000,000+\n",
      "AU Mobile Indonesia : 1,000,000+\n",
      "Super Dancer : 1,000,000+\n",
      "Au-allstar for KR : 100,000+\n",
      "Super Dancer VN : 500,000+\n",
      "Love Dance : 1,000,000+\n",
      "Avatar Musik : 1,000,000+\n",
      "Armored Warfare: Assault : 100,000+\n",
      "Auction Wars : Storage King : 1,000,000+\n",
      "iSniper 3D Arctic Warfare : 1,000,000+\n",
      "Modern Action Commando 3D : 100,000+\n",
      "Call of Duty®: Heroes : 10,000,000+\n",
      "AXE.IO - Brutal Survival Battleground : 500,000+\n",
      "Axe Champ : 10,000+\n",
      "Axe Champ Hit : 100+\n",
      "Axe Champion : 5,000+\n",
      "Vikings Stickman Axe Fighting : 100,000+\n",
      "Axetatic - Axe Throwing Game : 1,000+\n",
      "Axe Champs! Wars : 50+\n",
      "Axe Knight : 5,000+\n",
      "The Vikings : 1,000,000+\n",
      "Knife&Axe Throwing : 50,000+\n",
      "Stickman and Axe : 50,000+\n",
      "Axe Throw: Flip Champ Axes Champion Throwing Games : 50+\n",
      "Axe Man : 1,000+\n",
      "Dead Zombie Evil Killer:Axe : 10,000+\n",
      "Zlax.io Zombs Luv Ax : 500,000+\n",
      "Clash of Axe: Flippy Lumberjack Action X : 1,000+\n",
      "Flippy Axe : Flip The Knife & Axe Simulator : 100+\n",
      "Cyborg AX-001 : 50+\n",
      "Woodman Deluxe : 5,000+\n",
      "¡Ay Metro! : 10,000+\n",
      "Ay Vamos - PJ. Balvin - Piano : 5+\n",
      "San Andreas Crime Stories : 10,000,000+\n",
      "Miami crime simulator : 10,000,000+\n",
      "Strange Hero: Future Battle : 10,000,000+\n",
      "Mad Day - Truck Distance Game : 5,000,000+\n",
      "AZ Rockets : 10,000+\n",
      "Ba Cristi : 10,000+\n",
      "Banana Kong : 100,000,000+\n",
      "Space Shooter : Galaxy Attack : 10,000,000+\n",
      "BC Slots - The Lost Reels FREE : 10,000+\n",
      "Millionaire : Who want to be? : 100,000+\n",
      "Beauty Idol: Fashion Queen : 1,000,000+\n",
      "Hard Time (Prison Sim) : 10,000,000+\n",
      "Battlefield™ Companion : 10,000,000+\n",
      "BF at Sea Refueled : 10,000+\n",
      "Bullet Force : 10,000,000+\n",
      "BF Combat: Genesis : 100,000+\n",
      "Combat BF: Black Ops 3 : 500,000+\n",
      "BF Frontline City : 1,000,000+\n",
      "Faketalk - Chatbot : 1,000,000+\n",
      "Block Gun 3D: Call of Destiny : 1,000,000+\n",
      "BLOOD & GLORY: IMMORTALS : 1,000,000+\n",
      "Block Gun 3D: Ghost Ops : 5,000,000+\n",
      "Rento - Dice Board Game Online : 10,000,000+\n",
      "Survival Run with Bear Grylls : 5,000,000+\n",
      "VIP Backgammon Free : Play Backgammon Online : 10,000+\n",
      "Out of Bounds BH Demo : 10+\n",
      "Bi-Tank : 50+\n",
      "Bike Rivals : 10,000,000+\n",
      "Bingo Party - Free Bingo Games : 1,000,000+\n",
      "BJ's Bingo & Gaming Casino : 10,000+\n",
      "BJ Bridge Free (2018) : 10,000+\n",
      "BJ Bridge Acol Beginner 2018 : 5,000+\n",
      "BJ Bridge Standard American 2018 : 1,000+\n",
      "BJ Strategy Tester : 100+\n",
      "Cards Casino:Video Poker & BJ : 10,000+\n",
      "Real Casino:Slot,Keno,BJ,Poker : 50,000+\n",
      "Basic Strategy Training BJ 21 : 500+\n",
      "BJ card game blackjack : 500+\n",
      "BLACKJACK! : 10,000,000+\n",
      "Blackjack : 1,000,000+\n",
      "BlackJack -21 Casino Card Game : 100,000+\n",
      "BlackJack 21 Pro : 500,000+\n",
      "Ultimate BlackJack 3D FREE : 100,000+\n",
      "Blood Domination - BL Game : 10,000+\n",
      "Heirs & Graces : 5,000+\n",
      "Lust in Terror Manor - The Truth Unveiled | Otome : 10,000+\n",
      "BL!TZ - Endless : 100+\n",
      "BL-ED: From BLUE to RED : 10+\n",
      "Teen Patti by BL Games : 100,000+\n",
      "Word Hunt : 500+\n",
      "Skip-Bo™ Free : 1,000,000+\n",
      "Red Ball 4 : 50,000,000+\n",
      "Skater Boy : 100,000,000+\n",
      "Sic Bo Online! Free Casino : 100,000+\n",
      "Hambo : 5,000,000+\n",
      "Sic Bo Rave : 10,000+\n",
      "Thai Sic Bo : 1,000,000+\n",
      "Bounce Classic : 10,000,000+\n",
      "Bomber Friends : 10,000,000+\n",
      "Sic Bo (Tai Xiu) - Multiplayer Casino : 10,000+\n",
      "Hungry Shark World : 50,000,000+\n",
      "Carros Rebaixados BR : 1,000,000+\n",
      "Texas HoldEm Poker Deluxe (BR) : 10,000+\n",
      "Brick Breaker BR : 5+\n",
      "Black Commando | Special Ops | FPS Shooting : 100,000+\n",
      "True Skateboarding Ride Skateboard Game Freestyle : 1,000,000+\n",
      "Bullshit! (Free) : 10,000+\n",
      "Bullshite! : 10,000+\n",
      "Block Strike : 10,000,000+\n",
      "BombSquad Remote : 1,000,000+\n",
      "BS Tractor : 100+\n",
      "BS Chopper : 100+\n",
      "B@dL!bs Lite : 1,000+\n",
      "kick the buddy : 10,000+\n",
      "Bu Hangi Ünlü? : 10+\n",
      "Bu Nedir ? : 50+\n",
      "BU HANGİ ŞARKI ? - 2018 : 100+\n",
      "Bu Hangi Oyun ? : 50+\n",
      "Bu Hangi Youtuber ? : 1,000+\n",
      "Nedir Bu ? : 10+\n",
      "Kick the Buddy : 50,000,000+\n",
      "Bu Hangi Dizi ? : 1,000+\n",
      "Smashy Road: Arena : 5,000,000+\n",
      "BW-Go Free : 10,000+\n",
      "BW-Joseki : 10,000+\n",
      "BW-DGS plugin : 1,000+\n",
      "BW-GnuGo : 5,000+\n",
      "BW Switch : 10+\n",
      "C3-C4-PİCASSO-ELYSEE RACİNG : 1,000+\n",
      "Driving Cars Simulator Citroen : 100+\n",
      "RC Monster Truck - Offroad Driving Simulator : 5,000,000+\n",
      "Super Jabber Jump : 10,000,000+\n",
      "Commando Adventure Assassin : 5,000,000+\n",
      "Roulette Advisor LITE : 5,000+\n",
      "Mini Motor Racing WRT : 1,000,000+\n",
      "BMX Boy Bike Stunt Rider Game : 10,000+\n",
      "World of Warriors: Duel : 500,000+\n",
      "Driving Zone : 1,000,000+\n",
      "Color by Number – New Coloring Book : 5,000,000+\n",
      "Car Race by Fun Games For Free : 1,000,000+\n",
      "Slot Machines by IGG : 10,000,000+\n",
      "Bingo by IGG: Top Bingo+Slots! : 5,000,000+\n",
      "Voxel - 3D Color by Number & Pixel Coloring Book : 1,000,000+\n",
      "BZ Zombie VR : 1,000+\n",
      "BZ Fingers : 50+\n",
      "Sniper Gun Shot 3D: Impossible Missions : 100+\n",
      "Elite Commando Shooting War : 100+\n",
      "Animal Hunting: Sniper Shooting : 50+\n",
      "Creative Destruction : 5,000,000+\n",
      "Sonic CD Classic : 1,000,000+\n",
      "ARK: Survival Evolved : 500,000+\n",
      "Grim Tales: The Wishes CE : 100,000+\n",
      "CrossFire: Legends : 5,000,000+\n",
      "Special Forces Group 2 : 10,000,000+\n",
      "Motocross Motorbike Simulator Offroad : 5,000,000+\n",
      "Sermon on Proverbs CH Spurgeon : 10,000+\n",
      "Chicken Invaders 3 : 5,000,000+\n",
      "Trovami se ci riesci : 10+\n",
      "CJ: Strike Back : 1,000,000+\n",
      "The Grand Wars: San Andreas : 1,000,000+\n",
      "The Grand Way : 500,000+\n",
      "San Andreas City : Auto Theft Car gangster : 100,000+\n",
      "Miami Crime Vice Town : 10,000,000+\n",
      "CJ Poker Odds Calculator : 50,000+\n",
      "Gangster City Auto Theft : 50,000+\n",
      "China Town Auto Theft 2 : 50,000+\n",
      "Grand Gangsters 3D : 10,000,000+\n",
      "Gang Wars of San Andreas : 1,000,000+\n",
      "Sin City Hero : Crime Simulator of Vegas : 100,000+\n",
      "Zombie Death Shooter : 1,000,000+\n",
      "Project Grand Auto Town Sandbox Beta : 500,000+\n",
      "CONTRACT KILLER: ZOMBIES (NR) : 5,000,000+\n",
      "CKZ ORIGINS : 1,000,000+\n",
      "211:CK Lite : 10+\n",
      "CONTRACT KILLER: ZOMBIES : 5,000,000+\n",
      "Can Knockdown 3 : 10,000,000+\n",
      "Sky Streaker - Gumball : 5,000,000+\n",
      "Just A Regular Arcade : 1,000,000+\n",
      "Dreamland Arcade - Steven Universe : 500,000+\n",
      "Adventure Time Run : 1,000,000+\n",
      "Glitch Fixers: Powerpuff Girls : 5,000,000+\n",
      "StirFry Stunts - We Bare Bears : 10,000,000+\n",
      "Angelo Rules - Crazy day : 1,000,000+\n",
      "Multicraft Miner Exploration : 1,000,000+\n",
      "Alex & Co Quiz : 1,000+\n",
      "Them Bombs: co-op board game play with 2-4 friends : 100,000+\n",
      "Chinese Chess ( Xiangqi Free ) : 50,000+\n",
      "Chinese Chess / Co Tuong : 500,000+\n",
      "Call of Mini™ Zombies 2 : 5,000,000+\n",
      "2-Player Co-op Zombie Shoot : 1,000+\n",
      "IV Go（get IV for Pokemon） : 1,000,000+\n",
      "CP Trivia : 100+\n",
      "CQ: Lost In Transmission : 10+\n",
      "Palavras la cq : 100,000+\n",
      "Gunship Modern Combat 3D : 500,000+\n",
      "Sniper Killer Shooter : 10,000,000+\n",
      "Snowboard Racing Free Fun Game : 100,000+\n",
      "Toughest Game Ever 2 : 5,000,000+\n",
      "RIDE ZERO : 100,000+\n",
      "Critical Strike CS: Counter Terrorist Online FPS : 1,000,000+\n",
      "Assault Line CS Online Fps Go : 1,000,000+\n",
      "Standoff 2 : 10,000,000+\n",
      "Counter Online FPS Game : 5,000,000+\n",
      "Combat Strike CS 🔫 Counter Terrorist Attack FPS💣 : 100,000+\n",
      "Ultimate Quiz for CS:GO - Skins | Cases | Players : 100,000+\n",
      "Аim Training for CS : 100,000+\n",
      "Sniper Traning for CS GO : 50,000+\n",
      "Your rank CS:GO : 100,000+\n",
      "Mobile CS:GO : 100,000+\n",
      "Counter Terrorist Gun Strike CS: Special Forces : 10,000+\n",
      "Shooter Sniper CS - FPS Games : 1,000,000+\n",
      "CS16Client : 500,000+\n",
      "Counter Attack - Multiplayer FPS : 1,000,000+\n",
      "What's Your CS:GO rank? : 10,000+\n",
      "Map Callouts for CS:GO : 50,000+\n",
      "Quiz CS:GO players : 50,000+\n",
      "Puzzle for CS:GO : 10,000+\n",
      "CT-ART 4.0 (Chess Tactics 1200-2400 ELO) : 100,000+\n",
      "Moto Rider : 10,000,000+\n",
      "Shadow Fight 2 : 100,000,000+\n",
      "Crazy Wheels : 10,000,000+\n",
      "Cartoon Wars: Blade : 5,000,000+\n",
      "Racing CX : 500+\n",
      "Freecell CY : 50,000+\n",
      "Cytus : 5,000,000+\n",
      "Shadowverse CCG : 1,000,000+\n",
      "SuperBikers 2 : 500,000+\n",
      "Dan the Man: Action Platformer : 10,000,000+\n",
      "Geometry Dash SubZero : 10,000,000+\n",
      "Metal Soldiers 2 : 10,000,000+\n",
      "Quiz TRUE or FALSE : 50,000+\n",
      "Run Sausage Run! : 10,000,000+\n",
      "Knife Hit : 10,000,000+\n",
      "The Visitor : 5,000,000+\n",
      "Just Dance Now : 10,000,000+\n",
      "DRAGON BALL LEGENDS : 5,000,000+\n"
     ]
    },
    {
     "name": "stdout",
     "output_type": "stream",
     "text": [
      "DB Ultra Saiyan Battle : 1,000+\n",
      "Injustice 2 : 5,000,000+\n",
      "Injustice: Gods Among Us : 10,000,000+\n",
      "Ultimate DC Challenge : 10,000+\n",
      "Justice League Action Run : 1,000,000+\n",
      "Quiz DC : 1,000+\n",
      "MARVEL Contest of Champions : 50,000,000+\n",
      "MARVEL Avengers Academy : 10,000,000+\n",
      "DC Universe Quiz : 500+\n",
      "Power Rangers: Legacy Wars : 10,000,000+\n",
      "WDAMAGE: Car Crash Engine : 1,000,000+\n",
      "Word Search multilingual : 1,000,000+\n",
      "Piano Free - Keyboard with Magic Tiles Music Games : 50,000,000+\n",
      "Racing in Car 2 : 50,000,000+\n",
      "Bike Racing 3D : 50,000,000+\n",
      "Truck Driver Cargo : 10,000,000+\n",
      "Checkers : 10,000,000+\n",
      "Scratch Logo Quiz. Challenging brain puzzle : 10,000,000+\n",
      "DF Squid : 100+\n",
      "DG Mobile : 1,000+\n",
      "Destroy Gunners Σ : 1,000,000+\n",
      "DH Texas Poker - Texas Hold'em : 10,000,000+\n",
      "DEER HUNTER CLASSIC : 50,000,000+\n",
      "DEER HUNTER RELOADED : 5,000,000+\n",
      "DH Pineapple Poker OFC : 100,000+\n",
      "Call of Mini™ Dino Hunter : 10,000,000+\n",
      "Bike Mayhem Free : 10,000,000+\n",
      "Car Crash III Beam DH Real Damage Simulator 2018 : 10,000+\n",
      "DEER HUNTER CHALLENGE : 5,000,000+\n",
      "Defender : 10,000,000+\n",
      "Texas HoldEm Poker Deluxe : 10,000,000+\n",
      "Deck Heroes: Legacy : 10,000,000+\n",
      "Shred! Downhill Mountainbiking : 1,000,000+\n",
      "Archery Physics Objects Destruction Apple shooter : 100,000+\n",
      "Fancy Pants Adventures : 1,000,000+\n",
      "Lep's World 3 🍀🍀🍀 : 50,000,000+\n",
      "Robbery Bob : 10,000,000+\n",
      "Nyan Cat: Lost In Space : 10,000,000+\n",
      "DK Quiz : 50,000+\n",
      "Super DK vs Kong Brother Advanced Free Classic : 10,000+\n",
      "DM EVOLUTION : 10,000+\n",
      "DM Adventure : 10+\n",
      "Destiny Ninja Shall we date otome games love story : 500,000+\n",
      "Free Poker Games : Downtown Casino - Texas Holdem : 50,000+\n",
      "NARUTO X BORUTO NINJA VOLTAGE : 5,000,000+\n",
      "Does not Commute : 5,000,000+\n",
      "Kung Fu Do Fighting : 10,000,000+\n",
      "How well do you know me? : 100,000+\n",
      "Dude Perfect 2 : 10,000,000+\n",
      "Endless Ducker : 500,000+\n",
      "that's lit : 100,000+\n",
      "Dash Quest Heroes : 500,000+\n",
      "Jungle book-The Great Escape : 100,000+\n",
      "Bunny Skater : 10,000,000+\n",
      "The Walking Zombie: Dead City : 1,000,000+\n",
      "Dr. Parking 4 : 50,000,000+\n",
      "Dr. Driving 2 : 10,000,000+\n",
      "Dr. Parker : Parking Simulator : 1,000,000+\n",
      "Dr. Parker : Real car parking simulation : 1,000,000+\n",
      "Dr. Rocket : 1,000,000+\n",
      "Dr. Dominoes : 500,000+\n",
      "Dr. Gomoku : 5,000,000+\n",
      "Dr. Chess : 1,000,000+\n",
      "Dr Dre - Beatmaker : 10,000+\n",
      "Dr Driving Racer : 10,000+\n",
      "Dr. Shogi : 1,000,000+\n",
      "NDS Emulator - For Android 6 : 1,000,000+\n",
      "Free DS Emulator : 1,000,000+\n",
      "nds4droid : 10,000,000+\n",
      "MegaNDS (NDS Emulator) : 500,000+\n",
      "EmuBox - Fast Retro Emulator : 50,000+\n",
      "Simple x3DS Emulator - BETA : 50,000+\n",
      "DS Tower Defence : 100,000+\n",
      "RetroArch : 1,000,000+\n",
      "Wheelie Challenge : 5,000,000+\n",
      "Sword of Chaos - Lame du Chaos : 100,000+\n",
      "Hotel Insanity : 100,000+\n",
      "Shoot! DX - lights for FREE : 100+\n",
      "American Sniper City Fight Shooting Assassin : 50,000+\n",
      "Street Skater 3D : 10,000,000+\n",
      "DZ-JOKER : 100+\n",
      "Super ball DZ : 1,000+\n",
      "Ludo Dz : 500+\n",
      "Need for Speed™ No Limits : 50,000,000+\n",
      "Peggle Blast : 5,000,000+\n",
      "Heroes of Dragon Age : 1,000,000+\n",
      "SCRABBLE : 5,000,000+\n",
      "Asphalt Xtreme: Rally Racing : 10,000,000+\n",
      "Modern Combat 5: eSports FPS : 100,000,000+\n",
      "Mass Effect: Andromeda APEX HQ : 100,000+\n",
      "Mirror’s Edge™ Companion : 100,000+\n",
      "Gear.Club - True Racing : 1,000,000+\n",
      "Mental Hospital:EB 2 Lite : 100,000+\n",
      "EC Mover : 10+\n",
      "EF Jumper : 100+\n",
      "E.G. Chess Free : 10,000+\n",
      "L.A. Crime Stories 2 Mad City Crime : 100,000+\n",
      "LA Stories 4 New Order Sandbox 2018 : 1,000,000+\n",
      "L.A. Crime Stories Mad City Crime : 1,000,000+\n",
      "Miraculous Ladybug & Cat Noir - The Official Game : 10,000,000+\n",
      "Betul Ke Bohong Eh? : 100,000+\n",
      "Eh Amego! : 500,000+\n",
      "MazeMilitia Classic Multiplayer Shooting Game : 50,000+\n",
      "ZOMBIE RIPPER : 500,000+\n",
      "Horror Hospital : 1,000,000+\n",
      "Mad Skills Motocross : 1,000,000+\n",
      "Pineapple Pen : 10,000,000+\n",
      "Guess The Emoji : 5,000,000+\n",
      "Camping RV Caravan Parking 3D : 500,000+\n",
      "Grand Bat Superhero Flying Assault Rescue Mission : 500,000+\n",
      "Zombie Frontier : 10,000,000+\n",
      "RUN JUMP RUN-fun games for free : 100,000+\n",
      "Tamago egg : 5,000+\n",
      "Let's Poke The Egg : 1,000,000+\n",
      "Survival: Prison Escape : 10,000,000+\n",
      "TAMAGO Monsters Returns : 1,000,000+\n",
      "Traffic Sniper Counter Attack : 1,000,000+\n",
      "Rope Superhero Unlimited : 1,000,000+\n",
      "Extreme Super Car Driving 3D : 1,000,000+\n",
      "Fast Racing Car Simulator : 1,000,000+\n",
      "Beach Head Shooting Assault : 100,000+\n",
      "Stickman Warriors Heroes 2 : 1,000,000+\n",
      "Dead Target Zombie Shooting US Sniper Killer Squad : 50,000+\n",
      "Dubai Racing : 500,000+\n",
      "Robot Fighting Games™ - Real Boxing Champions 3D : 5,000+\n",
      "Ghost Hunting camera : 500,000+\n",
      "Santa Panda Bubble Christmas : 10,000+\n",
      "Racing Moto : 50,000,000+\n",
      "Train Racing Games 3D 2 Player : 10,000,000+\n",
      "Adivina el cantante de Trap y Reggaeton : 100,000+\n",
      "Fernanfloo : 10,000,000+\n",
      "Adivina el Emoji : 100,000+\n",
      "Red Hands – 2-Player Games : 10,000,000+\n",
      "Get 'Em : 500,000+\n",
      "Live Hold’em Pro Poker - Free Casino Games : 10,000,000+\n",
      "Beach Shoot Em Up: Head Hunter : 500,000+\n",
      "Stick 'Em Up 2 Starter Edition : 100,000+\n",
      "Shoot`Em Down: Shooting game : 500,000+\n",
      "Texas Hold’em Poker + | Social : 500,000+\n",
      "PlayTexas Hold'em Poker Free : 1,000,000+\n",
      "HAWK – Force of an Arcade Shooter. Shoot 'em up : 5,000,000+\n",
      "Texas Hold'em Poker : 1,000,000+\n",
      "Poker Live! 3D Texas Hold'em : 100,000+\n",
      "Fun Texas Hold'em Poker : 500,000+\n",
      "Dragonplay™ Poker Texas Holdem : 1,000,000+\n",
      "Punch em : 500,000+\n",
      "Zynga Poker – Texas Holdem : 50,000,000+\n",
      "Boyaa Poker (En) – Social Texas Hold’em : 1,000,000+\n",
      "World Series of Poker – WSOP Free Texas Holdem : 10,000,000+\n",
      "Texas Holdem Poker Pro : 5,000,000+\n",
      "Rage Fight of Streets - Beat Em Up Game : 100,000+\n",
      "HANGAME Casino - Baccarat & Texas Hold'em : 500,000+\n",
      "PokerStars Play: Free Texas Holdem Poker Game : 500,000+\n",
      "Texas Holdem Poker : 10,000,000+\n",
      "Big Fish Casino – Play Slots & Vegas Games : 10,000,000+\n",
      "TRANSFORMERS: Forged to Fight : 10,000,000+\n",
      "Texas Holdem & Omaha Poker: Pokerist : 10,000,000+\n",
      "Governor of Poker 2 - OFFLINE POKER GAME : 5,000,000+\n",
      "Squadron - Bullet Hell Shooter : 10,000,000+\n",
      "Words With Friends – Play Free : 10,000,000+\n",
      "Classic Words Solo : 5,000,000+\n",
      "Chess Free : 50,000,000+\n",
      "Sports Car Driving Simulator 2018 : 500,000+\n",
      "The Great Wobo Escape Ep. 1 : 500,000+\n",
      "The Visitor: Ep.2 - Sleepover Slaughter : 1,000,000+\n",
      "The Visitor: Ep.1 - Kitty Cat Carnage : 500,000+\n",
      "Dr.Slender Ep 1 Guide (Eng) : 10,000+\n",
      "Decay: The Mare - Ep.1 (Trial) : 100,000+\n",
      "EP Gem Hunter : 1,000+\n",
      "Gate Of Death Ep: 1 : 100+\n",
      "Oggy : 5,000,000+\n",
      "Invasion: Defend EU : 50+\n",
      "R-EU-READY : 500+\n",
      "Speed Racing Ultimate 2 : 1,000,000+\n",
      "Countries of the European Union (Quiz) : 100+\n",
      "I Know Stuff : 5,000,000+\n",
      "Water Surfer Racing In Moto : 1,000,000+\n",
      "Ew, the small alien : 10+\n",
      "Rescue Robots Survival Games : 5,000,000+\n",
      "Bike Race - Bike Blast Rush : 10,000,000+\n",
      "ETERNITY WARRIORS 2 : 5,000,000+\n",
      "Snes9x EX+ : 5,000,000+\n",
      "Virtual Dice EX : 5,000+\n",
      "Eyes - The Scary Horror Game Adventure : 10,000,000+\n",
      "Sudoku Master : 1,000,000+\n",
      "Jungle Monkey Run : 10,000,000+\n",
      "Ez Mirror Match : 500,000+\n",
      "CNY Slots : Gong Xi Fa Cai 发财机 : 5,000+\n",
      "Golden HoYeah Slots - Real Casino Slots : 5,000,000+\n",
      "FaFaFa™ Gold Casino: Free slot machines : 1,000,000+\n",
      "Heart of Vegas™ Slots – Free Slot Casino Games : 10,000,000+\n",
      "Garena Free Fire : 100,000,000+\n",
      "FG SPINNER : 10+\n",
      "BROTHER IN WARS: GUNNER CITY WARLORDS : 1,000,000+\n",
      "Angry Birds Space HD : 5,000,000+\n",
      "Police Car Driver : 10,000,000+\n",
      "Modern Sniper Strike: Best Commando Action 2k18 : 10,000+\n",
      "Moto Fighter 3D : 10,000,000+\n",
      "BMX Boy : 50,000,000+\n",
      "Crazy Bike attack Racing New: motorcycle racing : 5,000,000+\n",
      "Fields of Battle : 1,000,000+\n",
      "Family Guy The Quest for Stuff : 10,000,000+\n",
      "Toy Attack : 500,000+\n",
      "SnowMobile Parking Adventure : 1,000,000+\n",
      "Zombie Sniper 3D III : 500,000+\n",
      "Shoot Hunter-Gun Killer : 50,000,000+\n",
      "Fast Motorcycle Driver 2016 : 1,000,000+\n",
      "Forgotten Hill: Fall : 50,000+\n",
      "Forgotten Hill Mementoes : 100,000+\n",
      "Forgotten Hill: Surgery : 100,000+\n",
      "Forgotten Hill: Puppeteer : 100,000+\n",
      "FJ Final Join , Circles Game : 1,000+\n",
      "Offroad drive : 4x4 driving game : 100,000+\n",
      "Rope Hero: Vice Town : 10,000,000+\n",
      "Drive 4x4 Luxury SUV Jeep : 500,000+\n",
      "Motocross Mayhem : 1,000,000+\n",
      "Dino Defends king 3 – Dinosaur T rex Hunter Games : 50,000+\n",
      "Block Gun 3D: Haunted Hollow : 1,000,000+\n",
      "Navy Gunner Shoot War 3D : 10,000,000+\n",
      "Drift Legends : 1,000,000+\n",
      "FK (FlightKid) : 10+\n",
      "Toy Truck Rally 3D : 50,000,000+\n",
      "PRO MX MOTOCROSS 2 : 5,000,000+\n",
      "FRONTLINE COMMANDO : 10,000,000+\n",
      "Gun Builder ELITE : 1,000,000+\n",
      "Magnum 3.0 Gun Custom SImulator : 1,000,000+\n",
      "Gun Club Armory : 1,000,000+\n",
      "Armed Cam Gun Pack : 10,000+\n",
      "Fo Fo Fish : 50+\n",
      "4x4 Jeep Racer : 1,000,000+\n",
      "Frontline Terrorist Battle Shoot: Free FPS Shooter : 1,000,000+\n",
      "Mad Dash Fo' Cash : 100+\n",
      "Race Manager FP : 5,000+\n",
      "FP Runner : 1,000+\n",
      "Modern Counter Terrorist FPS Shoot : 100,000+\n",
      "Monster Ride Pro : 10+\n",
      "BEBONCOOL GAMEPAD V1.0 : 100,000+\n",
      "Modern Strike Online : 10,000,000+\n",
      "Modern Counter Terror Attack – Shooting Game : 50,000+\n",
      "Big Hunter : 10,000,000+\n",
      "Modern Counter Global Strike 3D : 50,000+\n",
      "Modern Counter Global Strike 3D V2 : 50,000+\n",
      "Winter Wonderland : 50,000+\n",
      "Soccer Clubs Logo Quiz : 1,000,000+\n",
      "Sid Story : 500,000+\n",
      "Fatal Raid - No.1 Mobile FPS : 1,000,000+\n",
      "Poker Pro.Fr : 100,000+\n"
     ]
    }
   ],
   "source": [
    "for app in android:   \n",
    "    if app[1] == 'GAME':\n",
    "        print(app[0], ':', app[5]) "
   ]
  },
  {
   "cell_type": "code",
   "execution_count": null,
   "metadata": {},
   "outputs": [],
   "source": []
  }
 ],
 "metadata": {
  "kernelspec": {
   "display_name": "Python 3",
   "language": "python",
   "name": "python3"
  },
  "language_info": {
   "codemirror_mode": {
    "name": "ipython",
    "version": 3
   },
   "file_extension": ".py",
   "mimetype": "text/x-python",
   "name": "python",
   "nbconvert_exporter": "python",
   "pygments_lexer": "ipython3",
   "version": "3.8.5"
  }
 },
 "nbformat": 4,
 "nbformat_minor": 4
}
