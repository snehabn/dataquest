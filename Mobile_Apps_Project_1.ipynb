{
 "cells": [
  {
   "cell_type": "markdown",
   "metadata": {},
   "source": [
    "# Analysis of Android and iOS Apps Installations"
   ]
  },
  {
   "cell_type": "markdown",
   "metadata": {},
   "source": [
    "## Overview\n",
    "This project will explore data on user engagement with mobile applications in the App Store and Google Play that are available free of cost."
   ]
  },
  {
   "cell_type": "markdown",
   "metadata": {},
   "source": [
    "## Goal\n",
    "The goal of this data research is to understand better which types of mobile applications attract more users."
   ]
  },
  {
   "cell_type": "markdown",
   "metadata": {},
   "source": [
    "### Part 1 - Exploring Data\n",
    "Let's start by importing data on the App Store and Google Play. We will source the data from Kaggle. The [Google Play Data](https://www.kaggle.com/lava18/google-play-store-apps) has 9660 unique entries and the [Apps Store Data](https://www.kaggle.com/ramamet4/app-store-apple-data-set-10k-apps) has 7195 unique entries.\n",
    "\n",
    "Next we source the reader from the csv module and open the files."
   ]
  },
  {
   "cell_type": "code",
   "execution_count": 1,
   "metadata": {},
   "outputs": [],
   "source": [
    "from csv import reader\n",
    "\n",
    "### Apple Store Dataset ###\n",
    "os_opened_file = open('AppleStore.csv')\n",
    "os_read_file = reader(os_opened_file)\n",
    "os_apps_data = list(os_read_file)\n",
    "os_header = os_apps_data[0]\n",
    "os_content = os_apps_data[1:]\n",
    "\n",
    "### Google Play Dataset ###\n",
    "gp_opened_file = open('googleplaystore.csv')\n",
    "gp_read_file = reader(gp_opened_file)\n",
    "gp_apps_data = list(gp_read_file)\n",
    "gp_header = gp_apps_data[0]\n",
    "gp_content = gp_apps_data[1:]"
   ]
  },
  {
   "cell_type": "markdown",
   "metadata": {},
   "source": [
    "We are going to explore these datasets using the following `explore_data()` function. We are able to see what sort of information is available for each mobile app in both of these datasets. This preliminary analysis shows that the App Store dataset has 7,197 apps and the Google Play dataset has 10,841 apps. We further see that this data also has 16 and 13 columns of information for the App Store and Google Play, respectively."
   ]
  },
  {
   "cell_type": "code",
   "execution_count": 2,
   "metadata": {
    "scrolled": false
   },
   "outputs": [
    {
     "name": "stdout",
     "output_type": "stream",
     "text": [
      "Apple Store Dataset:\n",
      "['id', 'track_name', 'size_bytes', 'currency', 'price', 'rating_count_tot', 'rating_count_ver', 'user_rating', 'user_rating_ver', 'ver', 'cont_rating', 'prime_genre', 'sup_devices.num', 'ipadSc_urls.num', 'lang.num', 'vpp_lic']\n",
      "\n",
      "\n",
      "['512939461', 'Subway Surfers', '156038144', 'USD', '0.0', '706110', '97', '4.5', '4.0', '1.72.1', '9+', 'Games', '38', '5', '1', '1']\n",
      "\n",
      "\n",
      "['362949845', 'Fruit Ninja Classic', '104590336', 'USD', '1.99', '698516', '132', '4.5', '4.0', '2.3.9', '4+', 'Games', '38', '5', '13', '1']\n",
      "\n",
      "\n",
      "Number of rows: 7197\n",
      "Number of columns: 16\n",
      "\n",
      "\n",
      "Google Play Dataset:\n",
      "['App', 'Category', 'Rating', 'Reviews', 'Size', 'Installs', 'Type', 'Price', 'Content Rating', 'Genres', 'Last Updated', 'Current Ver', 'Android Ver']\n",
      "\n",
      "\n",
      "['Text on Photo - Fonteee', 'ART_AND_DESIGN', '4.4', '13880', '28M', '1,000,000+', 'Free', '0', 'Everyone', 'Art & Design', 'October 27, 2017', '1.0.4', '4.1 and up']\n",
      "\n",
      "\n",
      "['Name Art Photo Editor - Focus n Filters', 'ART_AND_DESIGN', '4.4', '8788', '12M', '1,000,000+', 'Free', '0', 'Everyone', 'Art & Design', 'July 31, 2018', '1.0.15', '4.0 and up']\n",
      "\n",
      "\n",
      "Number of rows: 10841\n",
      "Number of columns: 13\n"
     ]
    }
   ],
   "source": [
    "def explore_data(dataset, start, end, rows_and_columns=False):\n",
    "    dataset_slice = dataset[start:end]    \n",
    "    for row in dataset_slice:\n",
    "        print(row)\n",
    "        print('\\n') # adds a new (empty) line after each row\n",
    "\n",
    "    if rows_and_columns:\n",
    "        print('Number of rows:', len(dataset))\n",
    "        print('Number of columns:', len(dataset[0]))\n",
    "        \n",
    "print('Apple Store Dataset:')\n",
    "print(os_header)\n",
    "print('\\n')\n",
    "explore_data(os_content, 10, 12, True)\n",
    "\n",
    "print('\\n')\n",
    "\n",
    "print('Google Play Dataset:')\n",
    "print(gp_header)\n",
    "print('\\n')\n",
    "explore_data(gp_content, 10, 12, True)"
   ]
  },
  {
   "cell_type": "markdown",
   "metadata": {},
   "source": [
    "---"
   ]
  },
  {
   "cell_type": "markdown",
   "metadata": {},
   "source": [
    "## Data Cleanup\n",
    "### Part 1 - Identifying Missing and Duplicate Data\n",
    "Let's start our analysis first with the Google Play dataset. We see that there are a few discrepancies in the data, some entries have missing data, or there are multiples of the same entries. In this step we start the clean the data for more robust and reliable analysis.\n",
    "\n",
    "First let's sort out and remove datapoints that have incomplete information:"
   ]
  },
  {
   "cell_type": "code",
   "execution_count": 3,
   "metadata": {
    "scrolled": false
   },
   "outputs": [
    {
     "name": "stdout",
     "output_type": "stream",
     "text": [
      "['App', 'Category', 'Rating', 'Reviews', 'Size', 'Installs', 'Type', 'Price', 'Content Rating', 'Genres', 'Last Updated', 'Current Ver', 'Android Ver']\n",
      "\n",
      "\n",
      "['Life Made WI-Fi Touchscreen Photo Frame', '1.9', '19', '3.0M', '1,000+', 'Free', '0', 'Everyone', '', 'February 11, 2018', '1.0.19', '4.0 and up']\n",
      "\n",
      "\n",
      "Number of rows: 10841\n",
      "Number of columns: 13\n",
      "\n",
      "\n"
     ]
    },
    {
     "data": {
      "text/plain": [
       "['osmino Wi-Fi: free WiFi',\n",
       " 'TOOLS',\n",
       " '4.2',\n",
       " '134203',\n",
       " '4.1M',\n",
       " '10,000,000+',\n",
       " 'Free',\n",
       " '0',\n",
       " 'Everyone',\n",
       " 'Tools',\n",
       " 'August 7, 2018',\n",
       " '6.06.14',\n",
       " '4.4 and up']"
      ]
     },
     "execution_count": 3,
     "metadata": {},
     "output_type": "execute_result"
    }
   ],
   "source": [
    "print(gp_header)\n",
    "print('\\n')\n",
    "explore_data(gp_content, 10472, 10473, True)\n",
    "print('\\n')\n",
    "gp_content[10472]\n",
    "\n",
    "del gp_content[10472]\n",
    "gp_content[10472]"
   ]
  },
  {
   "cell_type": "markdown",
   "metadata": {},
   "source": [
    "Next, let check for duplicate entries. We initialize two lists, `gp_duplicate_apps` and `gp_unique_apps`. Next, we loop through the list `gp_content` and examine the name of each app. If the name is found in the list `gp_unique_apps`, the name is then additionally added to the `gp_duplicate_apps` list. Otherwise, the name of the app is appended to the list,`gp_unique_apps`."
   ]
  },
  {
   "cell_type": "code",
   "execution_count": 4,
   "metadata": {},
   "outputs": [
    {
     "name": "stdout",
     "output_type": "stream",
     "text": [
      "Number of duplicate apps: 1181\n",
      "\n",
      "\n",
      "Examples of duplicate apps: ['Quick PDF Scanner + OCR FREE', 'Box', 'Google My Business', 'ZOOM Cloud Meetings', 'join.me - Simple Meetings', 'Box', 'Zenefits', 'Google Ads', 'Google My Business', 'Slack', 'FreshBooks Classic', 'Insightly CRM', 'QuickBooks Accounting: Invoicing & Expenses', 'HipChat - Chat Built for Teams', 'Xero Accounting Software', 'MailChimp - Email, Marketing Automation', 'Crew - Free Messaging and Scheduling', 'Asana: organize team projects', 'Google Analytics', 'AdWords Express']\n"
     ]
    }
   ],
   "source": [
    "gp_duplicate_apps = []\n",
    "gp_unique_apps = []\n",
    "\n",
    "for app in gp_content:\n",
    "    name = app[0]\n",
    "    if name in gp_unique_apps:\n",
    "        gp_duplicate_apps.append(name)\n",
    "    else:\n",
    "        gp_unique_apps.append(name)\n",
    "        \n",
    "print('Number of duplicate apps:', len(gp_duplicate_apps))\n",
    "print('\\n')\n",
    "print('Examples of duplicate apps:', gp_duplicate_apps[:20])"
   ]
  },
  {
   "cell_type": "markdown",
   "metadata": {},
   "source": [
    "Here we can see there are quite a few duplicate entries in the dataset. There are many ways to distill this list to retain the correct versions. Two possible ways are by examining the reviews column or installs column. These columns show the total number of reviews and the total number of installs, respectively. By choosing to use the reviews column to analyze, we can ensure that the entry with the highest number of reviews is likely the most recent entry in the data."
   ]
  },
  {
   "cell_type": "code",
   "execution_count": 5,
   "metadata": {},
   "outputs": [
    {
     "name": "stdout",
     "output_type": "stream",
     "text": [
      "Expected length: 9659\n"
     ]
    }
   ],
   "source": [
    "print('Expected length:', len(gp_content)-1181)"
   ]
  },
  {
   "cell_type": "markdown",
   "metadata": {},
   "source": [
    "Quickly using the same method as above, let's check for any duplicate entries in the App Store data set:"
   ]
  },
  {
   "cell_type": "code",
   "execution_count": 6,
   "metadata": {},
   "outputs": [
    {
     "name": "stdout",
     "output_type": "stream",
     "text": [
      "Number of duplicate apps: 2\n",
      "\n",
      "\n",
      "Duplicate apps: ['Mannequin Challenge', 'VR Roller Coaster']\n",
      "Expected length: 7195\n"
     ]
    }
   ],
   "source": [
    "os_duplicate_apps = []\n",
    "os_unique_apps = []\n",
    "\n",
    "for app in os_content:\n",
    "    name = app[1]\n",
    "    if name in os_unique_apps:\n",
    "        os_duplicate_apps.append(name)\n",
    "    else:\n",
    "        os_unique_apps.append(name)\n",
    "        \n",
    "print('Number of duplicate apps:', len(os_duplicate_apps))\n",
    "print('\\n')\n",
    "print('Duplicate apps:', os_duplicate_apps)\n",
    "print('Expected length:', len(os_content)-2)"
   ]
  },
  {
   "cell_type": "markdown",
   "metadata": {},
   "source": [
    "### Part 2 - Consolidation of Multiple Data\n",
    "\n",
    "Here we loop through the Google Play content list and identify the maximum reviews for each application. We start with initializing a dictionary, `reviews_max`. Next, we loop through `gp_content`. If the name of the app is present in the `reviews_max` dictionary as a key **and** the number of reviews present in the dictionary value is less than the number if reviews for this app entry, we update the value. Otherwise if the name is not present in the dictionary, we add the name as a new key and review value."
   ]
  },
  {
   "cell_type": "code",
   "execution_count": 7,
   "metadata": {},
   "outputs": [
    {
     "name": "stdout",
     "output_type": "stream",
     "text": [
      "[('Funny Alarm Clock Ringtones', 15633.0), (\"Fill 'er Up\", 58.0), ('Lookout Security & Antivirus', 951413.0), ('Comics', 45651.0), ('Prosperity', 16.0), ('Dungeons and Dragons DM Tools', 50.0), ('Helix', 2454.0), ('DCUO|CR Calculator Pro', 82.0), ('Basketball Stars', 867920.0), ('EW PDF', 0.0)]\n"
     ]
    }
   ],
   "source": [
    "import random\n",
    "reviews_max = {}\n",
    "for app in gp_content:\n",
    "    name = app[0]\n",
    "    n_reviews = float(app[3])\n",
    "    \n",
    "    if name in reviews_max and reviews_max[name] < n_reviews:\n",
    "        reviews_max[name] = n_reviews\n",
    "        \n",
    "    elif name not in reviews_max:\n",
    "        reviews_max[name] = n_reviews\n",
    "\n",
    "\n",
    "print(random.sample( reviews_max.items(), 10 ))"
   ]
  },
  {
   "cell_type": "code",
   "execution_count": 8,
   "metadata": {},
   "outputs": [
    {
     "name": "stdout",
     "output_type": "stream",
     "text": [
      "9659\n"
     ]
    }
   ],
   "source": [
    "print(len(reviews_max))"
   ]
  },
  {
   "cell_type": "markdown",
   "metadata": {},
   "source": [
    "This dictionary provides a guide for cherry-picking the correct data out of the main dataset. The next step taken will generate a new list of data that only includes the most recent entries based on number of reviews.\n",
    "Here we initialize two empty lists, `android_clean` and `already_added`. Looping through the applications in `gp_content` we examine the number of reviews for each entry and set it as a float to the variable `n_reviews`. We then refer back to the dictionary, `reviews_max` that we created in the previous step to compare the value of each key to the value of `n_reviews`. If the values match and if the name of the app is not in the `already_added` list, we append the entry to the `android_clean` list and add in the entry to `aldready_added` list to prevent a repeat entry."
   ]
  },
  {
   "cell_type": "code",
   "execution_count": 9,
   "metadata": {
    "scrolled": true
   },
   "outputs": [
    {
     "name": "stdout",
     "output_type": "stream",
     "text": [
      "['Name Art Photo Editor - Focus n Filters', 'ART_AND_DESIGN', '4.4', '8788', '12M', '1,000,000+', 'Free', '0', 'Everyone', 'Art & Design', 'July 31, 2018', '1.0.15', '4.0 and up']\n"
     ]
    }
   ],
   "source": [
    "android_clean = []\n",
    "already_added = []\n",
    "\n",
    "for app in gp_content:\n",
    "    name = app[0]\n",
    "    n_reviews = float(app[3])\n",
    "    \n",
    "    if n_reviews == reviews_max[name] and name not in already_added:\n",
    "        android_clean.append(app)\n",
    "        already_added.append(name)\n",
    "\n",
    "print(android_clean[10])"
   ]
  },
  {
   "cell_type": "code",
   "execution_count": 10,
   "metadata": {},
   "outputs": [
    {
     "name": "stdout",
     "output_type": "stream",
     "text": [
      "9659\n"
     ]
    }
   ],
   "source": [
    "print(len(android_clean))"
   ]
  },
  {
   "cell_type": "markdown",
   "metadata": {},
   "source": [
    "Next we repeat the process to ensure that the data for the App Store is clean and has the most current information on each app."
   ]
  },
  {
   "cell_type": "code",
   "execution_count": 11,
   "metadata": {},
   "outputs": [
    {
     "name": "stdout",
     "output_type": "stream",
     "text": [
      "7195\n",
      "[('Dungeon Witcher', 5.0), ('Eagle Simulator', 1170.0), ('Unblock Me', 7973.0), ('にゃんちゅう', 0.0), ('Asphalt Xtreme: Offroad Rally Racing', 3960.0), ('Slots Real Las Vegas - Free Casino Slot Machine Games - Bet, Spin and Win Jackpot & Bonus', 115.0), ('PrestoBand Guitar and Piano', 0.0), ('same - 就是聊得来', 78.0), ('Lane Splitter', 44567.0), ('LOUD on Planet X', 23.0)]\n",
      "7195\n"
     ]
    }
   ],
   "source": [
    "print(len(os_unique_apps))\n",
    "os_reviews_max = {}\n",
    "\n",
    "for app in os_content:\n",
    "    name = app[1]\n",
    "    os_reviews = float(app[5])\n",
    "    \n",
    "    if name in os_reviews_max and os_reviews_max[name] < os_reviews:\n",
    "        os_reviews_max[name] = os_reviews\n",
    "    \n",
    "    elif name not in os_reviews_max:\n",
    "        os_reviews_max[name] = os_reviews\n",
    "print(random.sample( os_reviews_max.items(), 10 ))\n",
    "print(len(os_reviews_max))\n"
   ]
  },
  {
   "cell_type": "code",
   "execution_count": 12,
   "metadata": {
    "scrolled": true
   },
   "outputs": [
    {
     "name": "stdout",
     "output_type": "stream",
     "text": [
      "7195\n"
     ]
    }
   ],
   "source": [
    "os_clean = []\n",
    "os_already_added = []\n",
    "for app in os_content:\n",
    "    name = app[1]\n",
    "    os_reviews = float(app[5])\n",
    "    if os_reviews == os_reviews_max[name] and name not in os_already_added:\n",
    "        os_clean.append(app)\n",
    "        os_already_added.append(name)\n",
    "\n",
    "print(len(os_already_added))"
   ]
  },
  {
   "cell_type": "markdown",
   "metadata": {},
   "source": [
    "### Part 3 - Extraction of English-only Apps"
   ]
  },
  {
   "cell_type": "markdown",
   "metadata": {},
   "source": [
    "Next we will remove any non-english apps from the dataset by employing the ASCII system. Here we create a function that takes in an input of strings and examines if each character falls into the desired ASCII range. English characters are identifiable if they have an ASCII value between zero to 127, inclusive. "
   ]
  },
  {
   "cell_type": "code",
   "execution_count": 13,
   "metadata": {},
   "outputs": [],
   "source": [
    "def is_english(input_str):\n",
    "    for character in input_str:\n",
    "        if ord(character) > 127:\n",
    "            return False      \n",
    "    return True"
   ]
  },
  {
   "cell_type": "markdown",
   "metadata": {},
   "source": [
    "Next, let's test out the function on various types of strings:"
   ]
  },
  {
   "cell_type": "code",
   "execution_count": 14,
   "metadata": {},
   "outputs": [
    {
     "name": "stdout",
     "output_type": "stream",
     "text": [
      "True\n",
      "False\n",
      "False\n",
      "False\n"
     ]
    }
   ],
   "source": [
    "print(is_english('Instagram'))\n",
    "print(is_english('爱奇艺PPS -《欢乐颂2》电视剧热播'))\n",
    "print(is_english('Docs To Go™ Free Office Suite'))\n",
    "print(is_english('Instachat 😜'))"
   ]
  },
  {
   "cell_type": "markdown",
   "metadata": {},
   "source": [
    "There is a minor issue with the previously defined `is_english` function. It does not accept any special characters and emojis as they fall out of the ASCII range we have set. We will create another conditional where if there are more than three non-English characters, the function returns false."
   ]
  },
  {
   "cell_type": "code",
   "execution_count": 15,
   "metadata": {},
   "outputs": [],
   "source": [
    "def is_english(input_str):\n",
    "    non_eng = 0\n",
    "    for character in input_str:\n",
    "        if ord(character) > 127:\n",
    "            non_eng += 1\n",
    "            if non_eng > 3:\n",
    "                return False      \n",
    "    return True"
   ]
  },
  {
   "cell_type": "code",
   "execution_count": 16,
   "metadata": {},
   "outputs": [
    {
     "name": "stdout",
     "output_type": "stream",
     "text": [
      "True\n",
      "False\n",
      "True\n",
      "True\n"
     ]
    }
   ],
   "source": [
    "print(is_english('Instagram'))\n",
    "print(is_english('爱奇艺PPS -《欢乐颂2》电视剧热播'))\n",
    "print(is_english('Docs To Go™ Free Office Suite'))\n",
    "print(is_english('Instachat 😜'))"
   ]
  },
  {
   "cell_type": "code",
   "execution_count": 17,
   "metadata": {},
   "outputs": [
    {
     "name": "stdout",
     "output_type": "stream",
     "text": [
      "The number of english apps in Google Play is: 9614\n",
      "The number of english apps in App Store is: 6181\n"
     ]
    }
   ],
   "source": [
    "android_english = []\n",
    "for app in android_clean:\n",
    "    name = app[0]\n",
    "    if is_english(name):\n",
    "        android_english.append(app)\n",
    "        \n",
    "print('The number of english apps in Google Play is:', len(android_english))\n",
    "\n",
    "os_english = []\n",
    "for app in os_clean:\n",
    "    name = app[1]\n",
    "    if is_english(name):\n",
    "        os_english.append(app)\n",
    "\n",
    "print('The number of english apps in App Store is:', len(os_english))"
   ]
  },
  {
   "cell_type": "code",
   "execution_count": 18,
   "metadata": {},
   "outputs": [
    {
     "name": "stdout",
     "output_type": "stream",
     "text": [
      "[['Superheroes Wallpapers | 4K Backgrounds', 'ART_AND_DESIGN', '4.7', '7699', '4.2M', '500,000+', 'Free', '0', 'Everyone 10+', 'Art & Design', 'July 12, 2018', '2.2.6.2', '4.0.3 and up'], ['HD Mickey Minnie Wallpapers', 'ART_AND_DESIGN', '4.7', '118', '23M', '50,000+', 'Free', '0', 'Everyone', 'Art & Design', 'July 7, 2018', '1.1.3', '4.1 and up'], ['Harley Quinn wallpapers HD', 'ART_AND_DESIGN', '4.8', '192', '6.0M', '10,000+', 'Free', '0', 'Everyone', 'Art & Design', 'April 25, 2018', '1.5', '3.0 and up'], ['Colorfit - Drawing & Coloring', 'ART_AND_DESIGN', '4.7', '20260', '25M', '500,000+', 'Free', '0', 'Everyone', 'Art & Design;Creativity', 'October 11, 2017', '1.0.8', '4.0.3 and up']]\n",
      "\n",
      "\n",
      "The number of free apps in Google Play is: 8864\n",
      "The number of free apps in App Store is: 3220\n"
     ]
    }
   ],
   "source": [
    "from pprint import pprint\n",
    "android = []\n",
    "for app in android_english:\n",
    "    price = float(app[7].strip('$'))\n",
    "    if price == 0.0:\n",
    "        android.append(app)\n",
    "        \n",
    "# pprint --> prints lists in more organized manner        \n",
    "print(android[21:25])\n",
    "print('\\n')\n",
    "print('The number of free apps in Google Play is:', len(android))\n",
    "\n",
    "os = []\n",
    "for app in os_english:\n",
    "    price = app[4]\n",
    "    if price == '0.0':\n",
    "        os.append(app)\n",
    "        \n",
    "print('The number of free apps in App Store is:', len(os))"
   ]
  },
  {
   "cell_type": "markdown",
   "metadata": {},
   "source": [
    "---"
   ]
  },
  {
   "cell_type": "markdown",
   "metadata": {},
   "source": [
    "## Data Analysis"
   ]
  },
  {
   "cell_type": "markdown",
   "metadata": {},
   "source": [
    "### Most Common Apps by Genre"
   ]
  },
  {
   "cell_type": "markdown",
   "metadata": {},
   "source": [
    "The cleaned datasets are now ready for analysis. We will now explore the data using a previously defined function, `explore_data`, to determine which types of apps are most likely to be installed and used. Let's look to see which columns could prove to be most useful for analysis."
   ]
  },
  {
   "cell_type": "code",
   "execution_count": 19,
   "metadata": {},
   "outputs": [
    {
     "name": "stdout",
     "output_type": "stream",
     "text": [
      "Google Play Dataset:\n",
      "['App', 'Category', 'Rating', 'Reviews', 'Size', 'Installs', 'Type', 'Price', 'Content Rating', 'Genres', 'Last Updated', 'Current Ver', 'Android Ver']\n",
      "\n",
      "\n",
      "['Photo Editor & Candy Camera & Grid & ScrapBook', 'ART_AND_DESIGN', '4.1', '159', '19M', '10,000+', 'Free', '0', 'Everyone', 'Art & Design', 'January 7, 2018', '1.0.0', '4.0.3 and up']\n",
      "\n",
      "\n",
      "['U Launcher Lite – FREE Live Cool Themes, Hide Apps', 'ART_AND_DESIGN', '4.7', '87510', '8.7M', '5,000,000+', 'Free', '0', 'Everyone', 'Art & Design', 'August 1, 2018', '1.2.4', '4.0.3 and up']\n",
      "\n",
      "\n",
      "Number of rows: 8864\n",
      "Number of columns: 13\n",
      "\n",
      "\n",
      "Apple Store Dataset:\n",
      "['id', 'track_name', 'size_bytes', 'currency', 'price', 'rating_count_tot', 'rating_count_ver', 'user_rating', 'user_rating_ver', 'ver', 'cont_rating', 'prime_genre', 'sup_devices.num', 'ipadSc_urls.num', 'lang.num', 'vpp_lic']\n",
      "\n",
      "\n",
      "['284882215', 'Facebook', '389879808', 'USD', '0.0', '2974676', '212', '3.5', '3.5', '95.0', '4+', 'Social Networking', '37', '1', '29', '1']\n",
      "\n",
      "\n",
      "['389801252', 'Instagram', '113954816', 'USD', '0.0', '2161558', '1289', '4.5', '4.0', '10.23', '12+', 'Photo & Video', '37', '0', '29', '1']\n",
      "\n",
      "\n",
      "Number of rows: 3220\n",
      "Number of columns: 16\n"
     ]
    }
   ],
   "source": [
    "print('Google Play Dataset:')\n",
    "print(gp_header)\n",
    "print('\\n')\n",
    "explore_data(android, 0, 2, True)\n",
    "print('\\n')\n",
    "print('Apple Store Dataset:')\n",
    "print(os_header)\n",
    "print('\\n')\n",
    "explore_data(os, 0, 2, True)"
   ]
  },
  {
   "cell_type": "markdown",
   "metadata": {},
   "source": [
    "For the Google Play dataset, we can use the `Category` and `Genre` columns and for the Apple Store dataset, the `prime_genre` columns would prove most useful."
   ]
  },
  {
   "cell_type": "markdown",
   "metadata": {},
   "source": [
    "Next we will create a new function, `freq_table` that will return a frequency table of a column."
   ]
  },
  {
   "cell_type": "code",
   "execution_count": 20,
   "metadata": {},
   "outputs": [],
   "source": [
    "def freq_table(dataset, index):\n",
    "    freq = {}\n",
    "    for app in dataset:\n",
    "        genre = app[index]\n",
    "        if genre in freq:\n",
    "            freq[genre] += 1\n",
    "        else:\n",
    "            freq[genre] = 1\n",
    "    \n",
    "    freq_percent = {}\n",
    "    for genre in freq:\n",
    "        freq_percent[genre] = ((freq[genre]/len(dataset))*100)\n",
    "        \n",
    "    return freq_percent"
   ]
  },
  {
   "cell_type": "code",
   "execution_count": 21,
   "metadata": {},
   "outputs": [],
   "source": [
    "### provided by coursework\n",
    "def display_table(dataset, index):\n",
    "    table = freq_table(dataset, index)\n",
    "    table_display = []\n",
    "    for key in table:\n",
    "        key_val_as_tuple = (table[key], key)\n",
    "        table_display.append(key_val_as_tuple)\n",
    "\n",
    "    table_sorted = sorted(table_display, reverse = True)\n",
    "    for entry in table_sorted:\n",
    "        print(entry[1], ':', entry[0])"
   ]
  },
  {
   "cell_type": "markdown",
   "metadata": {},
   "source": [
    "Let us examine the frequency tables of the Google Play and the App Store data:"
   ]
  },
  {
   "cell_type": "markdown",
   "metadata": {},
   "source": [
    "App Store:"
   ]
  },
  {
   "cell_type": "markdown",
   "metadata": {},
   "source": [
    "Here we can observe that there is a significant majority present in the data. 58% of the free apps fall under the Games genre. The next common is Entertainment, at around 7.9%, followed by Photo & Video at almost 5%. There is a clear picture here that the most apps that make it to the App Store are games. Most other apps fall into single digit percentages, with only a couple percentage points separating them.\n",
    "\n",
    "Although most apps are categorized as games, we will have to investigate further to see if the most successful apps still fall under this genre. Some future analysis would include examining the number of ratings and average user ratings for each app."
   ]
  },
  {
   "cell_type": "code",
   "execution_count": 22,
   "metadata": {
    "scrolled": false
   },
   "outputs": [
    {
     "name": "stdout",
     "output_type": "stream",
     "text": [
      "Games : 58.13664596273293\n",
      "Entertainment : 7.888198757763975\n",
      "Photo & Video : 4.968944099378882\n",
      "Education : 3.6645962732919255\n",
      "Social Networking : 3.291925465838509\n",
      "Shopping : 2.608695652173913\n",
      "Utilities : 2.515527950310559\n",
      "Sports : 2.142857142857143\n",
      "Music : 2.049689440993789\n",
      "Health & Fitness : 2.018633540372671\n",
      "Productivity : 1.7391304347826086\n",
      "Lifestyle : 1.5838509316770186\n",
      "News : 1.3354037267080745\n",
      "Travel : 1.2422360248447204\n",
      "Finance : 1.1180124223602486\n",
      "Weather : 0.8695652173913043\n",
      "Food & Drink : 0.8074534161490683\n",
      "Reference : 0.5590062111801243\n",
      "Business : 0.5279503105590062\n",
      "Book : 0.43478260869565216\n",
      "Navigation : 0.18633540372670807\n",
      "Medical : 0.18633540372670807\n",
      "Catalogs : 0.12422360248447205\n"
     ]
    }
   ],
   "source": [
    "display_table(os, -5)"
   ]
  },
  {
   "cell_type": "markdown",
   "metadata": {},
   "source": [
    "Google Play (Genres):"
   ]
  },
  {
   "cell_type": "markdown",
   "metadata": {},
   "source": [
    "Immediately we can observe two main things about the Genres data table. First, the data is much more evenly spread out, and second there are many more genres. Here we see that the most common genre is Tools, containing almost 8.5% of all apps in the dataset. Similar to the App Store data, the second most common genre is Entertainment, at around 6.1%; followed by Education at around 5.3%.\n",
    "\n",
    "One interesting thing to note with this data set is that some genres seem to have sub-genres (ex: Education, Entertainment, etc...). This requires some extra clean up so that the data presented is more robust."
   ]
  },
  {
   "cell_type": "code",
   "execution_count": 23,
   "metadata": {
    "scrolled": false
   },
   "outputs": [
    {
     "name": "stdout",
     "output_type": "stream",
     "text": [
      "Tools : 8.449909747292418\n",
      "Entertainment : 6.069494584837545\n",
      "Education : 5.347472924187725\n",
      "Business : 4.591606498194946\n",
      "Productivity : 3.892148014440433\n",
      "Lifestyle : 3.892148014440433\n",
      "Finance : 3.7003610108303246\n",
      "Medical : 3.531137184115524\n",
      "Sports : 3.463447653429603\n",
      "Personalization : 3.3167870036101084\n",
      "Communication : 3.2378158844765346\n",
      "Action : 3.1024368231046933\n",
      "Health & Fitness : 3.0798736462093865\n",
      "Photography : 2.944494584837545\n",
      "News & Magazines : 2.7978339350180503\n",
      "Social : 2.6624548736462095\n",
      "Travel & Local : 2.3240072202166067\n",
      "Shopping : 2.2450361010830324\n",
      "Books & Reference : 2.1435018050541514\n",
      "Simulation : 2.0419675090252705\n",
      "Dating : 1.861462093862816\n",
      "Arcade : 1.8501805054151623\n",
      "Video Players & Editors : 1.7712093862815883\n",
      "Casual : 1.7599277978339352\n",
      "Maps & Navigation : 1.3989169675090252\n",
      "Food & Drink : 1.2409747292418771\n",
      "Puzzle : 1.128158844765343\n",
      "Racing : 0.9927797833935018\n",
      "Role Playing : 0.9363718411552346\n",
      "Libraries & Demo : 0.9363718411552346\n",
      "Auto & Vehicles : 0.9250902527075812\n",
      "Strategy : 0.9138086642599278\n",
      "House & Home : 0.8235559566787004\n",
      "Weather : 0.8009927797833934\n",
      "Events : 0.7107400722021661\n",
      "Adventure : 0.6768953068592057\n",
      "Comics : 0.6092057761732852\n",
      "Beauty : 0.5979241877256317\n",
      "Art & Design : 0.5979241877256317\n",
      "Parenting : 0.4963898916967509\n",
      "Card : 0.45126353790613716\n",
      "Casino : 0.42870036101083037\n",
      "Trivia : 0.41741877256317694\n",
      "Educational;Education : 0.39485559566787\n",
      "Board : 0.3835740072202166\n",
      "Educational : 0.3722924187725632\n",
      "Education;Education : 0.33844765342960287\n",
      "Word : 0.2594765342960289\n",
      "Casual;Pretend Play : 0.236913357400722\n",
      "Music : 0.2030685920577617\n",
      "Racing;Action & Adventure : 0.16922382671480143\n",
      "Puzzle;Brain Games : 0.16922382671480143\n",
      "Entertainment;Music & Video : 0.16922382671480143\n",
      "Casual;Brain Games : 0.13537906137184114\n",
      "Casual;Action & Adventure : 0.13537906137184114\n",
      "Arcade;Action & Adventure : 0.12409747292418773\n",
      "Action;Action & Adventure : 0.10153429602888085\n",
      "Educational;Pretend Play : 0.09025270758122744\n",
      "Simulation;Action & Adventure : 0.078971119133574\n",
      "Parenting;Education : 0.078971119133574\n",
      "Entertainment;Brain Games : 0.078971119133574\n",
      "Board;Brain Games : 0.078971119133574\n",
      "Parenting;Music & Video : 0.06768953068592057\n",
      "Educational;Brain Games : 0.06768953068592057\n",
      "Casual;Creativity : 0.06768953068592057\n",
      "Art & Design;Creativity : 0.06768953068592057\n",
      "Education;Pretend Play : 0.056407942238267145\n",
      "Role Playing;Pretend Play : 0.04512635379061372\n",
      "Education;Creativity : 0.04512635379061372\n",
      "Role Playing;Action & Adventure : 0.033844765342960284\n",
      "Puzzle;Action & Adventure : 0.033844765342960284\n",
      "Entertainment;Creativity : 0.033844765342960284\n",
      "Entertainment;Action & Adventure : 0.033844765342960284\n",
      "Educational;Creativity : 0.033844765342960284\n",
      "Educational;Action & Adventure : 0.033844765342960284\n",
      "Education;Music & Video : 0.033844765342960284\n",
      "Education;Brain Games : 0.033844765342960284\n",
      "Education;Action & Adventure : 0.033844765342960284\n",
      "Adventure;Action & Adventure : 0.033844765342960284\n",
      "Video Players & Editors;Music & Video : 0.02256317689530686\n",
      "Sports;Action & Adventure : 0.02256317689530686\n",
      "Simulation;Pretend Play : 0.02256317689530686\n",
      "Puzzle;Creativity : 0.02256317689530686\n",
      "Music;Music & Video : 0.02256317689530686\n",
      "Entertainment;Pretend Play : 0.02256317689530686\n",
      "Casual;Education : 0.02256317689530686\n",
      "Board;Action & Adventure : 0.02256317689530686\n",
      "Video Players & Editors;Creativity : 0.01128158844765343\n",
      "Trivia;Education : 0.01128158844765343\n",
      "Travel & Local;Action & Adventure : 0.01128158844765343\n",
      "Tools;Education : 0.01128158844765343\n",
      "Strategy;Education : 0.01128158844765343\n",
      "Strategy;Creativity : 0.01128158844765343\n",
      "Strategy;Action & Adventure : 0.01128158844765343\n",
      "Simulation;Education : 0.01128158844765343\n",
      "Role Playing;Brain Games : 0.01128158844765343\n",
      "Racing;Pretend Play : 0.01128158844765343\n",
      "Puzzle;Education : 0.01128158844765343\n",
      "Parenting;Brain Games : 0.01128158844765343\n",
      "Music & Audio;Music & Video : 0.01128158844765343\n",
      "Lifestyle;Pretend Play : 0.01128158844765343\n",
      "Lifestyle;Education : 0.01128158844765343\n",
      "Health & Fitness;Education : 0.01128158844765343\n",
      "Health & Fitness;Action & Adventure : 0.01128158844765343\n",
      "Entertainment;Education : 0.01128158844765343\n",
      "Communication;Creativity : 0.01128158844765343\n",
      "Comics;Creativity : 0.01128158844765343\n",
      "Casual;Music & Video : 0.01128158844765343\n",
      "Card;Action & Adventure : 0.01128158844765343\n",
      "Books & Reference;Education : 0.01128158844765343\n",
      "Art & Design;Pretend Play : 0.01128158844765343\n",
      "Art & Design;Action & Adventure : 0.01128158844765343\n",
      "Arcade;Pretend Play : 0.01128158844765343\n",
      "Adventure;Education : 0.01128158844765343\n"
     ]
    }
   ],
   "source": [
    "display_table(android, -4)"
   ]
  },
  {
   "cell_type": "markdown",
   "metadata": {},
   "source": [
    "Google Play (Category):"
   ]
  },
  {
   "cell_type": "markdown",
   "metadata": {},
   "source": [
    "While the Genres column in the previous analysis is more granular, this dataset looking at categories is cleaner and more concise. It can be more successfully compared to the App Store data set.\n",
    "\n",
    "There are some hard contrasts that can be seen here versus the App Store data. The top category here is Family, at almost 19% of all apps. Game(s) is still a top category, but the margins are very low. Tools is the third highest category.\n",
    "\n",
    "The spread of the frequency of the types of apps in the Google Play store is still more evenly distributed than in the App Store."
   ]
  },
  {
   "cell_type": "code",
   "execution_count": 24,
   "metadata": {},
   "outputs": [
    {
     "name": "stdout",
     "output_type": "stream",
     "text": [
      "FAMILY : 18.907942238267147\n",
      "GAME : 9.724729241877256\n",
      "TOOLS : 8.461191335740072\n",
      "BUSINESS : 4.591606498194946\n",
      "LIFESTYLE : 3.9034296028880866\n",
      "PRODUCTIVITY : 3.892148014440433\n",
      "FINANCE : 3.7003610108303246\n",
      "MEDICAL : 3.531137184115524\n",
      "SPORTS : 3.395758122743682\n",
      "PERSONALIZATION : 3.3167870036101084\n",
      "COMMUNICATION : 3.2378158844765346\n",
      "HEALTH_AND_FITNESS : 3.0798736462093865\n",
      "PHOTOGRAPHY : 2.944494584837545\n",
      "NEWS_AND_MAGAZINES : 2.7978339350180503\n",
      "SOCIAL : 2.6624548736462095\n",
      "TRAVEL_AND_LOCAL : 2.33528880866426\n",
      "SHOPPING : 2.2450361010830324\n",
      "BOOKS_AND_REFERENCE : 2.1435018050541514\n",
      "DATING : 1.861462093862816\n",
      "VIDEO_PLAYERS : 1.7937725631768955\n",
      "MAPS_AND_NAVIGATION : 1.3989169675090252\n",
      "FOOD_AND_DRINK : 1.2409747292418771\n",
      "EDUCATION : 1.1620036101083033\n",
      "ENTERTAINMENT : 0.9589350180505415\n",
      "LIBRARIES_AND_DEMO : 0.9363718411552346\n",
      "AUTO_AND_VEHICLES : 0.9250902527075812\n",
      "HOUSE_AND_HOME : 0.8235559566787004\n",
      "WEATHER : 0.8009927797833934\n",
      "EVENTS : 0.7107400722021661\n",
      "PARENTING : 0.6543321299638989\n",
      "ART_AND_DESIGN : 0.6430505415162455\n",
      "COMICS : 0.6204873646209386\n",
      "BEAUTY : 0.5979241877256317\n"
     ]
    }
   ],
   "source": [
    "display_table(android, 1)"
   ]
  },
  {
   "cell_type": "markdown",
   "metadata": {},
   "source": [
    "Overall, games is a dominant app genre present in both marketplaces. However, this analysis does not prove that games apps are the most succesful of all the different genres. For that it is also important to take into account user feedback, in the form of ratings, total number of ratings, and total number of users."
   ]
  },
  {
   "cell_type": "markdown",
   "metadata": {},
   "source": [
    "### Most Popular Apps by Genre"
   ]
  },
  {
   "cell_type": "markdown",
   "metadata": {},
   "source": [
    "Next, let's look at what information can be gathered based on how popular these apps are with users. In this step of the analysis we will be examining the average number of user ratings per genre. "
   ]
  },
  {
   "cell_type": "markdown",
   "metadata": {},
   "source": [
    "#### App Store "
   ]
  },
  {
   "cell_type": "markdown",
   "metadata": {},
   "source": [
    "Here we create a nested loop to extract the number of average user reviews for each genre. First we create the first loop, that goes through each unique genre in the dataset. Within this loop we initialize two variables: `total` to store the total number of user ratings, and `len_genre` to store the number of apps in each genre. The second loop, which resides within the first loop, then goes through each app in the dataset and increases the `total` by the number of ratings and adds up the number of apps in that genre. Lastly, we compute the `average_user_ratings` by dividing the `total` by `len_genre`."
   ]
  },
  {
   "cell_type": "code",
   "execution_count": 25,
   "metadata": {},
   "outputs": [
    {
     "name": "stdout",
     "output_type": "stream",
     "text": [
      "Average Number of User Ratings By Genre:\n",
      "Social Networking : 71548.34905660378\n",
      "Photo & Video : 28441.54375\n",
      "Games : 22812.92467948718\n",
      "Music : 57326.530303030304\n",
      "Reference : 74942.11111111111\n",
      "Health & Fitness : 23298.015384615384\n",
      "Weather : 52279.892857142855\n",
      "Utilities : 18684.456790123455\n",
      "Travel : 28243.8\n",
      "Shopping : 26919.690476190477\n",
      "News : 21248.023255813954\n",
      "Navigation : 86090.33333333333\n",
      "Lifestyle : 16485.764705882353\n",
      "Entertainment : 14029.830708661417\n",
      "Food & Drink : 33333.92307692308\n",
      "Sports : 23008.898550724636\n",
      "Book : 39758.5\n",
      "Finance : 31467.944444444445\n",
      "Education : 7003.983050847458\n",
      "Productivity : 21028.410714285714\n",
      "Business : 7491.117647058823\n",
      "Catalogs : 4004.0\n",
      "Medical : 612.0\n"
     ]
    }
   ],
   "source": [
    "os_genres = freq_table(os, -5)\n",
    "print('Average Number of User Ratings By Genre:')\n",
    "\n",
    "for genre in os_genres:\n",
    "    total = 0\n",
    "    len_genre = 0\n",
    "    for app in os:\n",
    "        genre_app = app[-5]\n",
    "        if genre_app == genre:\n",
    "            total += float(app[5]) #rating\n",
    "            len_genre += 1\n",
    "    average_user_ratings = total/len_genre\n",
    "    print(genre, ':', average_user_ratings)"
   ]
  },
  {
   "cell_type": "markdown",
   "metadata": {},
   "source": [
    "From this perspective, it certainly appears that Navigation and Reference apps have the most user reviews in the App Store, followed very closely by Social Networking. "
   ]
  },
  {
   "cell_type": "markdown",
   "metadata": {},
   "source": [
    "If we take the top-most genre, Navigation, and explore a bit further we can see that only a couple of apps, in this case, Waze and Googe Maps dominate the number of users. This is the same scenario for the Reference and Social Networking genres as well."
   ]
  },
  {
   "cell_type": "code",
   "execution_count": 26,
   "metadata": {
    "scrolled": false
   },
   "outputs": [
    {
     "name": "stdout",
     "output_type": "stream",
     "text": [
      "Navigation:\n",
      "Waze - GPS Navigation, Maps & Real-time Traffic : 345046\n",
      "Google Maps - Navigation & Transit : 154911\n",
      "Geocaching® : 12811\n",
      "CoPilot GPS – Car Navigation & Offline Maps : 3582\n",
      "ImmobilienScout24: Real Estate Search in Germany : 187\n",
      "Railway Route Search : 5\n",
      "\n",
      "\n",
      "Reference:\n",
      "Bible : 985920\n",
      "Dictionary.com Dictionary & Thesaurus : 200047\n",
      "Dictionary.com Dictionary & Thesaurus for iPad : 54175\n",
      "Google Translate : 26786\n",
      "Muslim Pro: Ramadan 2017 Prayer Times, Azan, Quran : 18418\n",
      "New Furniture Mods - Pocket Wiki & Game Tools for Minecraft PC Edition : 17588\n",
      "Merriam-Webster Dictionary : 16849\n",
      "Night Sky : 12122\n",
      "City Maps for Minecraft PE - The Best Maps for Minecraft Pocket Edition (MCPE) : 8535\n",
      "LUCKY BLOCK MOD ™ for Minecraft PC Edition - The Best Pocket Wiki & Mods Installer Tools : 4693\n",
      "GUNS MODS for Minecraft PC Edition - Mods Tools : 1497\n",
      "Guides for Pokémon GO - Pokemon GO News and Cheats : 826\n",
      "WWDC : 762\n",
      "Horror Maps for Minecraft PE - Download The Scariest Maps for Minecraft Pocket Edition (MCPE) Free : 718\n",
      "VPN Express : 14\n",
      "Real Bike Traffic Rider Virtual Reality Glasses : 8\n",
      "教えて!goo : 0\n",
      "Jishokun-Japanese English Dictionary & Translator : 0\n",
      "\n",
      "\n",
      "Social Networking:\n",
      "Facebook : 2974676\n",
      "Pinterest : 1061624\n",
      "Skype for iPhone : 373519\n",
      "Messenger : 351466\n",
      "Tumblr : 334293\n",
      "WhatsApp Messenger : 287589\n",
      "Kik : 260965\n",
      "ooVoo – Free Video Call, Text and Voice : 177501\n",
      "TextNow - Unlimited Text + Calls : 164963\n",
      "Viber Messenger – Text & Call : 164249\n",
      "Followers - Social Analytics For Instagram : 112778\n",
      "MeetMe - Chat and Meet New People : 97072\n",
      "We Heart It - Fashion, wallpapers, quotes, tattoos : 90414\n",
      "InsTrack for Instagram - Analytics Plus More : 85535\n",
      "Tango - Free Video Call, Voice and Chat : 75412\n",
      "LinkedIn : 71856\n",
      "Match™ - #1 Dating App. : 60659\n",
      "Skype for iPad : 60163\n",
      "POF - Best Dating App for Conversations : 52642\n",
      "Timehop : 49510\n",
      "Find My Family, Friends & iPhone - Life360 Locator : 43877\n",
      "Whisper - Share, Express, Meet : 39819\n",
      "Hangouts : 36404\n",
      "LINE PLAY - Your Avatar World : 34677\n",
      "WeChat : 34584\n",
      "Badoo - Meet New People, Chat, Socialize. : 34428\n",
      "Followers + for Instagram - Follower Analytics : 28633\n",
      "GroupMe : 28260\n",
      "Marco Polo Video Walkie Talkie : 27662\n",
      "Miitomo : 23965\n",
      "SimSimi : 23530\n",
      "Grindr - Gay and same sex guys chat, meet and date : 23201\n",
      "Wishbone - Compare Anything : 20649\n",
      "imo video calls and chat : 18841\n",
      "After School - Funny Anonymous School News : 18482\n",
      "Quick Reposter - Repost, Regram and Reshare Photos : 17694\n",
      "Weibo HD : 16772\n",
      "Repost for Instagram : 15185\n",
      "Live.me – Live Video Chat & Make Friends Nearby : 14724\n",
      "Nextdoor : 14402\n",
      "Followers Analytics for Instagram - InstaReport : 13914\n",
      "YouNow: Live Stream Video Chat : 12079\n",
      "FollowMeter for Instagram - Followers Tracking : 11976\n",
      "LINE : 11437\n",
      "eHarmony™ Dating App - Meet Singles : 11124\n",
      "Discord - Chat for Gamers : 9152\n",
      "QQ : 9109\n",
      "Telegram Messenger : 7573\n",
      "Weibo : 7265\n",
      "Periscope - Live Video Streaming Around the World : 6062\n",
      "Chat for Whatsapp - iPad Version : 5060\n",
      "QQ HD : 5058\n",
      "Followers Analysis Tool For Instagram App Free : 4253\n",
      "live.ly - live video streaming : 4145\n",
      "Houseparty - Group Video Chat : 3991\n",
      "SOMA Messenger : 3232\n",
      "Monkey : 3060\n",
      "Down To Lunch : 2535\n",
      "Flinch - Video Chat Staring Contest : 2134\n",
      "Highrise - Your Avatar Community : 2011\n",
      "LOVOO - Dating Chat : 1985\n",
      "PlayStation®Messages : 1918\n",
      "BOO! - Video chat camera with filters & stickers : 1805\n",
      "Qzone : 1649\n",
      "Chatous - Chat with new people : 1609\n",
      "Kiwi - Q&A : 1538\n",
      "GhostCodes - a discovery app for Snapchat : 1313\n",
      "Jodel : 1193\n",
      "FireChat : 1037\n",
      "Google Duo - simple video calling : 1033\n",
      "Fiesta by Tango - Chat & Meet New People : 885\n",
      "Google Allo — smart messaging : 862\n",
      "Peach — share vividly : 727\n",
      "Hey! VINA - Where Women Meet New Friends : 719\n",
      "Battlefield™ Companion : 689\n",
      "All Devices for WhatsApp - Messenger for iPad : 682\n",
      "Chat for Pokemon Go - GoChat : 500\n",
      "IAmNaughty – Dating App to Meet New People Online : 463\n",
      "Qzone HD : 458\n",
      "Zenly - Locate your friends in realtime : 427\n",
      "League of Legends Friends : 420\n",
      "豆瓣 : 407\n",
      "Candid - Speak Your Mind Freely : 398\n",
      "知乎 : 397\n",
      "Selfeo : 366\n",
      "Fake-A-Location Free ™ : 354\n",
      "Popcorn Buzz - Free Group Calls : 281\n",
      "Fam — Group video calling for iMessage : 279\n",
      "QQ International : 274\n",
      "Ameba : 269\n",
      "SoundCloud Pulse: for creators : 240\n",
      "Tantan : 235\n",
      "Cougar Dating & Life Style App for Mature Women : 213\n",
      "Rawr Messenger - Dab your chat : 180\n",
      "WhenToPost: Best Time to Post Photos for Instagram : 158\n",
      "Inke—Broadcast an amazing life : 147\n",
      "Mustknow - anonymous video Q&A : 53\n",
      "CTFxCmoji : 39\n",
      "Lobi : 36\n",
      "Chain: Collaborate On MyVideo Story/Group Video : 35\n",
      "botman - Real time video chat : 7\n",
      "BestieBox : 0\n",
      "MATCH ON LINE chat : 0\n",
      "niconico ch : 0\n",
      "LINE BLOG : 0\n",
      "bit-tube - Live Stream Video Chat : 0\n"
     ]
    }
   ],
   "source": [
    "print('Navigation:')\n",
    "for app in os:\n",
    "    if app[-5] == 'Navigation':\n",
    "        print(app[1], ':', app[5])\n",
    "print('\\n')\n",
    "print('Reference:')\n",
    "for app in os:\n",
    "    if app[-5] == 'Reference':\n",
    "        print(app[1], ':', app[5])\n",
    "print('\\n')\n",
    "print('Social Networking:')\n",
    "for app in os:\n",
    "    if app[-5] == 'Social Networking':\n",
    "        print(app[1], ':', app[5])"
   ]
  },
  {
   "cell_type": "markdown",
   "metadata": {},
   "source": [
    "#### Google Play"
   ]
  },
  {
   "cell_type": "markdown",
   "metadata": {},
   "source": [
    "We perform a similar analysis on the Google Play store to determine the most popular apps. Here we are able to make use of the `'Installs'` column to directly analyze the popularity of each category of apps."
   ]
  },
  {
   "cell_type": "code",
   "execution_count": 27,
   "metadata": {
    "scrolled": false
   },
   "outputs": [
    {
     "name": "stdout",
     "output_type": "stream",
     "text": [
      "{'ART_AND_DESIGN': 1986335.0877192982,\n",
      " 'AUTO_AND_VEHICLES': 647317.8170731707,\n",
      " 'BEAUTY': 513151.88679245283,\n",
      " 'BOOKS_AND_REFERENCE': 8767811.894736841,\n",
      " 'BUSINESS': 1712290.1474201474,\n",
      " 'COMICS': 817657.2727272727,\n",
      " 'COMMUNICATION': 38456119.167247385,\n",
      " 'DATING': 854028.8303030303,\n",
      " 'EDUCATION': 1833495.145631068,\n",
      " 'ENTERTAINMENT': 11640705.88235294,\n",
      " 'EVENTS': 253542.22222222222,\n",
      " 'FAMILY': 3695641.8198090694,\n",
      " 'FINANCE': 1387692.475609756,\n",
      " 'FOOD_AND_DRINK': 1924897.7363636363,\n",
      " 'GAME': 15588015.603248259,\n",
      " 'HEALTH_AND_FITNESS': 4188821.9853479853,\n",
      " 'HOUSE_AND_HOME': 1331540.5616438356,\n",
      " 'LIBRARIES_AND_DEMO': 638503.734939759,\n",
      " 'LIFESTYLE': 1437816.2687861272,\n",
      " 'MAPS_AND_NAVIGATION': 4056941.7741935486,\n",
      " 'MEDICAL': 120550.61980830671,\n",
      " 'NEWS_AND_MAGAZINES': 9549178.467741935,\n",
      " 'PARENTING': 542603.6206896552,\n",
      " 'PERSONALIZATION': 5201482.6122448975,\n",
      " 'PHOTOGRAPHY': 17840110.40229885,\n",
      " 'PRODUCTIVITY': 16787331.344927534,\n",
      " 'SHOPPING': 7036877.311557789,\n",
      " 'SOCIAL': 23253652.127118643,\n",
      " 'SPORTS': 3638640.1428571427,\n",
      " 'TOOLS': 10801391.298666667,\n",
      " 'TRAVEL_AND_LOCAL': 13984077.710144928,\n",
      " 'VIDEO_PLAYERS': 24727872.452830188,\n",
      " 'WEATHER': 5074486.197183099}\n"
     ]
    }
   ],
   "source": [
    "android_freq = freq_table(android, 1)\n",
    "android_dict = {}\n",
    "for category in android_freq:\n",
    "    total = 0\n",
    "    len_category = 0\n",
    "    for app in android:\n",
    "        category_app = app[1]\n",
    "        if category_app == category:\n",
    "            n_installs = app[5]\n",
    "            n_installs = n_installs.replace(',', '')\n",
    "            n_installs = n_installs.replace('+', '')\n",
    "            total += float(n_installs)\n",
    "            len_category += 1\n",
    "    avg_installs = total / len_category\n",
    "    android_dict[category] = avg_installs\n",
    "    #print(category, ':', avg_installs)\n",
    "pprint(android_dict)"
   ]
  },
  {
   "cell_type": "markdown",
   "metadata": {},
   "source": [
    "This data is not easily reviewed due to the number of categories and float values. To determine the top ten categories, we run a quick sort and loop through the resulting list to show the respective average installs."
   ]
  },
  {
   "cell_type": "code",
   "execution_count": 28,
   "metadata": {},
   "outputs": [
    {
     "name": "stdout",
     "output_type": "stream",
     "text": [
      "COMMUNICATION : 38456119.167247385\n",
      "VIDEO_PLAYERS : 24727872.452830188\n",
      "SOCIAL : 23253652.127118643\n",
      "PHOTOGRAPHY : 17840110.40229885\n",
      "PRODUCTIVITY : 16787331.344927534\n",
      "GAME : 15588015.603248259\n",
      "TRAVEL_AND_LOCAL : 13984077.710144928\n",
      "ENTERTAINMENT : 11640705.88235294\n",
      "TOOLS : 10801391.298666667\n",
      "NEWS_AND_MAGAZINES : 9549178.467741935\n"
     ]
    }
   ],
   "source": [
    "top_android = sorted(android_dict, key=android_dict.get, reverse=True)[:10]\n",
    "\n",
    "for category in top_android:\n",
    "    print(category, ':', android_dict[category])\n",
    "    "
   ]
  },
  {
   "cell_type": "code",
   "execution_count": 29,
   "metadata": {
    "scrolled": false
   },
   "outputs": [
    {
     "name": "stdout",
     "output_type": "stream",
     "text": [
      "Above 1B installs:\n",
      "WhatsApp Messenger : 1,000,000,000+\n",
      "Messenger – Text and Video Chat for Free : 1,000,000,000+\n",
      "Skype - free IM & video calls : 1,000,000,000+\n",
      "Google Chrome: Fast & Secure : 1,000,000,000+\n",
      "Gmail : 1,000,000,000+\n",
      "Hangouts : 1,000,000,000+\n",
      "\n",
      "\n",
      "Above 500M installs:\n",
      "Google Duo - High Quality Video Calls : 500,000,000+\n",
      "imo free video calls and chat : 500,000,000+\n",
      "LINE: Free Calls & Messages : 500,000,000+\n",
      "UC Browser - Fast Download Private & Secure : 500,000,000+\n",
      "Viber Messenger : 500,000,000+\n"
     ]
    }
   ],
   "source": [
    "print('Above 1B installs:')\n",
    "for app in android:   \n",
    "    if app[1] == 'COMMUNICATION' and (app[5] == '1,000,000,000+'):\n",
    "        print(app[0], ':', app[5])  \n",
    "print('\\n')\n",
    "print('Above 500M installs:')\n",
    "for app in android:\n",
    "    if app[1] == 'COMMUNICATION' and (app[5] == '500,000,000+'):\n",
    "        print(app[0], ':', app[5])"
   ]
  },
  {
   "cell_type": "code",
   "execution_count": 30,
   "metadata": {},
   "outputs": [
    {
     "name": "stdout",
     "output_type": "stream",
     "text": [
      "YouTube : 1,000,000,000+\n",
      "Google Play Movies & TV : 1,000,000,000+\n",
      "MX Player : 500,000,000+\n",
      "Motorola Gallery : 100,000,000+\n",
      "VLC for Android : 100,000,000+\n",
      "Dubsmash : 100,000,000+\n",
      "VivaVideo - Video Editor & Photo Movie : 100,000,000+\n",
      "VideoShow-Video Editor, Video Maker, Beauty Camera : 100,000,000+\n",
      "Motorola FM Radio : 100,000,000+\n"
     ]
    }
   ],
   "source": [
    "for app in android:   \n",
    "    if app[1] == 'VIDEO_PLAYERS'and (app[5] == '1,000,000,000+'):\n",
    "        print(app[0], ':', app[5]) \n",
    "for app in android:   \n",
    "    if app[1] == 'VIDEO_PLAYERS'and (app[5] == '500,000,000+'):\n",
    "        print(app[0], ':', app[5])\n",
    "for app in android:   \n",
    "    if app[1] == 'VIDEO_PLAYERS'and (app[5] == '100,000,000+'):\n",
    "        print(app[0], ':', app[5]) \n",
    "        "
   ]
  },
  {
   "cell_type": "code",
   "execution_count": 31,
   "metadata": {},
   "outputs": [
    {
     "name": "stdout",
     "output_type": "stream",
     "text": [
      "Facebook : 1,000,000,000+\n",
      "Google+ : 1,000,000,000+\n",
      "Instagram : 1,000,000,000+\n",
      "Facebook Lite : 500,000,000+\n",
      "Snapchat : 500,000,000+\n",
      "Tumblr : 100,000,000+\n",
      "Pinterest : 100,000,000+\n",
      "Badoo - Free Chat & Dating App : 100,000,000+\n",
      "Tango - Live Video Broadcast : 100,000,000+\n",
      "LinkedIn : 100,000,000+\n",
      "Tik Tok - including musical.ly : 100,000,000+\n",
      "BIGO LIVE - Live Stream : 100,000,000+\n",
      "VK : 100,000,000+\n"
     ]
    }
   ],
   "source": [
    "for app in android:   \n",
    "    if app[1] == 'SOCIAL'and (app[5] == '1,000,000,000+'):\n",
    "        print(app[0], ':', app[5]) \n",
    "for app in android:   \n",
    "    if app[1] == 'SOCIAL'and (app[5] == '500,000,000+'):\n",
    "        print(app[0], ':', app[5]) \n",
    "for app in android:   \n",
    "    if app[1] == 'SOCIAL'and (app[5] == '100,000,000+'):\n",
    "        print(app[0], ':', app[5]) "
   ]
  },
  {
   "cell_type": "code",
   "execution_count": null,
   "metadata": {},
   "outputs": [],
   "source": []
  }
 ],
 "metadata": {
  "kernelspec": {
   "display_name": "Python 3",
   "language": "python",
   "name": "python3"
  },
  "language_info": {
   "codemirror_mode": {
    "name": "ipython",
    "version": 3
   },
   "file_extension": ".py",
   "mimetype": "text/x-python",
   "name": "python",
   "nbconvert_exporter": "python",
   "pygments_lexer": "ipython3",
   "version": "3.8.5"
  }
 },
 "nbformat": 4,
 "nbformat_minor": 4
}
