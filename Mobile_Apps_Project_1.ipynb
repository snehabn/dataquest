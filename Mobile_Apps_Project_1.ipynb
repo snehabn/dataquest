{
 "cells": [
  {
   "cell_type": "markdown",
   "metadata": {},
   "source": [
    "# Analysis of Android and iOS Apps Installations"
   ]
  },
  {
   "cell_type": "markdown",
   "metadata": {},
   "source": [
    "## Overview\n",
    "This project will explore data on user engagement with mobile applications in the App Store and Google Play that are available free of cost."
   ]
  },
  {
   "cell_type": "markdown",
   "metadata": {},
   "source": [
    "## Goal\n",
    "The goal of this data research is to understand better which types of mobile applications attract more users."
   ]
  },
  {
   "cell_type": "markdown",
   "metadata": {},
   "source": [
    "### Part 1 - Exploring Data\n",
    "Let's start by importing data on the App Store and Google Play. We will source the data from Kaggle. The [Google Play Data](https://www.kaggle.com/lava18/google-play-store-apps) has 9660 unique entries and the [Apps Store Data](https://www.kaggle.com/ramamet4/app-store-apple-data-set-10k-apps) has 7195 unique entries.\n",
    "\n",
    "Next we source the reader from the csv module and open the files."
   ]
  },
  {
   "cell_type": "code",
   "execution_count": 1,
   "metadata": {},
   "outputs": [],
   "source": [
    "from csv import reader\n",
    "\n",
    "### Apple Store Dataset ###\n",
    "os_opened_file = open('AppleStore.csv')\n",
    "os_read_file = reader(os_opened_file)\n",
    "os_apps_data = list(os_read_file)\n",
    "os_header = os_apps_data[0]\n",
    "os_content = os_apps_data[1:]\n",
    "\n",
    "### Google Play Dataset ###\n",
    "gp_opened_file = open('googleplaystore.csv')\n",
    "gp_read_file = reader(gp_opened_file)\n",
    "gp_apps_data = list(gp_read_file)\n",
    "gp_header = gp_apps_data[0]\n",
    "gp_content = gp_apps_data[1:]"
   ]
  },
  {
   "cell_type": "markdown",
   "metadata": {},
   "source": [
    "We are going to explore these datasets using the following `explore_data()` function. We are able to see what sort of information is available for each mobile app in both of these datasets. This preliminary analysis shows that the App Store dataset has 7,197 apps and the Google Play dataset has 10,841 apps. We further see that this data also has 16 and 13 columns of information for the App Store and Google Play, respectively."
   ]
  },
  {
   "cell_type": "code",
   "execution_count": 2,
   "metadata": {
    "scrolled": false
   },
   "outputs": [
    {
     "name": "stdout",
     "output_type": "stream",
     "text": [
      "Apple Store Dataset:\n",
      "['id', 'track_name', 'size_bytes', 'currency', 'price', 'rating_count_tot', 'rating_count_ver', 'user_rating', 'user_rating_ver', 'ver', 'cont_rating', 'prime_genre', 'sup_devices.num', 'ipadSc_urls.num', 'lang.num', 'vpp_lic']\n",
      "\n",
      "\n",
      "['512939461', 'Subway Surfers', '156038144', 'USD', '0.0', '706110', '97', '4.5', '4.0', '1.72.1', '9+', 'Games', '38', '5', '1', '1']\n",
      "\n",
      "\n",
      "['362949845', 'Fruit Ninja Classic', '104590336', 'USD', '1.99', '698516', '132', '4.5', '4.0', '2.3.9', '4+', 'Games', '38', '5', '13', '1']\n",
      "\n",
      "\n",
      "Number of rows: 7197\n",
      "Number of columns: 16\n",
      "\n",
      "\n",
      "Google Play Dataset:\n",
      "['App', 'Category', 'Rating', 'Reviews', 'Size', 'Installs', 'Type', 'Price', 'Content Rating', 'Genres', 'Last Updated', 'Current Ver', 'Android Ver']\n",
      "\n",
      "\n",
      "['Text on Photo - Fonteee', 'ART_AND_DESIGN', '4.4', '13880', '28M', '1,000,000+', 'Free', '0', 'Everyone', 'Art & Design', 'October 27, 2017', '1.0.4', '4.1 and up']\n",
      "\n",
      "\n",
      "['Name Art Photo Editor - Focus n Filters', 'ART_AND_DESIGN', '4.4', '8788', '12M', '1,000,000+', 'Free', '0', 'Everyone', 'Art & Design', 'July 31, 2018', '1.0.15', '4.0 and up']\n",
      "\n",
      "\n",
      "Number of rows: 10841\n",
      "Number of columns: 13\n"
     ]
    }
   ],
   "source": [
    "def explore_data(dataset, start, end, rows_and_columns=False):\n",
    "    dataset_slice = dataset[start:end]    \n",
    "    for row in dataset_slice:\n",
    "        print(row)\n",
    "        print('\\n') # adds a new (empty) line after each row\n",
    "\n",
    "    if rows_and_columns:\n",
    "        print('Number of rows:', len(dataset))\n",
    "        print('Number of columns:', len(dataset[0]))\n",
    "        \n",
    "print('Apple Store Dataset:')\n",
    "print(os_header)\n",
    "print('\\n')\n",
    "explore_data(os_content, 10, 12, True)\n",
    "\n",
    "print('\\n')\n",
    "\n",
    "print('Google Play Dataset:')\n",
    "print(gp_header)\n",
    "print('\\n')\n",
    "explore_data(gp_content, 10, 12, True)"
   ]
  },
  {
   "cell_type": "markdown",
   "metadata": {},
   "source": [
    "---"
   ]
  },
  {
   "cell_type": "markdown",
   "metadata": {},
   "source": [
    "## Data Cleanup\n",
    "### Part 1 - Identifying Missing and Duplicate Data\n",
    "Let's start our analysis first with the Google Play dataset. We see that there are a few discrepancies in the data, some entries have missing data, or there are multiples of the same entries. In this step we start the clean the data for more robust and reliable analysis.\n",
    "\n",
    "First let's sort out and remove datapoints that have incomplete information:"
   ]
  },
  {
   "cell_type": "code",
   "execution_count": 3,
   "metadata": {
    "scrolled": false
   },
   "outputs": [
    {
     "name": "stdout",
     "output_type": "stream",
     "text": [
      "['App', 'Category', 'Rating', 'Reviews', 'Size', 'Installs', 'Type', 'Price', 'Content Rating', 'Genres', 'Last Updated', 'Current Ver', 'Android Ver']\n",
      "\n",
      "\n",
      "['Life Made WI-Fi Touchscreen Photo Frame', '1.9', '19', '3.0M', '1,000+', 'Free', '0', 'Everyone', '', 'February 11, 2018', '1.0.19', '4.0 and up']\n",
      "\n",
      "\n",
      "Number of rows: 10841\n",
      "Number of columns: 13\n",
      "\n",
      "\n"
     ]
    },
    {
     "data": {
      "text/plain": [
       "['osmino Wi-Fi: free WiFi',\n",
       " 'TOOLS',\n",
       " '4.2',\n",
       " '134203',\n",
       " '4.1M',\n",
       " '10,000,000+',\n",
       " 'Free',\n",
       " '0',\n",
       " 'Everyone',\n",
       " 'Tools',\n",
       " 'August 7, 2018',\n",
       " '6.06.14',\n",
       " '4.4 and up']"
      ]
     },
     "execution_count": 3,
     "metadata": {},
     "output_type": "execute_result"
    }
   ],
   "source": [
    "print(gp_header)\n",
    "print('\\n')\n",
    "explore_data(gp_content, 10472, 10473, True)\n",
    "print('\\n')\n",
    "gp_content[10472]\n",
    "\n",
    "del gp_content[10472]\n",
    "gp_content[10472]"
   ]
  },
  {
   "cell_type": "markdown",
   "metadata": {},
   "source": [
    "Next, let check for duplicate entries. We initialize two lists, `gp_duplicate_apps` and `gp_unique_apps`. Next, we loop through the list `gp_content` and examine the name of each app. If the name is found in the list `gp_unique_apps`, the name is then additionally added to the `gp_duplicate_apps` list. Otherwise, the name of the app is appended to the list,`gp_unique_apps`."
   ]
  },
  {
   "cell_type": "code",
   "execution_count": 4,
   "metadata": {},
   "outputs": [
    {
     "name": "stdout",
     "output_type": "stream",
     "text": [
      "Number of duplicate apps: 1181\n",
      "\n",
      "\n",
      "Examples of duplicate apps: ['Quick PDF Scanner + OCR FREE', 'Box', 'Google My Business', 'ZOOM Cloud Meetings', 'join.me - Simple Meetings', 'Box', 'Zenefits', 'Google Ads', 'Google My Business', 'Slack', 'FreshBooks Classic', 'Insightly CRM', 'QuickBooks Accounting: Invoicing & Expenses', 'HipChat - Chat Built for Teams', 'Xero Accounting Software', 'MailChimp - Email, Marketing Automation', 'Crew - Free Messaging and Scheduling', 'Asana: organize team projects', 'Google Analytics', 'AdWords Express']\n"
     ]
    }
   ],
   "source": [
    "gp_duplicate_apps = []\n",
    "gp_unique_apps = []\n",
    "\n",
    "for app in gp_content:\n",
    "    name = app[0]\n",
    "    if name in gp_unique_apps:\n",
    "        gp_duplicate_apps.append(name)\n",
    "    else:\n",
    "        gp_unique_apps.append(name)\n",
    "        \n",
    "print('Number of duplicate apps:', len(gp_duplicate_apps))\n",
    "print('\\n')\n",
    "print('Examples of duplicate apps:', gp_duplicate_apps[:20])"
   ]
  },
  {
   "cell_type": "markdown",
   "metadata": {},
   "source": [
    "Here we can see there are quite a few duplicate entries in the dataset. There are many ways to distill this list to retain the correct versions. Two possible ways are by examining the reviews column or installs column. These columns show the total number of reviews and the total number of installs, respectively. By choosing to use the reviews column to analyze, we can ensure that the entry with the highest number of reviews is likely the most recent entry in the data."
   ]
  },
  {
   "cell_type": "code",
   "execution_count": 5,
   "metadata": {},
   "outputs": [
    {
     "name": "stdout",
     "output_type": "stream",
     "text": [
      "Expected length: 9659\n"
     ]
    }
   ],
   "source": [
    "print('Expected length:', len(gp_content)-1181)"
   ]
  },
  {
   "cell_type": "markdown",
   "metadata": {},
   "source": [
    "Quickly using the same method as above, let's check for any duplicate entries in the App Store data set:"
   ]
  },
  {
   "cell_type": "code",
   "execution_count": 6,
   "metadata": {},
   "outputs": [
    {
     "name": "stdout",
     "output_type": "stream",
     "text": [
      "Number of duplicate apps: 2\n",
      "\n",
      "\n",
      "Duplicate apps: ['Mannequin Challenge', 'VR Roller Coaster']\n",
      "Expected length: 7195\n"
     ]
    }
   ],
   "source": [
    "os_duplicate_apps = []\n",
    "os_unique_apps = []\n",
    "\n",
    "for app in os_content:\n",
    "    name = app[1]\n",
    "    if name in os_unique_apps:\n",
    "        os_duplicate_apps.append(name)\n",
    "    else:\n",
    "        os_unique_apps.append(name)\n",
    "        \n",
    "print('Number of duplicate apps:', len(os_duplicate_apps))\n",
    "print('\\n')\n",
    "print('Duplicate apps:', os_duplicate_apps)\n",
    "print('Expected length:', len(os_content)-2)"
   ]
  },
  {
   "cell_type": "markdown",
   "metadata": {},
   "source": [
    "### Part 2 - Consolidation of Multiple Data\n",
    "\n",
    "Here we loop through the Google Play content list and identify the maximum reviews for each application. We start with initializing a dictionary, `reviews_max`. Next, we loop through `gp_content`. If the name of the app is present in the `reviews_max` dictionary as a key **and** the number of reviews present in the dictionary value is less than the number if reviews for this app entry, we update the value. Otherwise if the name is not present in the dictionary, we add the name as a new key and review value."
   ]
  },
  {
   "cell_type": "code",
   "execution_count": 7,
   "metadata": {},
   "outputs": [
    {
     "name": "stdout",
     "output_type": "stream",
     "text": [
      "[('Free Live Talk-Video Call', 158.0), ('Ascape VR: 360° Virtual Travel', 890.0), ('Phoenix - Facebook & Messenger', 9606.0), ('R Bank', 90.0), ('Disc Label Print', 262.0), ('AJ Jump: Animal Jam Kangaroos!', 2975.0), ('EZ-SEE', 71.0), ('BK Formula Calculator', 6.0), ('Organizer', 936.0), ('PitchBlack S - Samsung Substratum Theme “For Oreo”', 90.0)]\n"
     ]
    }
   ],
   "source": [
    "import random\n",
    "reviews_max = {}\n",
    "for app in gp_content:\n",
    "    name = app[0]\n",
    "    n_reviews = float(app[3])\n",
    "    \n",
    "    if name in reviews_max and reviews_max[name] < n_reviews:\n",
    "        reviews_max[name] = n_reviews\n",
    "        \n",
    "    elif name not in reviews_max:\n",
    "        reviews_max[name] = n_reviews\n",
    "\n",
    "\n",
    "print(random.sample( reviews_max.items(), 10 ))"
   ]
  },
  {
   "cell_type": "code",
   "execution_count": 8,
   "metadata": {},
   "outputs": [
    {
     "name": "stdout",
     "output_type": "stream",
     "text": [
      "9659\n"
     ]
    }
   ],
   "source": [
    "print(len(reviews_max))"
   ]
  },
  {
   "cell_type": "markdown",
   "metadata": {},
   "source": [
    "This dictionary provides a guide for cherry-picking the correct data out of the main dataset. The next step taken will generate a new list of data that only includes the most recent entries based on number of reviews.\n",
    "Here we initialize two empty lists, `android_clean` and `already_added`. Looping through the applications in `gp_content` we examine the number of reviews for each entry and set it as a float to the variable `n_reviews`. We then refer back to the dictionary, `reviews_max` that we created in the previous step to compare the value of each key to the value of `n_reviews`. If the values match and if the name of the app is not in the `already_added` list, we append the entry to the `android_clean` list and add in the entry to `aldready_added` list to prevent a repeat entry."
   ]
  },
  {
   "cell_type": "code",
   "execution_count": 9,
   "metadata": {
    "scrolled": true
   },
   "outputs": [
    {
     "name": "stdout",
     "output_type": "stream",
     "text": [
      "['Name Art Photo Editor - Focus n Filters', 'ART_AND_DESIGN', '4.4', '8788', '12M', '1,000,000+', 'Free', '0', 'Everyone', 'Art & Design', 'July 31, 2018', '1.0.15', '4.0 and up']\n"
     ]
    }
   ],
   "source": [
    "android_clean = []\n",
    "already_added = []\n",
    "\n",
    "for app in gp_content:\n",
    "    name = app[0]\n",
    "    n_reviews = float(app[3])\n",
    "    \n",
    "    if n_reviews == reviews_max[name] and name not in already_added:\n",
    "        android_clean.append(app)\n",
    "        already_added.append(name)\n",
    "\n",
    "print(android_clean[10])"
   ]
  },
  {
   "cell_type": "code",
   "execution_count": 10,
   "metadata": {},
   "outputs": [
    {
     "name": "stdout",
     "output_type": "stream",
     "text": [
      "9659\n"
     ]
    }
   ],
   "source": [
    "print(len(android_clean))"
   ]
  },
  {
   "cell_type": "markdown",
   "metadata": {},
   "source": [
    "Next we repeat the process to ensure that the data for the App Store is clean and has the most current information on each app."
   ]
  },
  {
   "cell_type": "code",
   "execution_count": 11,
   "metadata": {},
   "outputs": [
    {
     "name": "stdout",
     "output_type": "stream",
     "text": [
      "7195\n",
      "[('Troll Face Quest Video Games', 2118.0), ('Flowstate', 70.0), ('Water Bottle Flip Challenge', 868.0), ('【殺人現場へようこそ】推理サスペンス劇場/謎解き大人の脳トレゲーム', 0.0), ('A.BIG.T -- A Smart VPN', 17.0), ('Dude Perfect', 9763.0), ('Beautiful Japanese Handwriting', 0.0), ('Tayasui Sketches Pro', 1761.0), ('CLUE Bingo', 12123.0), ('Pirate Power', 2555.0)]\n",
      "7195\n"
     ]
    }
   ],
   "source": [
    "print(len(os_unique_apps))\n",
    "os_reviews_max = {}\n",
    "\n",
    "for app in os_content:\n",
    "    name = app[1]\n",
    "    os_reviews = float(app[5])\n",
    "    \n",
    "    if name in os_reviews_max and os_reviews_max[name] < os_reviews:\n",
    "        os_reviews_max[name] = os_reviews\n",
    "    \n",
    "    elif name not in os_reviews_max:\n",
    "        os_reviews_max[name] = os_reviews\n",
    "print(random.sample( os_reviews_max.items(), 10 ))\n",
    "print(len(os_reviews_max))\n"
   ]
  },
  {
   "cell_type": "code",
   "execution_count": 12,
   "metadata": {
    "scrolled": true
   },
   "outputs": [
    {
     "name": "stdout",
     "output_type": "stream",
     "text": [
      "7195\n"
     ]
    }
   ],
   "source": [
    "os_clean = []\n",
    "os_already_added = []\n",
    "for app in os_content:\n",
    "    name = app[1]\n",
    "    os_reviews = float(app[5])\n",
    "    if os_reviews == os_reviews_max[name] and name not in os_already_added:\n",
    "        os_clean.append(app)\n",
    "        os_already_added.append(name)\n",
    "\n",
    "print(len(os_already_added))"
   ]
  },
  {
   "cell_type": "markdown",
   "metadata": {},
   "source": [
    "### Part 3 - Extraction of English-only Apps"
   ]
  },
  {
   "cell_type": "markdown",
   "metadata": {},
   "source": [
    "Next we will remove any non-english apps from the dataset by employing the ASCII system. Here we create a function that takes in an input of strings and examines if each character falls into the desired ASCII range. English characters are identifiable if they have an ASCII value between zero to 127, inclusive. "
   ]
  },
  {
   "cell_type": "code",
   "execution_count": 13,
   "metadata": {},
   "outputs": [],
   "source": [
    "def is_english(input_str):\n",
    "    for character in input_str:\n",
    "        if ord(character) > 127:\n",
    "            return False      \n",
    "    return True"
   ]
  },
  {
   "cell_type": "markdown",
   "metadata": {},
   "source": [
    "Next, let's test out the function on various types of strings:"
   ]
  },
  {
   "cell_type": "code",
   "execution_count": 14,
   "metadata": {},
   "outputs": [
    {
     "name": "stdout",
     "output_type": "stream",
     "text": [
      "True\n",
      "False\n",
      "False\n",
      "False\n"
     ]
    }
   ],
   "source": [
    "print(is_english('Instagram'))\n",
    "print(is_english('爱奇艺PPS -《欢乐颂2》电视剧热播'))\n",
    "print(is_english('Docs To Go™ Free Office Suite'))\n",
    "print(is_english('Instachat 😜'))"
   ]
  },
  {
   "cell_type": "markdown",
   "metadata": {},
   "source": [
    "There is a minor issue with the previously defined `is_english` function. It does not accept any special characters and emojis as they fall out of the ASCII range we have set. We will create another conditional where if there are more than three non-English characters, the function returns false."
   ]
  },
  {
   "cell_type": "code",
   "execution_count": 15,
   "metadata": {},
   "outputs": [],
   "source": [
    "def is_english(input_str):\n",
    "    non_eng = 0\n",
    "    for character in input_str:\n",
    "        if ord(character) > 127:\n",
    "            non_eng += 1\n",
    "            if non_eng > 3:\n",
    "                return False      \n",
    "    return True"
   ]
  },
  {
   "cell_type": "code",
   "execution_count": 16,
   "metadata": {},
   "outputs": [
    {
     "name": "stdout",
     "output_type": "stream",
     "text": [
      "True\n",
      "False\n",
      "True\n",
      "True\n"
     ]
    }
   ],
   "source": [
    "print(is_english('Instagram'))\n",
    "print(is_english('爱奇艺PPS -《欢乐颂2》电视剧热播'))\n",
    "print(is_english('Docs To Go™ Free Office Suite'))\n",
    "print(is_english('Instachat 😜'))"
   ]
  },
  {
   "cell_type": "code",
   "execution_count": 17,
   "metadata": {},
   "outputs": [
    {
     "name": "stdout",
     "output_type": "stream",
     "text": [
      "The number of english apps in Google Play is: 9614\n",
      "The number of english apps in App Store is: 6181\n"
     ]
    }
   ],
   "source": [
    "android_english = []\n",
    "for app in android_clean:\n",
    "    name = app[0]\n",
    "    if is_english(name):\n",
    "        android_english.append(app)\n",
    "        \n",
    "print('The number of english apps in Google Play is:', len(android_english))\n",
    "\n",
    "os_english = []\n",
    "for app in os_clean:\n",
    "    name = app[1]\n",
    "    if is_english(name):\n",
    "        os_english.append(app)\n",
    "\n",
    "print('The number of english apps in App Store is:', len(os_english))"
   ]
  },
  {
   "cell_type": "code",
   "execution_count": 18,
   "metadata": {},
   "outputs": [
    {
     "name": "stdout",
     "output_type": "stream",
     "text": [
      "[['Superheroes Wallpapers | 4K Backgrounds', 'ART_AND_DESIGN', '4.7', '7699', '4.2M', '500,000+', 'Free', '0', 'Everyone 10+', 'Art & Design', 'July 12, 2018', '2.2.6.2', '4.0.3 and up'], ['HD Mickey Minnie Wallpapers', 'ART_AND_DESIGN', '4.7', '118', '23M', '50,000+', 'Free', '0', 'Everyone', 'Art & Design', 'July 7, 2018', '1.1.3', '4.1 and up'], ['Harley Quinn wallpapers HD', 'ART_AND_DESIGN', '4.8', '192', '6.0M', '10,000+', 'Free', '0', 'Everyone', 'Art & Design', 'April 25, 2018', '1.5', '3.0 and up'], ['Colorfit - Drawing & Coloring', 'ART_AND_DESIGN', '4.7', '20260', '25M', '500,000+', 'Free', '0', 'Everyone', 'Art & Design;Creativity', 'October 11, 2017', '1.0.8', '4.0.3 and up']]\n",
      "\n",
      "\n",
      "The number of free apps in Google Play is: 8864\n",
      "The number of free apps in App Store is: 3220\n"
     ]
    }
   ],
   "source": [
    "from pprint import pprint\n",
    "android = []\n",
    "for app in android_english:\n",
    "    price = float(app[7].strip('$'))\n",
    "    if price == 0.0:\n",
    "        android.append(app)\n",
    "        \n",
    "# pprint --> prints lists in more organized manner        \n",
    "print(android[21:25])\n",
    "print('\\n')\n",
    "print('The number of free apps in Google Play is:', len(android))\n",
    "\n",
    "os = []\n",
    "for app in os_english:\n",
    "    price = app[4]\n",
    "    if price == '0.0':\n",
    "        os.append(app)\n",
    "        \n",
    "print('The number of free apps in App Store is:', len(os))"
   ]
  },
  {
   "cell_type": "markdown",
   "metadata": {},
   "source": [
    "---"
   ]
  },
  {
   "cell_type": "markdown",
   "metadata": {},
   "source": [
    "## Data Analysis"
   ]
  },
  {
   "cell_type": "markdown",
   "metadata": {},
   "source": [
    "The cleaned datasets are now ready for analysis. We will now explore the data using a previously defined function, `explore_data`, to determine which types of apps are most likely to be installed and used. Let's look to see which columns could prove to be most useful for analysis."
   ]
  },
  {
   "cell_type": "code",
   "execution_count": 19,
   "metadata": {},
   "outputs": [
    {
     "name": "stdout",
     "output_type": "stream",
     "text": [
      "Google Play Dataset:\n",
      "['App', 'Category', 'Rating', 'Reviews', 'Size', 'Installs', 'Type', 'Price', 'Content Rating', 'Genres', 'Last Updated', 'Current Ver', 'Android Ver']\n",
      "\n",
      "\n",
      "['Photo Editor & Candy Camera & Grid & ScrapBook', 'ART_AND_DESIGN', '4.1', '159', '19M', '10,000+', 'Free', '0', 'Everyone', 'Art & Design', 'January 7, 2018', '1.0.0', '4.0.3 and up']\n",
      "\n",
      "\n",
      "['U Launcher Lite – FREE Live Cool Themes, Hide Apps', 'ART_AND_DESIGN', '4.7', '87510', '8.7M', '5,000,000+', 'Free', '0', 'Everyone', 'Art & Design', 'August 1, 2018', '1.2.4', '4.0.3 and up']\n",
      "\n",
      "\n",
      "Number of rows: 8864\n",
      "Number of columns: 13\n",
      "\n",
      "\n",
      "Apple Store Dataset:\n",
      "['id', 'track_name', 'size_bytes', 'currency', 'price', 'rating_count_tot', 'rating_count_ver', 'user_rating', 'user_rating_ver', 'ver', 'cont_rating', 'prime_genre', 'sup_devices.num', 'ipadSc_urls.num', 'lang.num', 'vpp_lic']\n",
      "\n",
      "\n",
      "['284882215', 'Facebook', '389879808', 'USD', '0.0', '2974676', '212', '3.5', '3.5', '95.0', '4+', 'Social Networking', '37', '1', '29', '1']\n",
      "\n",
      "\n",
      "['389801252', 'Instagram', '113954816', 'USD', '0.0', '2161558', '1289', '4.5', '4.0', '10.23', '12+', 'Photo & Video', '37', '0', '29', '1']\n",
      "\n",
      "\n",
      "Number of rows: 3220\n",
      "Number of columns: 16\n"
     ]
    }
   ],
   "source": [
    "print('Google Play Dataset:')\n",
    "print(gp_header)\n",
    "print('\\n')\n",
    "explore_data(android, 0, 2, True)\n",
    "print('\\n')\n",
    "print('Apple Store Dataset:')\n",
    "print(os_header)\n",
    "print('\\n')\n",
    "explore_data(os, 0, 2, True)"
   ]
  },
  {
   "cell_type": "markdown",
   "metadata": {},
   "source": [
    "For the Google Play dataset, we can use the `Category` and `Genre` columns and for the Apple Store dataset, the `prime_genre` columns would prove most useful."
   ]
  },
  {
   "cell_type": "markdown",
   "metadata": {},
   "source": [
    "Next we will create a new function, `freq_table` that will return a frequency table of a column."
   ]
  },
  {
   "cell_type": "code",
   "execution_count": 20,
   "metadata": {},
   "outputs": [],
   "source": [
    "def freq_table(dataset, index):\n",
    "    freq = {}\n",
    "    for app in dataset:\n",
    "        genre = app[index]\n",
    "        if genre in freq:\n",
    "            freq[genre] += 1\n",
    "        else:\n",
    "            freq[genre] = 1\n",
    "    \n",
    "    freq_percent = {}\n",
    "    for genre in freq:\n",
    "        freq_percent[genre] = ((freq[genre]/len(dataset))*100)\n",
    "        \n",
    "    return freq_percent"
   ]
  },
  {
   "cell_type": "code",
   "execution_count": 21,
   "metadata": {},
   "outputs": [],
   "source": [
    "### provided by coursework\n",
    "def display_table(dataset, index):\n",
    "    table = freq_table(dataset, index)\n",
    "    table_display = []\n",
    "    for key in table:\n",
    "        key_val_as_tuple = (table[key], key)\n",
    "        table_display.append(key_val_as_tuple)\n",
    "\n",
    "    table_sorted = sorted(table_display, reverse = True)\n",
    "    for entry in table_sorted:\n",
    "        print(entry[1], ':', entry[0])"
   ]
  },
  {
   "cell_type": "markdown",
   "metadata": {},
   "source": [
    "Let us examine the frequency tables of the Google Play and the App Store data:"
   ]
  },
  {
   "cell_type": "markdown",
   "metadata": {},
   "source": [
    "App Store:"
   ]
  },
  {
   "cell_type": "markdown",
   "metadata": {},
   "source": [
    "Here we can observe that there is a significant majority present in the data. 58% of the free apps fall under the Games genre. The next common is Entertainment, at around 7.9%, followed by Photo & Video at almost 5%. There is a clear picture here that the most apps that make it to the App Store are games. Most other apps fall into single digit percentages, with only a couple percentage points separating them.\n",
    "\n",
    "Although most apps are categorized as games, we will have to investigate further to see if the most successful apps still fall under this genre. Some future analysis would include examining the number of ratings and average user ratings for each app."
   ]
  },
  {
   "cell_type": "code",
   "execution_count": 22,
   "metadata": {
    "scrolled": false
   },
   "outputs": [
    {
     "name": "stdout",
     "output_type": "stream",
     "text": [
      "Games : 58.13664596273293\n",
      "Entertainment : 7.888198757763975\n",
      "Photo & Video : 4.968944099378882\n",
      "Education : 3.6645962732919255\n",
      "Social Networking : 3.291925465838509\n",
      "Shopping : 2.608695652173913\n",
      "Utilities : 2.515527950310559\n",
      "Sports : 2.142857142857143\n",
      "Music : 2.049689440993789\n",
      "Health & Fitness : 2.018633540372671\n",
      "Productivity : 1.7391304347826086\n",
      "Lifestyle : 1.5838509316770186\n",
      "News : 1.3354037267080745\n",
      "Travel : 1.2422360248447204\n",
      "Finance : 1.1180124223602486\n",
      "Weather : 0.8695652173913043\n",
      "Food & Drink : 0.8074534161490683\n",
      "Reference : 0.5590062111801243\n",
      "Business : 0.5279503105590062\n",
      "Book : 0.43478260869565216\n",
      "Navigation : 0.18633540372670807\n",
      "Medical : 0.18633540372670807\n",
      "Catalogs : 0.12422360248447205\n"
     ]
    }
   ],
   "source": [
    "display_table(os, -5)"
   ]
  },
  {
   "cell_type": "markdown",
   "metadata": {},
   "source": [
    "Google Play (Genres):"
   ]
  },
  {
   "cell_type": "markdown",
   "metadata": {},
   "source": [
    "Immediately we can observe two main things about the Genres data table. First, the data is much more evenly spread out, and second there are many more genres. Here we see that the most common genre is Tools, containing almost 8.5% of all apps in the dataset. Similar to the App Store data, the second most common genre is Entertainment, at around 6.1%; followed by Education at around 5.3%.\n",
    "\n",
    "One interesting thing to note with this data set is that some genres seem to have sub-genres (ex: Education, Entertainment, etc...). This requires some extra clean up so that the data presented is more robust."
   ]
  },
  {
   "cell_type": "code",
   "execution_count": 23,
   "metadata": {
    "scrolled": false
   },
   "outputs": [
    {
     "name": "stdout",
     "output_type": "stream",
     "text": [
      "Tools : 8.449909747292418\n",
      "Entertainment : 6.069494584837545\n",
      "Education : 5.347472924187725\n",
      "Business : 4.591606498194946\n",
      "Productivity : 3.892148014440433\n",
      "Lifestyle : 3.892148014440433\n",
      "Finance : 3.7003610108303246\n",
      "Medical : 3.531137184115524\n",
      "Sports : 3.463447653429603\n",
      "Personalization : 3.3167870036101084\n",
      "Communication : 3.2378158844765346\n",
      "Action : 3.1024368231046933\n",
      "Health & Fitness : 3.0798736462093865\n",
      "Photography : 2.944494584837545\n",
      "News & Magazines : 2.7978339350180503\n",
      "Social : 2.6624548736462095\n",
      "Travel & Local : 2.3240072202166067\n",
      "Shopping : 2.2450361010830324\n",
      "Books & Reference : 2.1435018050541514\n",
      "Simulation : 2.0419675090252705\n",
      "Dating : 1.861462093862816\n",
      "Arcade : 1.8501805054151623\n",
      "Video Players & Editors : 1.7712093862815883\n",
      "Casual : 1.7599277978339352\n",
      "Maps & Navigation : 1.3989169675090252\n",
      "Food & Drink : 1.2409747292418771\n",
      "Puzzle : 1.128158844765343\n",
      "Racing : 0.9927797833935018\n",
      "Role Playing : 0.9363718411552346\n",
      "Libraries & Demo : 0.9363718411552346\n",
      "Auto & Vehicles : 0.9250902527075812\n",
      "Strategy : 0.9138086642599278\n",
      "House & Home : 0.8235559566787004\n",
      "Weather : 0.8009927797833934\n",
      "Events : 0.7107400722021661\n",
      "Adventure : 0.6768953068592057\n",
      "Comics : 0.6092057761732852\n",
      "Beauty : 0.5979241877256317\n",
      "Art & Design : 0.5979241877256317\n",
      "Parenting : 0.4963898916967509\n",
      "Card : 0.45126353790613716\n",
      "Casino : 0.42870036101083037\n",
      "Trivia : 0.41741877256317694\n",
      "Educational;Education : 0.39485559566787\n",
      "Board : 0.3835740072202166\n",
      "Educational : 0.3722924187725632\n",
      "Education;Education : 0.33844765342960287\n",
      "Word : 0.2594765342960289\n",
      "Casual;Pretend Play : 0.236913357400722\n",
      "Music : 0.2030685920577617\n",
      "Racing;Action & Adventure : 0.16922382671480143\n",
      "Puzzle;Brain Games : 0.16922382671480143\n",
      "Entertainment;Music & Video : 0.16922382671480143\n",
      "Casual;Brain Games : 0.13537906137184114\n",
      "Casual;Action & Adventure : 0.13537906137184114\n",
      "Arcade;Action & Adventure : 0.12409747292418773\n",
      "Action;Action & Adventure : 0.10153429602888085\n",
      "Educational;Pretend Play : 0.09025270758122744\n",
      "Simulation;Action & Adventure : 0.078971119133574\n",
      "Parenting;Education : 0.078971119133574\n",
      "Entertainment;Brain Games : 0.078971119133574\n",
      "Board;Brain Games : 0.078971119133574\n",
      "Parenting;Music & Video : 0.06768953068592057\n",
      "Educational;Brain Games : 0.06768953068592057\n",
      "Casual;Creativity : 0.06768953068592057\n",
      "Art & Design;Creativity : 0.06768953068592057\n",
      "Education;Pretend Play : 0.056407942238267145\n",
      "Role Playing;Pretend Play : 0.04512635379061372\n",
      "Education;Creativity : 0.04512635379061372\n",
      "Role Playing;Action & Adventure : 0.033844765342960284\n",
      "Puzzle;Action & Adventure : 0.033844765342960284\n",
      "Entertainment;Creativity : 0.033844765342960284\n",
      "Entertainment;Action & Adventure : 0.033844765342960284\n",
      "Educational;Creativity : 0.033844765342960284\n",
      "Educational;Action & Adventure : 0.033844765342960284\n",
      "Education;Music & Video : 0.033844765342960284\n",
      "Education;Brain Games : 0.033844765342960284\n",
      "Education;Action & Adventure : 0.033844765342960284\n",
      "Adventure;Action & Adventure : 0.033844765342960284\n",
      "Video Players & Editors;Music & Video : 0.02256317689530686\n",
      "Sports;Action & Adventure : 0.02256317689530686\n",
      "Simulation;Pretend Play : 0.02256317689530686\n",
      "Puzzle;Creativity : 0.02256317689530686\n",
      "Music;Music & Video : 0.02256317689530686\n",
      "Entertainment;Pretend Play : 0.02256317689530686\n",
      "Casual;Education : 0.02256317689530686\n",
      "Board;Action & Adventure : 0.02256317689530686\n",
      "Video Players & Editors;Creativity : 0.01128158844765343\n",
      "Trivia;Education : 0.01128158844765343\n",
      "Travel & Local;Action & Adventure : 0.01128158844765343\n",
      "Tools;Education : 0.01128158844765343\n",
      "Strategy;Education : 0.01128158844765343\n",
      "Strategy;Creativity : 0.01128158844765343\n",
      "Strategy;Action & Adventure : 0.01128158844765343\n",
      "Simulation;Education : 0.01128158844765343\n",
      "Role Playing;Brain Games : 0.01128158844765343\n",
      "Racing;Pretend Play : 0.01128158844765343\n",
      "Puzzle;Education : 0.01128158844765343\n",
      "Parenting;Brain Games : 0.01128158844765343\n",
      "Music & Audio;Music & Video : 0.01128158844765343\n",
      "Lifestyle;Pretend Play : 0.01128158844765343\n",
      "Lifestyle;Education : 0.01128158844765343\n",
      "Health & Fitness;Education : 0.01128158844765343\n",
      "Health & Fitness;Action & Adventure : 0.01128158844765343\n",
      "Entertainment;Education : 0.01128158844765343\n",
      "Communication;Creativity : 0.01128158844765343\n",
      "Comics;Creativity : 0.01128158844765343\n",
      "Casual;Music & Video : 0.01128158844765343\n",
      "Card;Action & Adventure : 0.01128158844765343\n",
      "Books & Reference;Education : 0.01128158844765343\n",
      "Art & Design;Pretend Play : 0.01128158844765343\n",
      "Art & Design;Action & Adventure : 0.01128158844765343\n",
      "Arcade;Pretend Play : 0.01128158844765343\n",
      "Adventure;Education : 0.01128158844765343\n"
     ]
    }
   ],
   "source": [
    "display_table(android, -4)"
   ]
  },
  {
   "cell_type": "markdown",
   "metadata": {},
   "source": [
    "Google Play (Category):"
   ]
  },
  {
   "cell_type": "markdown",
   "metadata": {},
   "source": [
    "While the Genres column in the previous analysis is more granular, this dataset looking at categories is cleaner and more concise. It can be more successfully compared to the App Store data set.\n",
    "\n",
    "There are some hard contrasts that can be seen here versus the App Store data. The top category here is Family, at almost 19% of all apps. Game(s) is still a top category, but the margins are very low. Tools is the third highest category.\n",
    "\n",
    "The spread of the frequency of the types of apps in the Google Play store is still more evenly distributed than in the App Store."
   ]
  },
  {
   "cell_type": "code",
   "execution_count": 24,
   "metadata": {},
   "outputs": [
    {
     "name": "stdout",
     "output_type": "stream",
     "text": [
      "FAMILY : 18.907942238267147\n",
      "GAME : 9.724729241877256\n",
      "TOOLS : 8.461191335740072\n",
      "BUSINESS : 4.591606498194946\n",
      "LIFESTYLE : 3.9034296028880866\n",
      "PRODUCTIVITY : 3.892148014440433\n",
      "FINANCE : 3.7003610108303246\n",
      "MEDICAL : 3.531137184115524\n",
      "SPORTS : 3.395758122743682\n",
      "PERSONALIZATION : 3.3167870036101084\n",
      "COMMUNICATION : 3.2378158844765346\n",
      "HEALTH_AND_FITNESS : 3.0798736462093865\n",
      "PHOTOGRAPHY : 2.944494584837545\n",
      "NEWS_AND_MAGAZINES : 2.7978339350180503\n",
      "SOCIAL : 2.6624548736462095\n",
      "TRAVEL_AND_LOCAL : 2.33528880866426\n",
      "SHOPPING : 2.2450361010830324\n",
      "BOOKS_AND_REFERENCE : 2.1435018050541514\n",
      "DATING : 1.861462093862816\n",
      "VIDEO_PLAYERS : 1.7937725631768955\n",
      "MAPS_AND_NAVIGATION : 1.3989169675090252\n",
      "FOOD_AND_DRINK : 1.2409747292418771\n",
      "EDUCATION : 1.1620036101083033\n",
      "ENTERTAINMENT : 0.9589350180505415\n",
      "LIBRARIES_AND_DEMO : 0.9363718411552346\n",
      "AUTO_AND_VEHICLES : 0.9250902527075812\n",
      "HOUSE_AND_HOME : 0.8235559566787004\n",
      "WEATHER : 0.8009927797833934\n",
      "EVENTS : 0.7107400722021661\n",
      "PARENTING : 0.6543321299638989\n",
      "ART_AND_DESIGN : 0.6430505415162455\n",
      "COMICS : 0.6204873646209386\n",
      "BEAUTY : 0.5979241877256317\n"
     ]
    }
   ],
   "source": [
    "display_table(android, 1)"
   ]
  },
  {
   "cell_type": "markdown",
   "metadata": {},
   "source": [
    "Overall, games is a dominant app genre present in both marketplaces. However, this analysis does not prove that games apps are the most succesful of all the different genres. For that it is also important to take into account user feedback, in the form of ratings, total number of ratings, and total number of users."
   ]
  },
  {
   "cell_type": "code",
   "execution_count": null,
   "metadata": {},
   "outputs": [],
   "source": []
  }
 ],
 "metadata": {
  "kernelspec": {
   "display_name": "Python 3",
   "language": "python",
   "name": "python3"
  },
  "language_info": {
   "codemirror_mode": {
    "name": "ipython",
    "version": 3
   },
   "file_extension": ".py",
   "mimetype": "text/x-python",
   "name": "python",
   "nbconvert_exporter": "python",
   "pygments_lexer": "ipython3",
   "version": "3.8.5"
  }
 },
 "nbformat": 4,
 "nbformat_minor": 4
}
