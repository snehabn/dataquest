{
 "cells": [
  {
   "cell_type": "markdown",
   "metadata": {},
   "source": [
    "# Hacker News Analysis"
   ]
  },
  {
   "cell_type": "code",
   "execution_count": 1,
   "metadata": {},
   "outputs": [
    {
     "name": "stdout",
     "output_type": "stream",
     "text": [
      "['id', 'title', 'url', 'num_points', 'num_comments', 'author', 'created_at']\n",
      "\n",
      "\n",
      "[['12579008', 'You have two days to comment if you want stem cells to be classified as your own', 'http://www.regulations.gov/document?D=FDA-2015-D-3719-0018', '1', '0', 'altstar', '9/26/2016 3:26'], ['12579005', 'SQLAR  the SQLite Archiver', 'https://www.sqlite.org/sqlar/doc/trunk/README.md', '1', '0', 'blacksqr', '9/26/2016 3:24']]\n"
     ]
    }
   ],
   "source": [
    "from csv import reader\n",
    "hn_opened_file = open(\"HN_posts_year_to_Sep_26_2016.csv\")\n",
    "hn_read_file = reader(hn_opened_file)\n",
    "hn_full_data = list(hn_read_file)\n",
    "hn_header = hn_full_data[0]\n",
    "hn = hn_full_data[1:]\n",
    "print(hn_header)\n",
    "print('\\n')\n",
    "print(hn[0:2])"
   ]
  },
  {
   "cell_type": "code",
   "execution_count": 2,
   "metadata": {},
   "outputs": [
    {
     "name": "stdout",
     "output_type": "stream",
     "text": [
      "80401\n",
      "[['12578975', 'Saving the Hassle of Shopping', 'https://blog.menswr.com/2016/09/07/whats-new-with-your-style-feed/', '1', '1', 'bdoux', '9/26/2016 3:13'], ['12578908', 'Ask HN: What TLD do you use for local development?', '', '4', '7', 'Sevrene', '9/26/2016 2:53'], ['12578822', 'Amazons Algorithms Dont Find You the Best Deals', 'https://www.technologyreview.com/s/602442/amazons-algorithms-dont-find-you-the-best-deals/', '1', '1', 'yarapavan', '9/26/2016 2:26']]\n"
     ]
    }
   ],
   "source": [
    "hn_clean = []\n",
    "for row in hn:\n",
    "    if int(row[4]) > 0:\n",
    "        hn_clean.append(row)\n",
    "print(len(hn_clean))\n",
    "print(hn_clean[0:3])"
   ]
  },
  {
   "cell_type": "code",
   "execution_count": 3,
   "metadata": {},
   "outputs": [
    {
     "name": "stdout",
     "output_type": "stream",
     "text": [
      "There are 6911 ask posts.\n",
      "There are 5059 show posts.\n",
      "There are 68431 other posts.\n",
      "['id', 'title', 'url', 'num_points', 'num_comments', 'author', 'created_at']\n"
     ]
    }
   ],
   "source": [
    "ask_posts = []\n",
    "show_posts = []\n",
    "other_posts = []\n",
    "for row in hn_clean:\n",
    "    title = row[1].lower()\n",
    "    if title.startswith('ask hn'):\n",
    "        ask_posts.append(row)\n",
    "    elif title.startswith('show hn'):\n",
    "        show_posts.append(row)\n",
    "    else:\n",
    "        other_posts.append(row)\n",
    "\n",
    "print('There are', len(ask_posts), 'ask posts.')\n",
    "print('There are', len(show_posts), 'show posts.')\n",
    "print('There are', len(other_posts), 'other posts.')\n",
    "print(hn_header)"
   ]
  },
  {
   "cell_type": "code",
   "execution_count": 4,
   "metadata": {},
   "outputs": [
    {
     "name": "stdout",
     "output_type": "stream",
     "text": [
      "There are 94986 total ask comments.\n",
      "There are an average of 13.744175951381855 comments per ask post.\n"
     ]
    }
   ],
   "source": [
    "total_ask_comments = 0\n",
    "for post in ask_posts:\n",
    "    num_comments = int(post[4])\n",
    "    total_ask_comments += num_comments\n",
    "print('There are', total_ask_comments, 'total ask comments.')\n",
    "avg_ask_comments = total_ask_comments/len(ask_posts)\n",
    "print('There are an average of', avg_ask_comments, 'comments per ask post.')"
   ]
  },
  {
   "cell_type": "code",
   "execution_count": 5,
   "metadata": {},
   "outputs": [
    {
     "name": "stdout",
     "output_type": "stream",
     "text": [
      "There are 49633 total show comments.\n",
      "There are an average of 9.810832180272781 comments per show post.\n"
     ]
    }
   ],
   "source": [
    "total_show_comments = 0\n",
    "for post in show_posts:\n",
    "    num_comments = int(post[4])\n",
    "    total_show_comments += num_comments\n",
    "print('There are', total_show_comments, 'total show comments.')\n",
    "avg_show_comments = total_show_comments/len(show_posts)\n",
    "print('There are an average of', avg_show_comments, 'comments per show post.')"
   ]
  },
  {
   "cell_type": "markdown",
   "metadata": {},
   "source": [
    "On average, the Ask HN posts receive more comments than the Show HN posts."
   ]
  },
  {
   "cell_type": "code",
   "execution_count": 6,
   "metadata": {},
   "outputs": [
    {
     "name": "stdout",
     "output_type": "stream",
     "text": [
      "6911\n",
      "[['9/26/2016 2:53', 7], ['9/26/2016 1:17', 3], ['9/25/2016 22:48', 3]]\n",
      "\n",
      "\n",
      "{2: 227, 1: 223, 22: 287, 21: 407, 19: 420, 17: 404, 15: 467, 14: 378, 13: 326, 11: 251, 10: 219, 9: 176, 7: 157, 3: 212, 16: 415, 8: 190, 0: 231, 23: 276, 20: 392, 18: 452, 12: 274, 4: 186, 6: 176, 5: 165}\n",
      "\n",
      "\n",
      "{2: 2990, 1: 2087, 22: 3370, 21: 4499, 19: 3954, 17: 5545, 15: 18513, 14: 4970, 13: 7244, 11: 2796, 10: 3008, 9: 1381, 7: 1582, 3: 2154, 16: 4462, 8: 2356, 0: 2276, 23: 2292, 20: 4461, 18: 4866, 12: 4229, 4: 2359, 6: 1587, 5: 1836}\n"
     ]
    }
   ],
   "source": [
    "from datetime import datetime as dt\n",
    "result_list = []\n",
    "for post in ask_posts:\n",
    "    created_at = post[6]\n",
    "    num_comments = int(post[4])\n",
    "    result_list.append([created_at, num_comments])\n",
    "    \n",
    "print(len(result_list))\n",
    "print(result_list[0:3])\n",
    "\n",
    "counts_by_hour = {}\n",
    "comments_by_hour = {}\n",
    "\n",
    "for row in result_list:\n",
    "    date_raw = row[0]\n",
    "       \n",
    "    # convert string to datetime\n",
    "    date = dt.strptime(date_raw, \"%m/%d/%Y %H:%M\")\n",
    "    hour = date.hour\n",
    "    \n",
    "    if hour not in counts_by_hour:\n",
    "        counts_by_hour[hour] = 1\n",
    "        comments_by_hour[hour] = 1\n",
    "    else:\n",
    "        counts_by_hour[hour] += 1\n",
    "        comments_by_hour[hour] += row[1]\n",
    "print('\\n')\n",
    "print(counts_by_hour)\n",
    "print('\\n')\n",
    "print(comments_by_hour)            \n",
    "    \n",
    "    "
   ]
  },
  {
   "cell_type": "code",
   "execution_count": 7,
   "metadata": {},
   "outputs": [
    {
     "name": "stdout",
     "output_type": "stream",
     "text": [
      "[[2, 13.17180616740088], [1, 9.358744394618833], [22, 11.742160278745645], [21, 11.054054054054054], [19, 9.414285714285715], [17, 13.725247524752476], [15, 39.642398286937905], [14, 13.148148148148149], [13, 22.220858895705522], [11, 11.139442231075698], [10, 13.735159817351597], [9, 7.846590909090909], [7, 10.07643312101911], [3, 10.160377358490566], [16, 10.751807228915663], [8, 12.4], [0, 9.852813852813853], [23, 8.304347826086957], [20, 11.380102040816327], [18, 10.765486725663717], [12, 15.434306569343066], [4, 12.682795698924732], [6, 9.017045454545455], [5, 11.127272727272727]]\n"
     ]
    }
   ],
   "source": [
    "avg_by_hour = []\n",
    "for hour in comments_by_hour:\n",
    "    avg_by_hour.append([hour, comments_by_hour[hour]/counts_by_hour[hour]])\n",
    "print(avg_by_hour)"
   ]
  },
  {
   "cell_type": "code",
   "execution_count": 20,
   "metadata": {},
   "outputs": [
    {
     "name": "stdout",
     "output_type": "stream",
     "text": [
      "[[39.642398286937905, 15], [22.220858895705522, 13], [15.434306569343066, 12], [13.735159817351597, 10], [13.725247524752476, 17]]\n",
      "\n",
      "\n",
      "Top 5 Hours for Ask Posts Comments\n",
      "At 15:00: There were 39.64 average comments per post.\n",
      "At 13:00: There were 22.22 average comments per post.\n",
      "At 12:00: There were 15.43 average comments per post.\n",
      "At 10:00: There were 13.74 average comments per post.\n",
      "At 17:00: There were 13.73 average comments per post.\n"
     ]
    }
   ],
   "source": [
    "# sorting\n",
    "\n",
    "swap_avg_by_hour = []\n",
    "\n",
    "for row in avg_by_hour:\n",
    "    #print(row)\n",
    "    swap_avg_by_hour.append([row[1], row[0]])\n",
    "    \n",
    "#print(swap_avg_by_hour)\n",
    "\n",
    "sorted_swap = sorted(swap_avg_by_hour, reverse=True)\n",
    "print(sorted_swap[:5])\n",
    "print('\\n')\n",
    "print(\"Top 5 Hours for Ask Posts Comments\")\n",
    "top_five = \"At \"\"{}\"\": There were \"\"{:.2f}\" \" average comments per post.\"\n",
    "for row in sorted_swap[:5]:\n",
    "    hour = dt.strptime(str(row[1]),\"%H\").strftime(\"%H:%M\")\n",
    "    print(top_five.format(hour, row[0]))"
   ]
  },
  {
   "cell_type": "code",
   "execution_count": null,
   "metadata": {},
   "outputs": [],
   "source": []
  }
 ],
 "metadata": {
  "kernelspec": {
   "display_name": "Python 3",
   "language": "python",
   "name": "python3"
  },
  "language_info": {
   "codemirror_mode": {
    "name": "ipython",
    "version": 3
   },
   "file_extension": ".py",
   "mimetype": "text/x-python",
   "name": "python",
   "nbconvert_exporter": "python",
   "pygments_lexer": "ipython3",
   "version": "3.8.5"
  }
 },
 "nbformat": 4,
 "nbformat_minor": 4
}
